{
 "cells": [
  {
   "cell_type": "code",
   "execution_count": 1,
   "id": "b6824489",
   "metadata": {},
   "outputs": [
    {
     "name": "stdout",
     "output_type": "stream",
     "text": [
      "Populating the interactive namespace from numpy and matplotlib\n"
     ]
    }
   ],
   "source": [
    "%pylab inline"
   ]
  },
  {
   "cell_type": "code",
   "execution_count": 2,
   "id": "7526c7c8",
   "metadata": {},
   "outputs": [],
   "source": [
    "from sklearn import ensemble, model_selection, datasets, metrics, tree\n",
    "from sklearn.datasets import load_digits\n",
    "from sklearn.model_selection import cross_val_score\n",
    "from sklearn.tree import DecisionTreeClassifier\n",
    "from sklearn.ensemble import BaggingClassifier\n",
    "from sklearn.ensemble import RandomForestClassifier\n",
    "\n",
    "import numpy as np\n",
    "import pandas as pd"
   ]
  },
  {
   "cell_type": "markdown",
   "id": "46e4ad21",
   "metadata": {},
   "source": [
    "Импортируем датасет digits и подготавливаем матрицу признаков и ответы на обучающей выборке"
   ]
  },
  {
   "cell_type": "code",
   "execution_count": 3,
   "id": "2f6298ce",
   "metadata": {},
   "outputs": [],
   "source": [
    "digits = load_digits()\n",
    "\n",
    "X = digits.data\n",
    "y = digits.target"
   ]
  },
  {
   "cell_type": "markdown",
   "id": "6d76c808",
   "metadata": {},
   "source": [
    "### Задание 1\n",
    "Создаем решающее дерево с настройками по умолчанию и измеряем качество его работы"
   ]
  },
  {
   "cell_type": "code",
   "execution_count": 4,
   "id": "30ddd3aa",
   "metadata": {},
   "outputs": [],
   "source": [
    "clf = DecisionTreeClassifier()"
   ]
  },
  {
   "cell_type": "code",
   "execution_count": 5,
   "id": "c7ed58f4",
   "metadata": {},
   "outputs": [],
   "source": [
    "def write_answer_1(score_1):\n",
    "    with open(\"answer_1.txt\", \"w\") as fout:\n",
    "        fout.write(str(score_1))"
   ]
  },
  {
   "cell_type": "code",
   "execution_count": 6,
   "id": "7db7f937",
   "metadata": {},
   "outputs": [
    {
     "name": "stdout",
     "output_type": "stream",
     "text": [
      "0.8191185599006829\n"
     ]
    }
   ],
   "source": [
    "score_1 = cross_val_score(clf, X, y, cv = 10).mean()\n",
    "print(score_1)      \n",
    "write_answer_1(score_1)"
   ]
  },
  {
   "cell_type": "markdown",
   "id": "42c8bf02",
   "metadata": {},
   "source": [
    "### Задание 2\n",
    "Обучаем бэггинг с настройками по умолчанию над 100 решающими деревьями"
   ]
  },
  {
   "cell_type": "code",
   "execution_count": 7,
   "id": "b1029cea",
   "metadata": {},
   "outputs": [],
   "source": [
    "clf = BaggingClassifier(n_estimators = 100)"
   ]
  },
  {
   "cell_type": "code",
   "execution_count": 8,
   "id": "109794a3",
   "metadata": {},
   "outputs": [],
   "source": [
    "def write_answer_2(score_2):\n",
    "    with open(\"answer_2.txt\", \"w\") as fout:\n",
    "        fout.write(str(score_2))"
   ]
  },
  {
   "cell_type": "code",
   "execution_count": 9,
   "id": "283d6107",
   "metadata": {},
   "outputs": [
    {
     "name": "stdout",
     "output_type": "stream",
     "text": [
      "0.921489757914339\n"
     ]
    }
   ],
   "source": [
    "score_2 = cross_val_score(clf, X, y, cv = 10).mean()\n",
    "print(score_2)      \n",
    "write_answer_2(score_2)"
   ]
  },
  {
   "cell_type": "markdown",
   "id": "538e1a46",
   "metadata": {},
   "source": [
    "### Задание 3\n",
    "Выберем параметры BaggingClassifier таким образом, чтобы каждый базовый алгоритм обучался не на всех $d$ признаках, а на $\\sqrt{d}$ случайных признаков"
   ]
  },
  {
   "cell_type": "code",
   "execution_count": 10,
   "id": "264bd74f",
   "metadata": {},
   "outputs": [],
   "source": [
    "clf = BaggingClassifier(n_estimators = 100, max_features = 8)"
   ]
  },
  {
   "cell_type": "code",
   "execution_count": 11,
   "id": "f77c6fd0",
   "metadata": {},
   "outputs": [],
   "source": [
    "def write_answer_3(score_3):\n",
    "    with open(\"answer_3.txt\", \"w\") as fout:\n",
    "        fout.write(str(score_3))"
   ]
  },
  {
   "cell_type": "code",
   "execution_count": 12,
   "id": "786505d4",
   "metadata": {},
   "outputs": [
    {
     "name": "stdout",
     "output_type": "stream",
     "text": [
      "0.9293202979515829\n"
     ]
    }
   ],
   "source": [
    "score_3 = cross_val_score(clf, X, y, cv = 10).mean()\n",
    "print(score_3)      \n",
    "write_answer_3(score_3)"
   ]
  },
  {
   "cell_type": "markdown",
   "id": "7cf76436",
   "metadata": {},
   "source": [
    "### Задание 4\n",
    "Теперь будем выбирать случайные признаки не один раз на все дерево, а при построении каждой вершины дерева"
   ]
  },
  {
   "cell_type": "code",
   "execution_count": 13,
   "id": "435a8f71",
   "metadata": {},
   "outputs": [],
   "source": [
    "clf = BaggingClassifier(base_estimator = DecisionTreeClassifier(max_features = \"sqrt\"), n_estimators = 100)"
   ]
  },
  {
   "cell_type": "code",
   "execution_count": 14,
   "id": "86f04df2",
   "metadata": {},
   "outputs": [],
   "source": [
    "def write_answer_4(score_4):\n",
    "    with open(\"answer_4.txt\", \"w\") as fout:\n",
    "        fout.write(str(score_4))"
   ]
  },
  {
   "cell_type": "code",
   "execution_count": 15,
   "id": "cfa5c385",
   "metadata": {},
   "outputs": [
    {
     "name": "stdout",
     "output_type": "stream",
     "text": [
      "0.9493513345747981\n"
     ]
    }
   ],
   "source": [
    "score_4 = cross_val_score(clf, X, y, cv = 10).mean()\n",
    "print(score_4)      \n",
    "write_answer_4(score_4)"
   ]
  },
  {
   "cell_type": "markdown",
   "id": "6cfa5b64",
   "metadata": {},
   "source": [
    "### Задание 5\n",
    "Рассмотрим RandomForestClassifier и проанализируем, как качество классификации зависит от количества деревьев, количества признаков, выбираемых при построении каждой вершины дерева, а также ограничений на глубину дерева"
   ]
  },
  {
   "cell_type": "code",
   "execution_count": 16,
   "id": "d1e2ef53",
   "metadata": {},
   "outputs": [],
   "source": [
    "clf_base = RandomForestClassifier(n_estimators = 100)"
   ]
  },
  {
   "cell_type": "code",
   "execution_count": 17,
   "id": "a3cf7a9e",
   "metadata": {},
   "outputs": [
    {
     "name": "stdout",
     "output_type": "stream",
     "text": [
      "0.9499130974549969\n"
     ]
    }
   ],
   "source": [
    "print(cross_val_score(clf_base, X, y, cv = 10).mean())"
   ]
  },
  {
   "cell_type": "markdown",
   "id": "6e8e2270",
   "metadata": {},
   "source": [
    "Построим график зависимости качества классификации от количества деревьев"
   ]
  },
  {
   "cell_type": "code",
   "execution_count": 18,
   "id": "4febee7f",
   "metadata": {},
   "outputs": [
    {
     "data": {
      "text/plain": [
       "[<matplotlib.lines.Line2D at 0x1276e1c7280>]"
      ]
     },
     "execution_count": 18,
     "metadata": {},
     "output_type": "execute_result"
    },
    {
     "data": {
      "image/png": "[encoded data removed]",
      "text/plain": [
       "<Figure size 432x288 with 1 Axes>"
      ]
     },
     "metadata": {
      "needs_background": "light"
     },
     "output_type": "display_data"
    }
   ],
   "source": [
    "n_estimators = [i**2 for i in range(1, 11)]\n",
    "scores = [cross_val_score(RandomForestClassifier(n_estimators = k), X, y, cv = 10).mean() for k in n_estimators]\n",
    "pylab.grid(True)\n",
    "pylab.plot(n_estimators, scores, 'r-', marker = 'o')"
   ]
  },
  {
   "cell_type": "markdown",
   "id": "aae69abe",
   "metadata": {},
   "source": [
    "Построим график зависимости качества классификации от количества признаков, выбираемых при построении каждой вершины дерева"
   ]
  },
  {
   "cell_type": "code",
   "execution_count": 19,
   "id": "956debdc",
   "metadata": {},
   "outputs": [
    {
     "data": {
      "text/plain": [
       "[<matplotlib.lines.Line2D at 0x127718f8b50>]"
      ]
     },
     "execution_count": 19,
     "metadata": {},
     "output_type": "execute_result"
    },
    {
     "data": {
      "image/png": "[encoded data removed]",
      "text/plain": [
       "<Figure size 432x288 with 1 Axes>"
      ]
     },
     "metadata": {
      "needs_background": "light"
     },
     "output_type": "display_data"
    }
   ],
   "source": [
    "max_features = [i**2 for i in range(1, 9)]\n",
    "scores = [cross_val_score(RandomForestClassifier(n_estimators = 100, max_features = k),\n",
    "                                                 X, y, cv = 10).mean() for k in max_features]\n",
    "pylab.grid(True)\n",
    "pylab.plot(max_features, scores, 'r-', marker = 'o')"
   ]
  },
  {
   "cell_type": "markdown",
   "id": "b87e96d0",
   "metadata": {},
   "source": [
    "Построим график зависимости качества классификации от допустимой глубины дерева"
   ]
  },
  {
   "cell_type": "code",
   "execution_count": 20,
   "id": "fc6aafc2",
   "metadata": {},
   "outputs": [
    {
     "data": {
      "text/plain": [
       "[<matplotlib.lines.Line2D at 0x127718c63d0>]"
      ]
     },
     "execution_count": 20,
     "metadata": {},
     "output_type": "execute_result"
    },
    {
     "data": {
      "image/png": "[encoded data removed]",
      "text/plain": [
       "<Figure size 432x288 with 1 Axes>"
      ]
     },
     "metadata": {
      "needs_background": "light"
     },
     "output_type": "display_data"
    }
   ],
   "source": [
    "max_depth = [i**2 for i in range(1, 11)]\n",
    "scores = [cross_val_score(RandomForestClassifier(n_estimators = 100, max_depth = k),\n",
    "                                                 X, y, cv = 10).mean() for k in max_depth]\n",
    "pylab.grid(True)\n",
    "pylab.plot(max_depth, scores, 'r-', marker = 'o')"
   ]
  },
  {
   "cell_type": "code",
   "execution_count": 21,
   "id": "568aae7f",
   "metadata": {},
   "outputs": [],
   "source": [
    "def write_answer_5():\n",
    "    with open(\"answer_5.txt\", \"w\") as fout:\n",
    "        fout.write(\" \".join(str(num) for num in [2, 3, 4, 7]))"
   ]
  },
  {
   "cell_type": "code",
   "execution_count": 22,
   "id": "731421b0",
   "metadata": {},
   "outputs": [],
   "source": [
    "write_answer_5()"
   ]
  }
 ],
 "metadata": {
  "kernelspec": {
   "display_name": "Python 3",
   "language": "python",
   "name": "python3"
  },
  "language_info": {
   "codemirror_mode": {
    "name": "ipython",
    "version": 3
   },
   "file_extension": ".py",
   "mimetype": "text/x-python",
   "name": "python",
   "nbconvert_exporter": "python",
   "pygments_lexer": "ipython3",
   "version": "3.8.8"
  }
 },
 "nbformat": 4,
 "nbformat_minor": 5
}
