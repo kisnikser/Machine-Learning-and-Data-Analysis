{
 "cells": [
  {
   "cell_type": "code",
   "execution_count": 51,
   "id": "81c27237",
   "metadata": {},
   "outputs": [],
   "source": [
    "from sklearn.datasets import load_digits\n",
    "from sklearn.model_selection import cross_val_score, train_test_split\n",
    "from sklearn.metrics import accuracy_score\n",
    "from sklearn.ensemble import RandomForestClassifier\n",
    "import numpy as np"
   ]
  },
  {
   "cell_type": "code",
   "execution_count": 16,
   "id": "e7a65d57",
   "metadata": {},
   "outputs": [],
   "source": [
    "X = load_digits().data\n",
    "y = load_digits().target"
   ]
  },
  {
   "cell_type": "code",
   "execution_count": 17,
   "id": "2e2d6176",
   "metadata": {},
   "outputs": [],
   "source": [
    "X_train, X_test, y_train, y_test = train_test_split(X, y, train_size = 0.75, shuffle = False)"
   ]
  },
  {
   "cell_type": "code",
   "execution_count": 39,
   "id": "d78c563d",
   "metadata": {},
   "outputs": [],
   "source": [
    "def one_neighbor_classifier_predict(X_train, X_test, y_train):\n",
    "    y_predicted = []\n",
    "    for i in range(len(X_test)):\n",
    "        neighbors = []\n",
    "        for j in range(len(X_train)):\n",
    "            neighbors.append([np.linalg.norm(X_test[i] - X_train[j]), y_train[j]])\n",
    "        neighbors.sort()\n",
    "        y_predicted.append(neighbors[0][1])\n",
    "    return y_predicted"
   ]
  },
  {
   "cell_type": "code",
   "execution_count": 40,
   "id": "a9a31fc9",
   "metadata": {
    "scrolled": true
   },
   "outputs": [],
   "source": [
    "y_predicted = one_neighbor_classifier_predict(X_train, X_test, y_train)"
   ]
  },
  {
   "cell_type": "code",
   "execution_count": 41,
   "id": "c84500de",
   "metadata": {},
   "outputs": [
    {
     "name": "stdout",
     "output_type": "stream",
     "text": [
      "[3 7 3 3 4 6 6 6 4 9]\n",
      "[3, 7, 3, 3, 4, 6, 6, 6, 4, 9]\n"
     ]
    }
   ],
   "source": [
    "print(y_test[:10])\n",
    "print(y_predicted[:10])"
   ]
  },
  {
   "cell_type": "code",
   "execution_count": 45,
   "id": "963dc25f",
   "metadata": {},
   "outputs": [],
   "source": [
    "score_1nn = accuracy_score(y_test, y_predicted)"
   ]
  },
  {
   "cell_type": "code",
   "execution_count": 46,
   "id": "bfdb0581",
   "metadata": {},
   "outputs": [],
   "source": [
    "def write_answer_1(error_1):\n",
    "    with open(\"vs_answer_1.txt\", \"w\") as fout:\n",
    "        fout.write(str(error_1))"
   ]
  },
  {
   "cell_type": "code",
   "execution_count": 47,
   "id": "4c840080",
   "metadata": {},
   "outputs": [],
   "source": [
    "write_answer_1(1 - score_1nn)"
   ]
  },
  {
   "cell_type": "code",
   "execution_count": 55,
   "id": "10e7ddef",
   "metadata": {},
   "outputs": [],
   "source": [
    "clf = RandomForestClassifier(n_estimators = 1000)\n",
    "\n",
    "clf.fit(X_train, y_train)\n",
    "\n",
    "y_predicted_rfc = clf.predict(X_test)\n",
    "\n",
    "score_rfc = accuracy_score(y_test, y_predicted_rfc)"
   ]
  },
  {
   "cell_type": "code",
   "execution_count": 56,
   "id": "571fe8a6",
   "metadata": {},
   "outputs": [],
   "source": [
    "def write_answer_2(error_2):\n",
    "    with open(\"vs_answer_2.txt\", \"w\") as fout:\n",
    "        fout.write(str(error_2))"
   ]
  },
  {
   "cell_type": "code",
   "execution_count": 57,
   "id": "f582f66f",
   "metadata": {},
   "outputs": [],
   "source": [
    "write_answer_2(1 - score_rfc)"
   ]
  }
 ],
 "metadata": {
  "kernelspec": {
   "display_name": "Python 3",
   "language": "python",
   "name": "python3"
  },
  "language_info": {
   "codemirror_mode": {
    "name": "ipython",
    "version": 3
   },
   "file_extension": ".py",
   "mimetype": "text/x-python",
   "name": "python",
   "nbconvert_exporter": "python",
   "pygments_lexer": "ipython3",
   "version": "3.8.8"
  }
 },
 "nbformat": 4,
 "nbformat_minor": 5
}
