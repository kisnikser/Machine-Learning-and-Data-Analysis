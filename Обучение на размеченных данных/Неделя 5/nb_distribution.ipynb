{
 "cells": [
  {
   "cell_type": "code",
   "execution_count": 15,
   "id": "ff158ad3",
   "metadata": {},
   "outputs": [],
   "source": [
    "from sklearn.datasets import load_digits, load_breast_cancer\n",
    "from sklearn.naive_bayes import BernoulliNB, MultinomialNB, GaussianNB\n",
    "from sklearn.model_selection import cross_val_score"
   ]
  },
  {
   "cell_type": "code",
   "execution_count": 16,
   "id": "c848dd21",
   "metadata": {},
   "outputs": [],
   "source": [
    "X_d = load_digits().data\n",
    "y_d = load_digits().target\n",
    "\n",
    "X_bc = load_breast_cancer().data\n",
    "y_bc = load_breast_cancer().target"
   ]
  },
  {
   "cell_type": "code",
   "execution_count": 34,
   "id": "27df35ac",
   "metadata": {},
   "outputs": [
    {
     "name": "stdout",
     "output_type": "stream",
     "text": [
      "digits\n",
      "\n",
      "[ 0.  0.  5. 13.  9.  1.  0.  0.  0.  0. 13. 15. 10. 15.  5.  0.  0.  3.\n",
      " 15.  2.  0. 11.  8.  0.  0.  4. 12.  0.  0.  8.  8.  0.  0.  5.  8.  0.\n",
      "  0.  9.  8.  0.  0.  4. 11.  0.  1. 12.  7.  0.  0.  2. 14.  5. 10. 12.\n",
      "  0.  0.  0.  0.  6. 13. 10.  0.  0.  0.]\n",
      "\n",
      "breast cancer\n",
      "\n",
      "[1.799e+01 1.038e+01 1.228e+02 1.001e+03 1.184e-01 2.776e-01 3.001e-01\n",
      " 1.471e-01 2.419e-01 7.871e-02 1.095e+00 9.053e-01 8.589e+00 1.534e+02\n",
      " 6.399e-03 4.904e-02 5.373e-02 1.587e-02 3.003e-02 6.193e-03 2.538e+01\n",
      " 1.733e+01 1.846e+02 2.019e+03 1.622e-01 6.656e-01 7.119e-01 2.654e-01\n",
      " 4.601e-01 1.189e-01]\n"
     ]
    }
   ],
   "source": [
    "print('digits\\n')\n",
    "print(X_d[0])\n",
    "print('\\nbreast cancer\\n')\n",
    "print(X_bc[0])"
   ]
  },
  {
   "cell_type": "code",
   "execution_count": 25,
   "id": "db63df3e",
   "metadata": {},
   "outputs": [],
   "source": [
    "score_d_bernoulli = cross_val_score(BernoulliNB(), X_d, y_d).mean()\n",
    "score_d_multinomial = cross_val_score(MultinomialNB(), X_d, y_d).mean()\n",
    "score_d_gaussian = cross_val_score(GaussianNB(), X_d, y_d).mean()\n",
    "\n",
    "score_bc_bernoulli = cross_val_score(BernoulliNB(), X_bc, y_bc).mean()\n",
    "score_bc_multinomial = cross_val_score(MultinomialNB(), X_bc, y_bc).mean()\n",
    "score_bc_gaussian = cross_val_score(GaussianNB(), X_bc, y_bc).mean()"
   ]
  },
  {
   "cell_type": "code",
   "execution_count": 31,
   "id": "753a38ac",
   "metadata": {},
   "outputs": [
    {
     "name": "stdout",
     "output_type": "stream",
     "text": [
      "digits\n",
      "\n",
      "BernoulliNB: score = 0.824174\n",
      "MultinomialNB: score = 0.870350\n",
      "GaussianNB: score = 0.806928\n",
      "\n",
      "breast_cancer\n",
      "\n",
      "BernoulliNB: score = 0.627418\n",
      "MultinomialNB: score = 0.896320\n",
      "GaussianNB: score = 0.938519\n"
     ]
    }
   ],
   "source": [
    "print('digits\\n')\n",
    "print('BernoulliNB: score = %f' % score_d_bernoulli)\n",
    "print('MultinomialNB: score = %f' % score_d_multinomial)\n",
    "print('GaussianNB: score = %f' % score_d_gaussian)\n",
    "print('\\nbreast_cancer\\n')\n",
    "print('BernoulliNB: score = %f' % score_bc_bernoulli)\n",
    "print('MultinomialNB: score = %f' % score_bc_multinomial)\n",
    "print('GaussianNB: score = %f' % score_bc_gaussian)"
   ]
  },
  {
   "cell_type": "code",
   "execution_count": 35,
   "id": "98b8ea6b",
   "metadata": {},
   "outputs": [],
   "source": [
    "def write_answer_1(score_1):\n",
    "    with open(\"nb_answer_1.txt\", \"w\") as fout:\n",
    "        fout.write(str(score_1))"
   ]
  },
  {
   "cell_type": "code",
   "execution_count": 36,
   "id": "51e298fc",
   "metadata": {},
   "outputs": [],
   "source": [
    "write_answer_1(score_bc_gaussian)"
   ]
  },
  {
   "cell_type": "code",
   "execution_count": 37,
   "id": "5f39f9ca",
   "metadata": {},
   "outputs": [],
   "source": [
    "def write_answer_2(score_2):\n",
    "    with open(\"nb_answer_2.txt\", \"w\") as fout:\n",
    "        fout.write(str(score_2))"
   ]
  },
  {
   "cell_type": "code",
   "execution_count": 38,
   "id": "6101db23",
   "metadata": {},
   "outputs": [],
   "source": [
    "write_answer_2(score_d_multinomial)"
   ]
  },
  {
   "cell_type": "code",
   "execution_count": 39,
   "id": "f74807aa",
   "metadata": {},
   "outputs": [],
   "source": [
    "def write_answer_3():\n",
    "    with open(\"nb_answer_3.txt\", \"w\") as fout:\n",
    "        fout.write(\" \".join(str(num) for num in [3, 4]))"
   ]
  },
  {
   "cell_type": "code",
   "execution_count": 40,
   "id": "4fb2a41c",
   "metadata": {},
   "outputs": [],
   "source": [
    "write_answer_3()"
   ]
  }
 ],
 "metadata": {
  "kernelspec": {
   "display_name": "Python 3",
   "language": "python",
   "name": "python3"
  },
  "language_info": {
   "codemirror_mode": {
    "name": "ipython",
    "version": 3
   },
   "file_extension": ".py",
   "mimetype": "text/x-python",
   "name": "python",
   "nbconvert_exporter": "python",
   "pygments_lexer": "ipython3",
   "version": "3.8.8"
  }
 },
 "nbformat": 4,
 "nbformat_minor": 5
}
