{
 "cells": [
  {
   "cell_type": "markdown",
   "id": "05d405c5",
   "metadata": {},
   "source": [
    "Импортируем необходимые библиотеки"
   ]
  },
  {
   "cell_type": "code",
   "execution_count": 10,
   "id": "a7afa70a",
   "metadata": {},
   "outputs": [],
   "source": [
    "import csv\n",
    "import numpy as np\n",
    "import pandas as pd\n",
    "from sklearn.cluster import MeanShift"
   ]
  },
  {
   "cell_type": "markdown",
   "id": "dedd3018",
   "metadata": {},
   "source": [
    "Преобразуем исходный файл в __checkins.csv__, убрав пустые строки и разделители"
   ]
  },
  {
   "cell_type": "code",
   "execution_count": 3,
   "id": "9c404bb5",
   "metadata": {},
   "outputs": [],
   "source": [
    "with open('checkins.dat', 'r') as fin:      \n",
    "    newLines = []\n",
    "    for line in fin:\n",
    "        newLine = [x.strip() for x in line.split('|')]\n",
    "        if len(newLine) == 6 and newLine[3] and newLine[4]:\n",
    "            newLines.append(newLine)\n",
    "            \n",
    "with open('checkins.csv', 'w') as fout:\n",
    "    file_writer = csv.writer(fout)\n",
    "    file_writer.writerows(newLines)"
   ]
  },
  {
   "cell_type": "markdown",
   "id": "a64226b5",
   "metadata": {},
   "source": [
    "Построим DataFrame и убедимся в целостности файла"
   ]
  },
  {
   "cell_type": "code",
   "execution_count": 54,
   "id": "1aa74ac6",
   "metadata": {},
   "outputs": [],
   "source": [
    "dataset = pd.read_csv('checkins.csv')"
   ]
  },
  {
   "cell_type": "code",
   "execution_count": 55,
   "id": "4c83d4e3",
   "metadata": {},
   "outputs": [
    {
     "data": {
      "text/html": [
       "<div>\n",
       "<style scoped>\n",
       "    .dataframe tbody tr th:only-of-type {\n",
       "        vertical-align: middle;\n",
       "    }\n",
       "\n",
       "    .dataframe tbody tr th {\n",
       "        vertical-align: top;\n",
       "    }\n",
       "\n",
       "    .dataframe thead th {\n",
       "        text-align: right;\n",
       "    }\n",
       "</style>\n",
       "<table border=\"1\" class=\"dataframe\">\n",
       "  <thead>\n",
       "    <tr style=\"text-align: right;\">\n",
       "      <th></th>\n",
       "      <th>id</th>\n",
       "      <th>user_id</th>\n",
       "      <th>venue_id</th>\n",
       "      <th>latitude</th>\n",
       "      <th>longitude</th>\n",
       "      <th>created_at</th>\n",
       "    </tr>\n",
       "  </thead>\n",
       "  <tbody>\n",
       "    <tr>\n",
       "      <th>0</th>\n",
       "      <td>984222</td>\n",
       "      <td>15824</td>\n",
       "      <td>5222</td>\n",
       "      <td>38.895112</td>\n",
       "      <td>-77.036366</td>\n",
       "      <td>2012-04-21 17:43:47</td>\n",
       "    </tr>\n",
       "    <tr>\n",
       "      <th>1</th>\n",
       "      <td>984234</td>\n",
       "      <td>44652</td>\n",
       "      <td>5222</td>\n",
       "      <td>33.800745</td>\n",
       "      <td>-84.410520</td>\n",
       "      <td>2012-04-21 17:43:43</td>\n",
       "    </tr>\n",
       "    <tr>\n",
       "      <th>2</th>\n",
       "      <td>984291</td>\n",
       "      <td>105054</td>\n",
       "      <td>5222</td>\n",
       "      <td>45.523452</td>\n",
       "      <td>-122.676207</td>\n",
       "      <td>2012-04-21 17:39:22</td>\n",
       "    </tr>\n",
       "    <tr>\n",
       "      <th>3</th>\n",
       "      <td>984318</td>\n",
       "      <td>2146539</td>\n",
       "      <td>5222</td>\n",
       "      <td>40.764462</td>\n",
       "      <td>-111.904565</td>\n",
       "      <td>2012-04-21 17:35:46</td>\n",
       "    </tr>\n",
       "    <tr>\n",
       "      <th>4</th>\n",
       "      <td>984232</td>\n",
       "      <td>93870</td>\n",
       "      <td>380645</td>\n",
       "      <td>33.448377</td>\n",
       "      <td>-112.074037</td>\n",
       "      <td>2012-04-21 17:38:18</td>\n",
       "    </tr>\n",
       "    <tr>\n",
       "      <th>...</th>\n",
       "      <td>...</td>\n",
       "      <td>...</td>\n",
       "      <td>...</td>\n",
       "      <td>...</td>\n",
       "      <td>...</td>\n",
       "      <td>...</td>\n",
       "    </tr>\n",
       "    <tr>\n",
       "      <th>396629</th>\n",
       "      <td>955561</td>\n",
       "      <td>626076</td>\n",
       "      <td>20073</td>\n",
       "      <td>40.850100</td>\n",
       "      <td>-73.866246</td>\n",
       "      <td>2012-04-13 09:56:48</td>\n",
       "    </tr>\n",
       "    <tr>\n",
       "      <th>396630</th>\n",
       "      <td>955892</td>\n",
       "      <td>674797</td>\n",
       "      <td>2297</td>\n",
       "      <td>33.748995</td>\n",
       "      <td>-84.387982</td>\n",
       "      <td>2012-04-13 10:56:03</td>\n",
       "    </tr>\n",
       "    <tr>\n",
       "      <th>396631</th>\n",
       "      <td>956377</td>\n",
       "      <td>845102</td>\n",
       "      <td>11195</td>\n",
       "      <td>42.765366</td>\n",
       "      <td>-71.467566</td>\n",
       "      <td>2012-04-13 12:08:45</td>\n",
       "    </tr>\n",
       "    <tr>\n",
       "      <th>396632</th>\n",
       "      <td>956119</td>\n",
       "      <td>1139114</td>\n",
       "      <td>29488</td>\n",
       "      <td>42.439479</td>\n",
       "      <td>-83.743830</td>\n",
       "      <td>2012-04-13 11:36:44</td>\n",
       "    </tr>\n",
       "    <tr>\n",
       "      <th>396633</th>\n",
       "      <td>956733</td>\n",
       "      <td>960666</td>\n",
       "      <td>60</td>\n",
       "      <td>42.331427</td>\n",
       "      <td>-83.045754</td>\n",
       "      <td>2012-04-13 21:56:19</td>\n",
       "    </tr>\n",
       "  </tbody>\n",
       "</table>\n",
       "<p>396634 rows × 6 columns</p>\n",
       "</div>"
      ],
      "text/plain": [
       "            id  user_id  venue_id   latitude   longitude           created_at\n",
       "0       984222    15824      5222  38.895112  -77.036366  2012-04-21 17:43:47\n",
       "1       984234    44652      5222  33.800745  -84.410520  2012-04-21 17:43:43\n",
       "2       984291   105054      5222  45.523452 -122.676207  2012-04-21 17:39:22\n",
       "3       984318  2146539      5222  40.764462 -111.904565  2012-04-21 17:35:46\n",
       "4       984232    93870    380645  33.448377 -112.074037  2012-04-21 17:38:18\n",
       "...        ...      ...       ...        ...         ...                  ...\n",
       "396629  955561   626076     20073  40.850100  -73.866246  2012-04-13 09:56:48\n",
       "396630  955892   674797      2297  33.748995  -84.387982  2012-04-13 10:56:03\n",
       "396631  956377   845102     11195  42.765366  -71.467566  2012-04-13 12:08:45\n",
       "396632  956119  1139114     29488  42.439479  -83.743830  2012-04-13 11:36:44\n",
       "396633  956733   960666        60  42.331427  -83.045754  2012-04-13 21:56:19\n",
       "\n",
       "[396634 rows x 6 columns]"
      ]
     },
     "execution_count": 55,
     "metadata": {},
     "output_type": "execute_result"
    }
   ],
   "source": [
    "dataset"
   ]
  },
  {
   "cell_type": "markdown",
   "id": "be496292",
   "metadata": {},
   "source": [
    "В данном файле слишком много строк, поэтому будем использовать лишь первые 100 000"
   ]
  },
  {
   "cell_type": "code",
   "execution_count": 57,
   "id": "1db59193",
   "metadata": {},
   "outputs": [],
   "source": [
    "subset = dataset[['latitude', 'longitude']][:100000]"
   ]
  },
  {
   "cell_type": "code",
   "execution_count": 58,
   "id": "862f4c64",
   "metadata": {},
   "outputs": [],
   "source": [
    "model = MeanShift(bandwidth = 0.1)"
   ]
  },
  {
   "cell_type": "code",
   "execution_count": 60,
   "id": "fb369253",
   "metadata": {},
   "outputs": [],
   "source": [
    "clustering = model.fit(subset)"
   ]
  },
  {
   "cell_type": "markdown",
   "id": "93ccf3aa",
   "metadata": {},
   "source": [
    "Находим кластеры и количества элементов в них"
   ]
  },
  {
   "cell_type": "code",
   "execution_count": 106,
   "id": "a280d56b",
   "metadata": {},
   "outputs": [
    {
     "name": "stdout",
     "output_type": "stream",
     "text": [
      "Количество кластеров: 3231\n",
      "Первые 10 меток кластеров: [0 1 2 3 4 5 6 7 8 9]\n",
      "Количество элементов в каждом из них: [12506  4692  3994  3363  3526  2409  2297  1601  1526  1378]\n"
     ]
    }
   ],
   "source": [
    "labels_unique, counts_unique = np.unique(clustering.labels_, return_counts = True)\n",
    "\n",
    "print('Количество кластеров: %d' % len(labels_unique))\n",
    "print('Первые 10 меток кластеров:', labels_unique[:10])\n",
    "print('Количество элементов в каждом из них:', counts_unique[:10])"
   ]
  },
  {
   "cell_type": "markdown",
   "id": "8cc6c4c3",
   "metadata": {},
   "source": [
    "Находим оптимальные кластеры - те, в которых более 15 элементов"
   ]
  },
  {
   "cell_type": "code",
   "execution_count": 107,
   "id": "b9c75b44",
   "metadata": {},
   "outputs": [
    {
     "name": "stdout",
     "output_type": "stream",
     "text": [
      "Количество оптимальных кластеров: 592\n"
     ]
    }
   ],
   "source": [
    "labels_opt = [label for label in labels_unique if counts_unique[label] > 15]\n",
    "print('Количество оптимальных кластеров:', len(labels_opt))"
   ]
  },
  {
   "cell_type": "markdown",
   "id": "88f23a3e",
   "metadata": {},
   "source": [
    "Записываем координаты офисов компании"
   ]
  },
  {
   "cell_type": "code",
   "execution_count": 83,
   "id": "3b90c373",
   "metadata": {},
   "outputs": [],
   "source": [
    "offices = [[33.751277, -118.188740],\n",
    "           [25.867736, -80.324116],\n",
    "           [51.503016, -0.075479],\n",
    "           [52.378894, 4.885084],\n",
    "           [39.366487, 117.036146],\n",
    "           [-33.868457, 151.205134]]"
   ]
  },
  {
   "cell_type": "markdown",
   "id": "d15e15d8",
   "metadata": {},
   "source": [
    "Для определения лучших мест размещения рекламы найдем расстояния от офисов компаний до центров кластеров"
   ]
  },
  {
   "cell_type": "code",
   "execution_count": 90,
   "id": "b15ab20a",
   "metadata": {},
   "outputs": [
    {
     "name": "stdout",
     "output_type": "stream",
     "text": [
      "[44.74257091784804, 6.193959165601315, 6.294241462747163, 31.621096640593514, 5.77204797983301]\n",
      "[0, 1, 2, 3, 4]\n"
     ]
    }
   ],
   "source": [
    "dists, labels = [], []\n",
    "for i in range(len(offices)):\n",
    "    for label in labels_opt:\n",
    "        dists.append(np.linalg.norm(offices[i] - clustering.cluster_centers_[label]))\n",
    "        labels.append(label)\n",
    "        \n",
    "print(dists[:5])\n",
    "print(labels[:5])"
   ]
  },
  {
   "cell_type": "markdown",
   "id": "64a059ce",
   "metadata": {},
   "source": [
    "Выберем 20 центров кластеров, наиболее близких к офисам компаний"
   ]
  },
  {
   "cell_type": "code",
   "execution_count": 116,
   "id": "b25c5efd",
   "metadata": {},
   "outputs": [
    {
     "name": "stdout",
     "output_type": "stream",
     "text": [
      "20 ближайших лучших мест для размещения баннеров:\n",
      "[[-3.38606304e+01  1.51204776e+02]\n",
      " [ 5.23729640e+01  4.89231722e+00]\n",
      " [ 2.58456723e+01 -8.03188906e+01]\n",
      " [ 5.15029913e+01 -1.25537289e-01]\n",
      " [ 3.38098780e+01 -1.18148924e+02]\n",
      " [ 2.57858124e+01 -8.02179380e+01]\n",
      " [ 2.57053497e+01 -8.02834287e+01]\n",
      " [ 2.60100982e+01 -8.01999906e+01]\n",
      " [ 3.38883253e+01 -1.18048928e+02]\n",
      " [ 3.38729860e+01 -1.18362091e+02]\n",
      " [ 3.39725748e+01 -1.18168371e+02]\n",
      " [ 2.61388438e+01 -8.03343468e+01]\n",
      " [ 3.39839359e+01 -1.18007405e+02]\n",
      " [ 2.61208627e+01 -8.01589067e+01]\n",
      " [ 3.38173064e+01 -1.17891249e+02]\n",
      " [ 3.40603976e+01 -1.18248709e+02]\n",
      " [ 3.36743027e+01 -1.17858789e+02]\n",
      " [ 2.62005846e+01 -8.02507161e+01]\n",
      " [ 3.40354870e+01 -1.18438998e+02]\n",
      " [ 3.41314601e+01 -1.18118012e+02]]\n",
      "\n",
      "Ближайшее лучшее место для размещения баннера:\n",
      "[-33.86063043 151.20477593]\n"
     ]
    }
   ],
   "source": [
    "dists_np = np.asarray(dists)\n",
    "\n",
    "best_20_coords = []\n",
    "\n",
    "for i in dists_np.argsort()[:20]:\n",
    "    best_20_coords.append(clustering.cluster_centers_[labels[i]])\n",
    "\n",
    "best_20_coords = np.asarray(best_20_coords)\n",
    "print('20 ближайших лучших мест для размещения баннеров:')\n",
    "print(best_20_coords)\n",
    "\n",
    "best_coords = clustering.cluster_centers_[labels[np.argmin(dists_np)]]\n",
    "\n",
    "print('\\nБлижайшее лучшее место для размещения баннера:')\n",
    "print(best_coords)"
   ]
  },
  {
   "cell_type": "code",
   "execution_count": 102,
   "id": "235dd702",
   "metadata": {},
   "outputs": [],
   "source": [
    "with open(\"banners_answer.txt\", \"w\") as fout:\n",
    "    fout.write(str(best_coords[0]) + ' ' + str(best_coords[1]))"
   ]
  },
  {
   "cell_type": "code",
   "execution_count": 118,
   "id": "d05e88cc",
   "metadata": {},
   "outputs": [],
   "source": [
    "with open(\"best_20_coords.txt\", \"w\") as fout:\n",
    "    for coord in best_20_coords:\n",
    "        fout.write(str(coord[0]) + ' ' + str(coord[1]) + '\\n')"
   ]
  }
 ],
 "metadata": {
  "kernelspec": {
   "display_name": "Python 3",
   "language": "python",
   "name": "python3"
  },
  "language_info": {
   "codemirror_mode": {
    "name": "ipython",
    "version": 3
   },
   "file_extension": ".py",
   "mimetype": "text/x-python",
   "name": "python",
   "nbconvert_exporter": "python",
   "pygments_lexer": "ipython3",
   "version": "3.8.8"
  }
 },
 "nbformat": 4,
 "nbformat_minor": 5
}
