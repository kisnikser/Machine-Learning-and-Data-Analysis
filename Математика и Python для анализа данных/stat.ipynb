{
 "cells": [
  {
   "cell_type": "markdown",
   "id": "88a8b8e4",
   "metadata": {},
   "source": [
    "# Центральная предельная теорема своими руками\n",
    "## Цели: \n",
    "- проверить работу центральной предельной теоремы\n",
    "- поработать с генерацией случайных чисел и построением графиков в Python \n"
   ]
  },
  {
   "cell_type": "markdown",
   "id": "3e1ea410",
   "metadata": {},
   "source": [
    "## Задание 1\n",
    "> Выберите ваше любимое непрерывное распределение . Сгенерируйте из него выборку объёма 1000, постройте гистограмму выборки и нарисуйте поверх неё теоретическую плотность распределения вашей случайной величины."
   ]
  },
  {
   "cell_type": "markdown",
   "id": "423c44e9",
   "metadata": {},
   "source": [
    "## Выполнение:"
   ]
  },
  {
   "cell_type": "markdown",
   "id": "088b4b0e",
   "metadata": {},
   "source": [
    "*Объявление необходимых библиотек:*"
   ]
  },
  {
   "cell_type": "code",
   "execution_count": 1,
   "id": "7b296e2e",
   "metadata": {},
   "outputs": [],
   "source": [
    "import numpy as np\n",
    "import array\n",
    "import matplotlib.pyplot as plt\n",
    "import scipy.stats as sts\n",
    "import random\n",
    "import math\n",
    "%matplotlib inline"
   ]
  },
  {
   "cell_type": "markdown",
   "id": "b377d885",
   "metadata": {},
   "source": [
    "*Для выполнения задания я выбрал непрерывное распределение Максвелла, в параметры метода были переданы следущие значения: математическое ожидание равное 0, а дисперсия равное 2:*"
   ]
  },
  {
   "cell_type": "code",
   "execution_count": 2,
   "id": "3da08b0c",
   "metadata": {},
   "outputs": [],
   "source": [
    "maxwell=sts.maxwell(0,2)"
   ]
  },
  {
   "cell_type": "markdown",
   "id": "500cf8c7",
   "metadata": {},
   "source": [
    "*В метод rvs передаем объем выборки, в данном случае 1000*"
   ]
  },
  {
   "cell_type": "code",
   "execution_count": 3,
   "id": "84717699",
   "metadata": {},
   "outputs": [],
   "source": [
    "maxwell_1000=maxwell.rvs(size=1000)"
   ]
  },
  {
   "cell_type": "markdown",
   "id": "d159c6ca",
   "metadata": {},
   "source": [
    "*Строим гистограмму выборки с помощью функции hist, в параметры которой передается массив точек, количество столбцов в гистограмме.\n",
    "С помощью функции plot, строим функцию плотности распределения, используя функцию pdf, и параметр x, который указывает промежуток значений на оси абцисс, и количество точек*"
   ]
  },
  {
   "cell_type": "code",
   "execution_count": 4,
   "id": "7cbbcbec",
   "metadata": {},
   "outputs": [
    {
     "data": {
      "text/plain": [
       "[<matplotlib.lines.Line2D at 0x1aef83d1310>]"
      ]
     },
     "execution_count": 4,
     "metadata": {},
     "output_type": "execute_result"
    },
    {
     "data": {
      "image/png": "[encoded data removed]",
      "text/plain": [
       "<Figure size 432x288 with 1 Axes>"
      ]
     },
     "metadata": {
      "needs_background": "light"
     },
     "output_type": "display_data"
    }
   ],
   "source": [
    "x = np.linspace(0,10,1000)\n",
    "plt.hist(maxwell_1000, bins=25, density=True) \n",
    "plt.plot(x, maxwell.pdf(x), color='red', lw=4)"
   ]
  },
  {
   "cell_type": "markdown",
   "id": "8988b13f",
   "metadata": {},
   "source": [
    "## Задание 2\n",
    "> При трёх и более значениях n (например, 5, 10, 50) сгенерируйте 1000 выборок объёма n и постройте гистограммы распределений их выборочных средних. Используя информацию о среднем и дисперсии исходного распределения (её можно без труда найти в википедии), посчитайте значения параметров нормальных распределений, которыми, согласно центральной предельной теореме, приближается распределение выборочных средних. "
   ]
  },
  {
   "cell_type": "markdown",
   "id": "e5e9bb17",
   "metadata": {},
   "source": [
    "*Создам функцию, на вход которой поступает объем выборки. В функции сгенерирую 1000 выборок объёма с помощью цикла for, для каждой из выборки вычислю выборочную среднюю,и каждое новое значение выборочной средней запишу в массив, далее построю гистограмму распределений их выборочных средних.*"
   ]
  },
  {
   "cell_type": "code",
   "execution_count": 5,
   "id": "b5e54553",
   "metadata": {},
   "outputs": [],
   "source": [
    "def task_2(n):\n",
    "    medium_array=array.array(\"f\",[])\n",
    "    for i in range(1000):\n",
    "        maxwell_n=maxwell.rvs(size=n)\n",
    "        medium_array.append(maxwell_n.mean())\n",
    "    plt.hist(medium_array, bins=40, density=True) \n",
    "    "
   ]
  },
  {
   "cell_type": "markdown",
   "id": "ebc4255c",
   "metadata": {},
   "source": [
    "*Проверка работоспособности вышенаписанной функции:*"
   ]
  },
  {
   "cell_type": "code",
   "execution_count": 6,
   "id": "f6865287",
   "metadata": {},
   "outputs": [
    {
     "data": {
      "image/png": "[encoded data removed]",
      "text/plain": [
       "<Figure size 432x288 with 1 Axes>"
      ]
     },
     "metadata": {
      "needs_background": "light"
     },
     "output_type": "display_data"
    }
   ],
   "source": [
    "task_2(50)"
   ]
  },
  {
   "cell_type": "markdown",
   "id": "d11bb444",
   "metadata": {},
   "source": [
    "*Задание нормального распределения, а также построение диаграммы выборочных средних:*"
   ]
  },
  {
   "cell_type": "code",
   "execution_count": 7,
   "id": "0a8319c4",
   "metadata": {},
   "outputs": [
    {
     "data": {
      "image/png": "[encoded data removed]",
      "text/plain": [
       "<Figure size 432x288 with 1 Axes>"
      ]
     },
     "metadata": {
      "needs_background": "light"
     },
     "output_type": "display_data"
    }
   ],
   "source": [
    "n=100\n",
    "ME=maxwell.mean();\n",
    "DX=maxwell.std()**2;\n",
    "norm_rv = sts.norm(loc=ME, scale=math.sqrt(DX/n))\n",
    "x = np.linspace(0,5.5,100)\n",
    "pdf = norm_rv.pdf(x)\n",
    "plt.plot(x, pdf,color='red', lw=4)\n",
    "task_2(n)\n",
    "   "
   ]
  },
  {
   "cell_type": "markdown",
   "id": "10d515a6",
   "metadata": {},
   "source": [
    "### Вывод: \n",
    "    Распределение выборочных средних для функции Максвелла хорошо описывается нормальным распределением. С ростом n точность аппроксимации увеличивается.\n"
   ]
  },
  {
   "cell_type": "code",
   "execution_count": null,
   "id": "44ac77d2",
   "metadata": {},
   "outputs": [],
   "source": []
  }
 ],
 "metadata": {
  "kernelspec": {
   "display_name": "Python 3",
   "language": "python",
   "name": "python3"
  },
  "language_info": {
   "codemirror_mode": {
    "name": "ipython",
    "version": 3
   },
   "file_extension": ".py",
   "mimetype": "text/x-python",
   "name": "python",
   "nbconvert_exporter": "python",
   "pygments_lexer": "ipython3",
   "version": "3.8.8"
  }
 },
 "nbformat": 4,
 "nbformat_minor": 5
}
