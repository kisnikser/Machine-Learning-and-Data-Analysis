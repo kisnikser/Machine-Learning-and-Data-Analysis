{
 "cells": [
  {
   "cell_type": "code",
   "execution_count": 1,
   "id": "a8fd9cdf",
   "metadata": {},
   "outputs": [],
   "source": [
    "import re\n",
    "import numpy as np\n",
    "import scipy as sp\n",
    "from scipy.spatial import distance"
   ]
  },
  {
   "cell_type": "code",
   "execution_count": 2,
   "id": "296828fb",
   "metadata": {
    "scrolled": false
   },
   "outputs": [],
   "source": [
    "file = open('sentences.txt', 'r')\n",
    "file_list = list(file)\n",
    "\n",
    "i = 0\n",
    "for line in file_list:\n",
    "    file_list[i] = [word for word in re.split('[^a-z]', line.lower()) if word != '']\n",
    "    i += 1\n",
    "\n",
    "file.close()"
   ]
  },
  {
   "cell_type": "code",
   "execution_count": 3,
   "id": "235539a5",
   "metadata": {},
   "outputs": [],
   "source": [
    "word_set = set()\n",
    "\n",
    "for i in range(len(file_list)): \n",
    "    word_set.update((tuple(file_list[i])))\n",
    "\n",
    "word_dict = dict(zip(range(len(word_set)), word_set))"
   ]
  },
  {
   "cell_type": "code",
   "execution_count": 4,
   "id": "258257e4",
   "metadata": {},
   "outputs": [],
   "source": [
    "matrix = np.zeros((len(file_list), len(word_set)), dtype = int)\n",
    "\n",
    "for i in range(len(file_list)):\n",
    "    for j in range(len(word_set)):\n",
    "        matrix[i][j] = file_list[i].count(word_dict[j])\n",
    "\n",
    "cos = np.zeros((1, len(file_list)))\n",
    "\n",
    "for i in range(len(file_list)):\n",
    "    cos[0][i] = distance.cosine(matrix[0], matrix[i])\n",
    "\n",
    "nzcos_ind = np.nonzero(cos)\n",
    "k = np.argmin(cos[nzcos_ind])\n",
    "sentence_1 = nzcos_ind[1][k]\n",
    "\n",
    "cos[0][sentence_1] = 0\n",
    "\n",
    "nzcos_ind = np.nonzero(cos)\n",
    "k = np.argmin(cos[nzcos_ind])\n",
    "sentence_2 = nzcos_ind[1][k]\n",
    "\n",
    "export_str = str(sentence_1) + ' ' + str(sentence_2)"
   ]
  },
  {
   "cell_type": "code",
   "execution_count": 5,
   "id": "d132af89",
   "metadata": {},
   "outputs": [],
   "source": [
    "export = open('submission-1.txt', 'w')\n",
    "export.write(export_str.strip())\n",
    "export.close()"
   ]
  }
 ],
 "metadata": {
  "kernelspec": {
   "display_name": "Python 3",
   "language": "python",
   "name": "python3"
  },
  "language_info": {
   "codemirror_mode": {
    "name": "ipython",
    "version": 3
   },
   "file_extension": ".py",
   "mimetype": "text/x-python",
   "name": "python",
   "nbconvert_exporter": "python",
   "pygments_lexer": "ipython3",
   "version": "3.8.8"
  }
 },
 "nbformat": 4,
 "nbformat_minor": 5
}
