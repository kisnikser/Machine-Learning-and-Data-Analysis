{
 "cells": [
  {
   "cell_type": "code",
   "execution_count": 10,
   "id": "23db39db",
   "metadata": {},
   "outputs": [],
   "source": [
    "import numpy as np\n",
    "import pandas as pd\n",
    "from statsmodels.stats.weightstats import _tconfint_generic"
   ]
  },
  {
   "cell_type": "code",
   "execution_count": 28,
   "id": "6fabe65e",
   "metadata": {},
   "outputs": [],
   "source": [
    "data = pd.read_csv(\"water.txt\", sep = '\\t')"
   ]
  },
  {
   "cell_type": "code",
   "execution_count": 29,
   "id": "dd0bd8dd",
   "metadata": {
    "scrolled": true
   },
   "outputs": [
    {
     "data": {
      "text/html": [
       "<div>\n",
       "<style scoped>\n",
       "    .dataframe tbody tr th:only-of-type {\n",
       "        vertical-align: middle;\n",
       "    }\n",
       "\n",
       "    .dataframe tbody tr th {\n",
       "        vertical-align: top;\n",
       "    }\n",
       "\n",
       "    .dataframe thead th {\n",
       "        text-align: right;\n",
       "    }\n",
       "</style>\n",
       "<table border=\"1\" class=\"dataframe\">\n",
       "  <thead>\n",
       "    <tr style=\"text-align: right;\">\n",
       "      <th></th>\n",
       "      <th>location</th>\n",
       "      <th>town</th>\n",
       "      <th>mortality</th>\n",
       "      <th>hardness</th>\n",
       "    </tr>\n",
       "  </thead>\n",
       "  <tbody>\n",
       "    <tr>\n",
       "      <th>0</th>\n",
       "      <td>South</td>\n",
       "      <td>Bath</td>\n",
       "      <td>1247</td>\n",
       "      <td>105</td>\n",
       "    </tr>\n",
       "    <tr>\n",
       "      <th>1</th>\n",
       "      <td>North</td>\n",
       "      <td>Birkenhead</td>\n",
       "      <td>1668</td>\n",
       "      <td>17</td>\n",
       "    </tr>\n",
       "    <tr>\n",
       "      <th>2</th>\n",
       "      <td>South</td>\n",
       "      <td>Birmingham</td>\n",
       "      <td>1466</td>\n",
       "      <td>5</td>\n",
       "    </tr>\n",
       "    <tr>\n",
       "      <th>3</th>\n",
       "      <td>North</td>\n",
       "      <td>Blackburn</td>\n",
       "      <td>1800</td>\n",
       "      <td>14</td>\n",
       "    </tr>\n",
       "    <tr>\n",
       "      <th>4</th>\n",
       "      <td>North</td>\n",
       "      <td>Blackpool</td>\n",
       "      <td>1609</td>\n",
       "      <td>18</td>\n",
       "    </tr>\n",
       "  </tbody>\n",
       "</table>\n",
       "</div>"
      ],
      "text/plain": [
       "  location        town  mortality  hardness\n",
       "0    South        Bath       1247       105\n",
       "1    North  Birkenhead       1668        17\n",
       "2    South  Birmingham       1466         5\n",
       "3    North   Blackburn       1800        14\n",
       "4    North   Blackpool       1609        18"
      ]
     },
     "execution_count": 29,
     "metadata": {},
     "output_type": "execute_result"
    }
   ],
   "source": [
    "data.head()"
   ]
  },
  {
   "cell_type": "code",
   "execution_count": 49,
   "id": "275efac7",
   "metadata": {},
   "outputs": [
    {
     "name": "stdout",
     "output_type": "stream",
     "text": [
      "inf_mort = 1476.0833\n"
     ]
    }
   ],
   "source": [
    "inf_mort, sup_mort = _tconfint_generic(data.mortality.mean(),\n",
    "                                       data.mortality.std(ddof=1) / np.sqrt(len(data)),\n",
    "                                       len(data) - 1, 0.05, 'two-sided')\n",
    "\n",
    "print(\"inf_mort =\", inf_mort.round(4))"
   ]
  },
  {
   "cell_type": "code",
   "execution_count": 47,
   "id": "8bb0c88a",
   "metadata": {},
   "outputs": [
    {
     "name": "stdout",
     "output_type": "stream",
     "text": [
      "sup_mort_south = 1433.4636\n"
     ]
    }
   ],
   "source": [
    "inf_mort_south, sup_mort_south = _tconfint_generic(data[data.location == 'South'].mortality.mean(),\n",
    "                            data[data.location == 'South'].mortality.std(ddof=1) / np.sqrt(len(data[data.location == 'South'])),\n",
    "                            len(data[data.location == 'South']) - 1, 0.05, 'two-sided')\n",
    "inf_mort_north, sup_mort_north = _tconfint_generic(data[data.location == 'North'].mortality.mean(),\n",
    "                            data[data.location == 'North'].mortality.std(ddof=1) / np.sqrt(len(data[data.location == 'North'])),\n",
    "                            len(data[data.location == 'North']) - 1, 0.05, 'two-sided')\n",
    "\n",
    "print(\"sup_mort_south =\", sup_mort_south.round(4))"
   ]
  },
  {
   "cell_type": "code",
   "execution_count": 46,
   "id": "a36e6642",
   "metadata": {},
   "outputs": [
    {
     "name": "stdout",
     "output_type": "stream",
     "text": [
      "inf_south = 66.57213924335265\n",
      "sup_south = 72.9663222951089\n",
      "inf_north = 28.8825233865301\n",
      "sup_north = 31.917476613469898\n"
     ]
    }
   ],
   "source": [
    "# Найдем 95%-доверительный интервал для жесткости воды в южных городах\n",
    "\n",
    "data_hardness_south = data[\"hardness\"][data[\"location\"] == \"South\"]\n",
    "mean_south = data_hardness_south.mean()\n",
    "std_south = data_hardness_south.std(ddof = 1)\n",
    "inf_south, sup_south = _tconfint_generic(mean_south, std_south / data_hardness_south.shape[0],\n",
    "                                         data_hardness_south.shape[0] - 1, 0.05, 'two-sided')\n",
    "print(\"inf_south =\", inf_south)\n",
    "print(\"sup_south =\", sup_south)\n",
    "\n",
    "# Найдем 95%-доверительный интервал для жесткости воды в северных городах\n",
    "\n",
    "data_hardness_north = data[\"hardness\"][data[\"location\"] == \"North\"]\n",
    "mean_north = data_hardness_north.mean()\n",
    "std_north = data_hardness_north.std(ddof = 1)\n",
    "inf_north, sup_north = _tconfint_generic(mean_north, std_north / data_hardness_north.shape[0],\n",
    "                                         data_hardness_north.shape[0] - 1, 0.05, 'two-sided')\n",
    "print(\"inf_north =\", inf_north)\n",
    "print(\"sup_north =\", sup_north)"
   ]
  }
 ],
 "metadata": {
  "kernelspec": {
   "display_name": "Python 3",
   "language": "python",
   "name": "python3"
  },
  "language_info": {
   "codemirror_mode": {
    "name": "ipython",
    "version": 3
   },
   "file_extension": ".py",
   "mimetype": "text/x-python",
   "name": "python",
   "nbconvert_exporter": "python",
   "pygments_lexer": "ipython3",
   "version": "3.8.8"
  }
 },
 "nbformat": 4,
 "nbformat_minor": 5
}
