{
 "cells": [
  {
   "cell_type": "code",
   "execution_count": 48,
   "id": "75fd6de3",
   "metadata": {},
   "outputs": [],
   "source": [
    "import numpy as np\n",
    "import scipy\n",
    "from statsmodels.stats.proportion import proportion_confint\n",
    "\n",
    "from matplotlib import pyplot as plt"
   ]
  },
  {
   "cell_type": "code",
   "execution_count": 49,
   "id": "95bae62b",
   "metadata": {},
   "outputs": [],
   "source": [
    "def my_proportion_confint(count, nobs, alpha = 0.05, method = 'normal'):\n",
    "    p = count / nobs\n",
    "    std = np.sqrt(p * (1 - p) / nobs)\n",
    "    z = scipy.stats.norm.ppf(1 - alpha / 2.)\n",
    "    ci_low = p - z * std\n",
    "    ci_upp = p + z * std\n",
    "    return ci_low, ci_upp"
   ]
  },
  {
   "cell_type": "code",
   "execution_count": 50,
   "id": "a616f285",
   "metadata": {},
   "outputs": [],
   "source": [
    "my_normal_interval = my_proportion_confint(1, 50, alpha = 0.05, method = 'normal')"
   ]
  },
  {
   "cell_type": "code",
   "execution_count": 51,
   "id": "b68b4dda",
   "metadata": {},
   "outputs": [
    {
     "name": "stdout",
     "output_type": "stream",
     "text": [
      "my_normal_interval [-0.018805, 0.058805] with width 0.077611\n",
      "-0.0188\n"
     ]
    }
   ],
   "source": [
    "print('my_normal_interval [%f, %f] with width %f' % (my_normal_interval[0],\n",
    "                                                  my_normal_interval[1], \n",
    "                                                  my_normal_interval[1] - my_normal_interval[0]))\n",
    "\n",
    "print(my_normal_interval[0].round(4))"
   ]
  },
  {
   "cell_type": "code",
   "execution_count": 46,
   "id": "ea2d0ce2",
   "metadata": {},
   "outputs": [],
   "source": [
    "normal_interval = proportion_confint(1, 50, method = 'normal', alpha = 0.05)"
   ]
  },
  {
   "cell_type": "code",
   "execution_count": 47,
   "id": "8368b77d",
   "metadata": {},
   "outputs": [
    {
     "name": "stdout",
     "output_type": "stream",
     "text": [
      "normal_interval [0.000000, 0.058805] with width 0.058805\n",
      "0.0\n"
     ]
    }
   ],
   "source": [
    "print('normal_interval [%f, %f] with width %f' % (normal_interval[0],\n",
    "                                                  normal_interval[1], \n",
    "                                                  normal_interval[1] - normal_interval[0]))\n",
    "\n",
    "print(normal_interval[0].round(4))"
   ]
  },
  {
   "cell_type": "code",
   "execution_count": 52,
   "id": "b1f0cc48",
   "metadata": {},
   "outputs": [],
   "source": [
    "wilson_interval = proportion_confint(1, 50, method = 'wilson', alpha = 0.05)"
   ]
  },
  {
   "cell_type": "code",
   "execution_count": 53,
   "id": "40a57695",
   "metadata": {},
   "outputs": [
    {
     "name": "stdout",
     "output_type": "stream",
     "text": [
      "wilson_interval [0.003539, 0.104954] with width 0.101415\n",
      "0.0035\n"
     ]
    }
   ],
   "source": [
    "print('wilson_interval [%f, %f] with width %f' % (wilson_interval[0],\n",
    "                                                  wilson_interval[1], \n",
    "                                                  wilson_interval[1] - wilson_interval[0]))\n",
    "\n",
    "print(wilson_interval[0].round(4))"
   ]
  },
  {
   "cell_type": "code",
   "execution_count": 63,
   "id": "f6694ada",
   "metadata": {},
   "outputs": [],
   "source": [
    "from statsmodels.stats.proportion import samplesize_confint_proportion"
   ]
  },
  {
   "cell_type": "code",
   "execution_count": 64,
   "id": "a5805431",
   "metadata": {},
   "outputs": [
    {
     "data": {
      "text/plain": [
       "753"
      ]
     },
     "execution_count": 64,
     "metadata": {},
     "output_type": "execute_result"
    }
   ],
   "source": [
    "n_samples = int(np.ceil(samplesize_confint_proportion(0.02, 0.01, alpha = 0.05)))\n",
    "n_samples"
   ]
  },
  {
   "cell_type": "code",
   "execution_count": 71,
   "id": "161c6c92",
   "metadata": {},
   "outputs": [],
   "source": [
    "p_list = np.linspace(0.01, 0.99, 100000)"
   ]
  },
  {
   "cell_type": "code",
   "execution_count": 72,
   "id": "411f571f",
   "metadata": {},
   "outputs": [
    {
     "data": {
      "text/plain": [
       "Text(0.5, 1.0, 'Зависимость необходимого объема выборки от p')"
      ]
     },
     "execution_count": 72,
     "metadata": {},
     "output_type": "execute_result"
    },
    {
     "data": {
      "image/png": "[encoded data removed]",
      "text/plain": [
       "<Figure size 432x288 with 1 Axes>"
      ]
     },
     "metadata": {
      "needs_background": "light"
     },
     "output_type": "display_data"
    }
   ],
   "source": [
    "plt.plot(p_list, [int(np.ceil(samplesize_confint_proportion(p, 0.01, alpha = 0.05))) for p in p_list], \"r-\")\n",
    "plt.grid(alpha = 0.2)\n",
    "plt.xlabel('p')\n",
    "plt.ylabel('n_samples')\n",
    "plt.title('Зависимость необходимого объема выборки от p')"
   ]
  },
  {
   "cell_type": "code",
   "execution_count": 73,
   "id": "faf17ff0",
   "metadata": {},
   "outputs": [],
   "source": [
    "n_samples_list = [int(np.ceil(samplesize_confint_proportion(p, 0.01, alpha = 0.05))) for p in p_list]"
   ]
  },
  {
   "cell_type": "code",
   "execution_count": 74,
   "id": "eecf4ce8",
   "metadata": {},
   "outputs": [
    {
     "data": {
      "text/plain": [
       "9604"
      ]
     },
     "execution_count": 74,
     "metadata": {},
     "output_type": "execute_result"
    }
   ],
   "source": [
    "n_samples_max = np.max(n_samples_list)\n",
    "n_samples_max"
   ]
  }
 ],
 "metadata": {
  "kernelspec": {
   "display_name": "Python 3",
   "language": "python",
   "name": "python3"
  },
  "language_info": {
   "codemirror_mode": {
    "name": "ipython",
    "version": 3
   },
   "file_extension": ".py",
   "mimetype": "text/x-python",
   "name": "python",
   "nbconvert_exporter": "python",
   "pygments_lexer": "ipython3",
   "version": "3.8.8"
  }
 },
 "nbformat": 4,
 "nbformat_minor": 5
}
