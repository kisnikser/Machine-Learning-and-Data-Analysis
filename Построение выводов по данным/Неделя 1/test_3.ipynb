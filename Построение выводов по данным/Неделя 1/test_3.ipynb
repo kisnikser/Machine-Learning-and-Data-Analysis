{
 "cells": [
  {
   "cell_type": "code",
   "execution_count": 4,
   "id": "7ca86bca",
   "metadata": {},
   "outputs": [],
   "source": [
    "import numpy as np\n",
    "import scipy\n",
    "from statsmodels.stats.proportion import proportion_confint"
   ]
  },
  {
   "cell_type": "code",
   "execution_count": 8,
   "id": "abb95f06",
   "metadata": {},
   "outputs": [
    {
     "name": "stdout",
     "output_type": "stream",
     "text": [
      "2.9677\n"
     ]
    }
   ],
   "source": [
    "alpha = 0.003\n",
    "z = scipy.stats.norm.ppf(1 - alpha / 2.)\n",
    "\n",
    "print(z.round(4))"
   ]
  },
  {
   "cell_type": "code",
   "execution_count": 16,
   "id": "bf116b0f",
   "metadata": {},
   "outputs": [
    {
     "name": "stdout",
     "output_type": "stream",
     "text": [
      "0.0077\n"
     ]
    }
   ],
   "source": [
    "sample1 = np.zeros((11037, ))\n",
    "sample1[:104] = 1\n",
    "\n",
    "sample2 = np.zeros((11034, ))\n",
    "sample2[:189] = 1\n",
    "\n",
    "p1 = sum(sample1) / len(sample1)\n",
    "p2 = sum(sample2) / len(sample2)\n",
    "\n",
    "print((p2 - p1).round(4))"
   ]
  },
  {
   "cell_type": "code",
   "execution_count": 17,
   "id": "a322cbc2",
   "metadata": {},
   "outputs": [],
   "source": [
    "def proportions_confint_diff_ind(sample1, sample2, alpha = 0.05):    \n",
    "    z = scipy.stats.norm.ppf(1 - alpha / 2.)   \n",
    "    p1 = float(sum(sample1)) / len(sample1)\n",
    "    p2 = float(sum(sample2)) / len(sample2)\n",
    "    \n",
    "    left_boundary = (p1 - p2) - z * np.sqrt(p1 * (1 - p1)/ len(sample1) + p2 * (1 - p2)/ len(sample2))\n",
    "    right_boundary = (p1 - p2) + z * np.sqrt(p1 * (1 - p1)/ len(sample1) + p2 * (1 - p2)/ len(sample2))\n",
    "    \n",
    "    return (left_boundary, right_boundary)"
   ]
  },
  {
   "cell_type": "code",
   "execution_count": 20,
   "id": "308715d5",
   "metadata": {},
   "outputs": [
    {
     "name": "stdout",
     "output_type": "stream",
     "text": [
      "0.0107\n"
     ]
    }
   ],
   "source": [
    "left_boundary, right_boundary = proportions_confint_diff_ind(sample2, sample1, alpha = 0.05)\n",
    "\n",
    "print(right_boundary.round(4))"
   ]
  },
  {
   "cell_type": "code",
   "execution_count": 23,
   "id": "e013cc66",
   "metadata": {},
   "outputs": [
    {
     "name": "stdout",
     "output_type": "stream",
     "text": [
      "1.8321\n"
     ]
    }
   ],
   "source": [
    "odds_plc = p2 / (1 - p2)\n",
    "odds_asp = p1 / (1 - p1)\n",
    "\n",
    "print((odds_plc / odds_asp).round(4))"
   ]
  },
  {
   "cell_type": "code",
   "execution_count": 24,
   "id": "87a57ef7",
   "metadata": {},
   "outputs": [],
   "source": [
    "def get_bootstrap_samples(data, n_samples):\n",
    "    indices = np.random.randint(0, len(data), (n_samples, len(data)))\n",
    "    samples = data[indices]\n",
    "    return samples"
   ]
  },
  {
   "cell_type": "code",
   "execution_count": 32,
   "id": "bb034f13",
   "metadata": {},
   "outputs": [],
   "source": [
    "np.random.seed(0)\n",
    "\n",
    "asp_bootstrap_samples = get_bootstrap_samples(sample1, 1000)\n",
    "plc_bootstrap_samples = get_bootstrap_samples(sample2, 1000)"
   ]
  },
  {
   "cell_type": "code",
   "execution_count": 36,
   "id": "499a4c7c",
   "metadata": {},
   "outputs": [],
   "source": [
    "odds_asp_bootstrap = [ (sum(sample) / len(sample)) / (1 - (sum(sample) / len(sample))) for sample in asp_bootstrap_samples]"
   ]
  },
  {
   "cell_type": "code",
   "execution_count": 37,
   "id": "768f72ee",
   "metadata": {},
   "outputs": [],
   "source": [
    "odds_plc_bootstrap = [ (sum(sample) / len(sample)) / (1 - (sum(sample) / len(sample))) for sample in plc_bootstrap_samples]"
   ]
  },
  {
   "cell_type": "code",
   "execution_count": 33,
   "id": "ade17888",
   "metadata": {},
   "outputs": [],
   "source": [
    "def stat_intervals(stat, alpha):\n",
    "    boundaries = np.percentile(stat, [100 * alpha / 2., 100 * (1 - alpha / 2.)])\n",
    "    return boundaries"
   ]
  },
  {
   "cell_type": "code",
   "execution_count": 40,
   "id": "6c108483",
   "metadata": {},
   "outputs": [],
   "source": [
    "odds_scores = list(map(lambda x: x[1] / x[0], zip(odds_asp_bootstrap, odds_plc_bootstrap)))"
   ]
  },
  {
   "cell_type": "code",
   "execution_count": 41,
   "id": "30765b9d",
   "metadata": {},
   "outputs": [],
   "source": [
    "boundaries = stat_intervals(odds_scores, 0.05)"
   ]
  },
  {
   "cell_type": "code",
   "execution_count": 43,
   "id": "a199e58a",
   "metadata": {},
   "outputs": [
    {
     "name": "stdout",
     "output_type": "stream",
     "text": [
      "1.4442\n"
     ]
    }
   ],
   "source": [
    "print(boundaries[0].round(4))"
   ]
  }
 ],
 "metadata": {
  "kernelspec": {
   "display_name": "Python 3",
   "language": "python",
   "name": "python3"
  },
  "language_info": {
   "codemirror_mode": {
    "name": "ipython",
    "version": 3
   },
   "file_extension": ".py",
   "mimetype": "text/x-python",
   "name": "python",
   "nbconvert_exporter": "python",
   "pygments_lexer": "ipython3",
   "version": "3.8.8"
  }
 },
 "nbformat": 4,
 "nbformat_minor": 5
}
