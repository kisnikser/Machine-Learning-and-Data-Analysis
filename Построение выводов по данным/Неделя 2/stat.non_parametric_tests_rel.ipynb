{
 "cells": [
  {
   "cell_type": "markdown",
   "metadata": {},
   "source": [
    "**Корректность проверена на Python 3.7:**\n",
    "+ pandas 0.23.0\n",
    "+ numpy 1.14.5\n",
    "+ scipy 1.1.0\n",
    "+ statsmodels 0.9.0"
   ]
  },
  {
   "cell_type": "markdown",
   "metadata": {},
   "source": [
    "# Непараметрические криетрии"
   ]
  },
  {
   "cell_type": "markdown",
   "metadata": {},
   "source": [
    "  Критерий | Одновыборочный | Двухвыборочный | Двухвыборочный (связанные выборки)  \n",
    "  ------------- | -------------|\n",
    "  **Знаков**  | $\\times$ | | $\\times$ \n",
    "  **Ранговый** | $\\times$  | $\\times$ | $\\times$  \n",
    "  **Перестановочный** | $\\times$  | $\\times$ | $\\times$ "
   ]
  },
  {
   "cell_type": "markdown",
   "metadata": {},
   "source": [
    "## Терапия при анорексии"
   ]
  },
  {
   "cell_type": "markdown",
   "metadata": {},
   "source": [
    "В исследовании оценивается эффективность поведенческой терапии для лечения анорексии. Для 50 пациентов известен вес до начала терапии и по её окончании. Была ли терапия эффективной?"
   ]
  },
  {
   "cell_type": "code",
   "execution_count": 2,
   "metadata": {},
   "outputs": [],
   "source": [
    "import numpy as np\n",
    "import pandas as pd\n",
    "import itertools\n",
    "\n",
    "from scipy import stats\n",
    "from statsmodels.stats.descriptivestats import sign_test\n",
    "from statsmodels.stats.weightstats import zconfint"
   ]
  },
  {
   "cell_type": "code",
   "execution_count": 3,
   "metadata": {},
   "outputs": [
    {
     "name": "stdout",
     "output_type": "stream",
     "text": [
      "1.20.1\n",
      "1.2.4\n",
      "1.6.2\n",
      "0.12.2\n"
     ]
    }
   ],
   "source": [
    "import scipy\n",
    "import statsmodels\n",
    "print(np.__version__)\n",
    "print(pd.__version__)\n",
    "print(scipy.__version__)\n",
    "print(statsmodels.__version__)"
   ]
  },
  {
   "cell_type": "code",
   "execution_count": 4,
   "metadata": {},
   "outputs": [
    {
     "name": "stdout",
     "output_type": "stream",
     "text": [
      "Populating the interactive namespace from numpy and matplotlib\n"
     ]
    }
   ],
   "source": [
    "%pylab inline"
   ]
  },
  {
   "cell_type": "markdown",
   "metadata": {},
   "source": [
    "### Загрузка данных"
   ]
  },
  {
   "cell_type": "code",
   "execution_count": 5,
   "metadata": {},
   "outputs": [],
   "source": [
    "weight_data = pd.read_csv('weight.txt', sep = '\\t', header = 0)"
   ]
  },
  {
   "cell_type": "code",
   "execution_count": 6,
   "metadata": {},
   "outputs": [
    {
     "data": {
      "text/html": [
       "<div>\n",
       "<style scoped>\n",
       "    .dataframe tbody tr th:only-of-type {\n",
       "        vertical-align: middle;\n",
       "    }\n",
       "\n",
       "    .dataframe tbody tr th {\n",
       "        vertical-align: top;\n",
       "    }\n",
       "\n",
       "    .dataframe thead th {\n",
       "        text-align: right;\n",
       "    }\n",
       "</style>\n",
       "<table border=\"1\" class=\"dataframe\">\n",
       "  <thead>\n",
       "    <tr style=\"text-align: right;\">\n",
       "      <th></th>\n",
       "      <th>Before</th>\n",
       "      <th>After</th>\n",
       "    </tr>\n",
       "  </thead>\n",
       "  <tbody>\n",
       "    <tr>\n",
       "      <th>0</th>\n",
       "      <td>80.5</td>\n",
       "      <td>82.2</td>\n",
       "    </tr>\n",
       "    <tr>\n",
       "      <th>1</th>\n",
       "      <td>84.9</td>\n",
       "      <td>85.6</td>\n",
       "    </tr>\n",
       "    <tr>\n",
       "      <th>2</th>\n",
       "      <td>81.5</td>\n",
       "      <td>81.4</td>\n",
       "    </tr>\n",
       "    <tr>\n",
       "      <th>3</th>\n",
       "      <td>82.6</td>\n",
       "      <td>81.9</td>\n",
       "    </tr>\n",
       "    <tr>\n",
       "      <th>4</th>\n",
       "      <td>79.9</td>\n",
       "      <td>76.4</td>\n",
       "    </tr>\n",
       "  </tbody>\n",
       "</table>\n",
       "</div>"
      ],
      "text/plain": [
       "   Before  After\n",
       "0    80.5   82.2\n",
       "1    84.9   85.6\n",
       "2    81.5   81.4\n",
       "3    82.6   81.9\n",
       "4    79.9   76.4"
      ]
     },
     "execution_count": 6,
     "metadata": {},
     "output_type": "execute_result"
    }
   ],
   "source": [
    "weight_data.head()"
   ]
  },
  {
   "cell_type": "code",
   "execution_count": 7,
   "metadata": {},
   "outputs": [
    {
     "data": {
      "image/png": "[encoded data removed]",
      "text/plain": [
       "<Figure size 864x288 with 2 Axes>"
      ]
     },
     "metadata": {
      "needs_background": "light"
     },
     "output_type": "display_data"
    }
   ],
   "source": [
    "pylab.figure(figsize=(12,4))\n",
    "\n",
    "pylab.subplot(1,2,1)\n",
    "pylab.grid()\n",
    "pylab.hist(weight_data.Before, color = 'r')\n",
    "pylab.xlabel('Before')\n",
    "\n",
    "pylab.subplot(1,2,2)\n",
    "pylab.grid()\n",
    "pylab.hist(weight_data.After, color = 'b')\n",
    "pylab.xlabel('After')\n",
    "\n",
    "pylab.show()"
   ]
  },
  {
   "cell_type": "code",
   "execution_count": 8,
   "metadata": {},
   "outputs": [
    {
     "data": {
      "text/html": [
       "<div>\n",
       "<style scoped>\n",
       "    .dataframe tbody tr th:only-of-type {\n",
       "        vertical-align: middle;\n",
       "    }\n",
       "\n",
       "    .dataframe tbody tr th {\n",
       "        vertical-align: top;\n",
       "    }\n",
       "\n",
       "    .dataframe thead th {\n",
       "        text-align: right;\n",
       "    }\n",
       "</style>\n",
       "<table border=\"1\" class=\"dataframe\">\n",
       "  <thead>\n",
       "    <tr style=\"text-align: right;\">\n",
       "      <th></th>\n",
       "      <th>Before</th>\n",
       "      <th>After</th>\n",
       "    </tr>\n",
       "  </thead>\n",
       "  <tbody>\n",
       "    <tr>\n",
       "      <th>count</th>\n",
       "      <td>29.000000</td>\n",
       "      <td>29.000000</td>\n",
       "    </tr>\n",
       "    <tr>\n",
       "      <th>mean</th>\n",
       "      <td>82.689655</td>\n",
       "      <td>85.696552</td>\n",
       "    </tr>\n",
       "    <tr>\n",
       "      <th>std</th>\n",
       "      <td>4.845495</td>\n",
       "      <td>8.351924</td>\n",
       "    </tr>\n",
       "    <tr>\n",
       "      <th>min</th>\n",
       "      <td>70.000000</td>\n",
       "      <td>71.300000</td>\n",
       "    </tr>\n",
       "    <tr>\n",
       "      <th>25%</th>\n",
       "      <td>80.400000</td>\n",
       "      <td>81.900000</td>\n",
       "    </tr>\n",
       "    <tr>\n",
       "      <th>50%</th>\n",
       "      <td>82.600000</td>\n",
       "      <td>83.900000</td>\n",
       "    </tr>\n",
       "    <tr>\n",
       "      <th>75%</th>\n",
       "      <td>85.000000</td>\n",
       "      <td>90.900000</td>\n",
       "    </tr>\n",
       "    <tr>\n",
       "      <th>max</th>\n",
       "      <td>94.900000</td>\n",
       "      <td>103.600000</td>\n",
       "    </tr>\n",
       "  </tbody>\n",
       "</table>\n",
       "</div>"
      ],
      "text/plain": [
       "          Before       After\n",
       "count  29.000000   29.000000\n",
       "mean   82.689655   85.696552\n",
       "std     4.845495    8.351924\n",
       "min    70.000000   71.300000\n",
       "25%    80.400000   81.900000\n",
       "50%    82.600000   83.900000\n",
       "75%    85.000000   90.900000\n",
       "max    94.900000  103.600000"
      ]
     },
     "execution_count": 8,
     "metadata": {},
     "output_type": "execute_result"
    }
   ],
   "source": [
    "weight_data.describe()"
   ]
  },
  {
   "cell_type": "markdown",
   "metadata": {},
   "source": [
    "## Двухвыборочные критерии для связных выборок"
   ]
  },
  {
   "cell_type": "markdown",
   "metadata": {},
   "source": [
    "$H_0\\colon$ медианы веса до и после терапии совпадает\n",
    "\n",
    "$H_1\\colon$ медианы веса до и после тепрапии отличаются"
   ]
  },
  {
   "cell_type": "code",
   "execution_count": 9,
   "metadata": {},
   "outputs": [
    {
     "name": "stdout",
     "output_type": "stream",
     "text": [
      "95% confidence interval for mean weight before therapy: [80.926107, 84.453203]\n"
     ]
    }
   ],
   "source": [
    "print('95%% confidence interval for mean weight before therapy: [%f, %f]' % zconfint(weight_data.Before))"
   ]
  },
  {
   "cell_type": "code",
   "execution_count": 10,
   "metadata": {},
   "outputs": [
    {
     "name": "stdout",
     "output_type": "stream",
     "text": [
      "95% confidence interval for mean weight after therapy: [82.656817, 88.736286]\n"
     ]
    }
   ],
   "source": [
    "print('95%% confidence interval for mean weight after therapy: [%f, %f]' % zconfint(weight_data.After))"
   ]
  },
  {
   "cell_type": "code",
   "execution_count": 11,
   "metadata": {},
   "outputs": [
    {
     "data": {
      "image/png": "[encoded data removed]",
      "text/plain": [
       "<Figure size 432x288 with 1 Axes>"
      ]
     },
     "metadata": {
      "needs_background": "light"
     },
     "output_type": "display_data"
    }
   ],
   "source": [
    "pylab.hist(weight_data.After - weight_data.Before)\n",
    "pylab.show()"
   ]
  },
  {
   "cell_type": "markdown",
   "metadata": {},
   "source": [
    "### Критерий знаков"
   ]
  },
  {
   "cell_type": "markdown",
   "metadata": {},
   "source": [
    "$H_0\\colon P\\left(X_1>X_2\\right)=\\frac1{2},$\n",
    "\n",
    "$H_1\\colon P\\left(X_1>X_2\\right)\\neq\\frac1{2}$"
   ]
  },
  {
   "cell_type": "code",
   "execution_count": 12,
   "metadata": {},
   "outputs": [
    {
     "name": "stdout",
     "output_type": "stream",
     "text": [
      "M: 3, p-value: 0.264931\n"
     ]
    }
   ],
   "source": [
    "print(\"M: %d, p-value: %f\" % sign_test(weight_data.After - weight_data.Before))"
   ]
  },
  {
   "cell_type": "markdown",
   "metadata": {},
   "source": [
    "### Критерий знаковых рангов Уилкоксона"
   ]
  },
  {
   "cell_type": "markdown",
   "metadata": {},
   "source": [
    "$H_0\\colon med\\left(X_1-X_2\\right)=0,$\n",
    "\n",
    "$H_1\\colon med\\left(X_1-X_2\\right)\\neq0$"
   ]
  },
  {
   "cell_type": "code",
   "execution_count": 17,
   "metadata": {},
   "outputs": [
    {
     "data": {
      "text/plain": [
       "WilcoxonResult(statistic=131.5, pvalue=0.06291972262602667)"
      ]
     },
     "execution_count": 17,
     "metadata": {},
     "output_type": "execute_result"
    }
   ],
   "source": [
    "stats.wilcoxon(weight_data.After, weight_data.Before)"
   ]
  },
  {
   "cell_type": "code",
   "execution_count": 15,
   "metadata": {},
   "outputs": [
    {
     "data": {
      "text/plain": [
       "WilcoxonResult(statistic=131.5, pvalue=0.06291972262602667)"
      ]
     },
     "execution_count": 15,
     "metadata": {},
     "output_type": "execute_result"
    }
   ],
   "source": [
    "stats.wilcoxon(weight_data.After - weight_data.Before)"
   ]
  },
  {
   "cell_type": "markdown",
   "metadata": {},
   "source": [
    "### Перестановочный критерий"
   ]
  },
  {
   "cell_type": "markdown",
   "metadata": {
    "collapsed": true
   },
   "source": [
    "$H_0\\colon \\mathbb{E}(X_1 - X_2) = 0$\n",
    "\n",
    "$H_1\\colon \\mathbb{E}(X_1 - X_2) \\neq 0$"
   ]
  },
  {
   "cell_type": "code",
   "execution_count": 24,
   "metadata": {},
   "outputs": [],
   "source": [
    "def permutation_t_stat_1sample(sample, mean):\n",
    "    t_stat = sum(list(map(lambda x: x - mean, sample)))\n",
    "    return t_stat"
   ]
  },
  {
   "cell_type": "code",
   "execution_count": 19,
   "metadata": {},
   "outputs": [],
   "source": [
    "def permutation_zero_distr_1sample(sample, mean, max_permutations = None):\n",
    "    centered_sample = list(map(lambda x: x - mean, sample))\n",
    "    if max_permutations:\n",
    "        signs_array = set([tuple(x) for x in 2 * np.random.randint(2, size = (max_permutations, \n",
    "                                                                              len(sample))) - 1 ])\n",
    "    else:\n",
    "        signs_array =  itertools.product([-1, 1], repeat = len(sample))\n",
    "    distr = [sum(centered_sample * np.array(signs)) for signs in signs_array]\n",
    "    return distr"
   ]
  },
  {
   "cell_type": "code",
   "execution_count": 20,
   "metadata": {},
   "outputs": [
    {
     "data": {
      "image/png": "[encoded data removed]",
      "text/plain": [
       "<Figure size 432x288 with 1 Axes>"
      ]
     },
     "metadata": {},
     "output_type": "display_data"
    }
   ],
   "source": [
    "pylab.hist(permutation_zero_distr_1sample(weight_data.After - weight_data.Before, 0., \n",
    "                               max_permutations = 10000))\n",
    "pylab.show()"
   ]
  },
  {
   "cell_type": "code",
   "execution_count": 25,
   "metadata": {},
   "outputs": [],
   "source": [
    "def permutation_test(sample, mean, max_permutations = None, alternative = 'two-sided'):\n",
    "    if alternative not in ('two-sided', 'less', 'greater'):\n",
    "        raise ValueError(\"alternative not recognized\\n\"\n",
    "                         \"should be 'two-sided', 'less' or 'greater'\")\n",
    "    \n",
    "    t_stat = permutation_t_stat_1sample(sample, mean)\n",
    "    \n",
    "    zero_distr = permutation_zero_distr_1sample(sample, mean, max_permutations)\n",
    "    \n",
    "    if alternative == 'two-sided':\n",
    "        return sum([1. if abs(x) >= abs(t_stat) else 0. for x in zero_distr]) / len(zero_distr)\n",
    "    \n",
    "    if alternative == 'less':\n",
    "        return sum([1. if x <= t_stat else 0. for x in zero_distr]) / len(zero_distr)\n",
    "\n",
    "    if alternative == 'greater':\n",
    "        return sum([1. if x >= t_stat else 0. for x in zero_distr]) / len(zero_distr)"
   ]
  },
  {
   "cell_type": "code",
   "execution_count": 26,
   "metadata": {},
   "outputs": [
    {
     "name": "stdout",
     "output_type": "stream",
     "text": [
      "p-value: 0.046000\n"
     ]
    }
   ],
   "source": [
    "print(\"p-value: %f\" % permutation_test(weight_data.After - weight_data.Before, 0., \n",
    "                               max_permutations = 1000))"
   ]
  },
  {
   "cell_type": "code",
   "execution_count": 27,
   "metadata": {},
   "outputs": [
    {
     "name": "stdout",
     "output_type": "stream",
     "text": [
      "p-value: 0.033102\n"
     ]
    }
   ],
   "source": [
    "print(\"p-value: %f\" % permutation_test(weight_data.After - weight_data.Before, 0., \n",
    "                               max_permutations = 50000))"
   ]
  }
 ],
 "metadata": {
  "kernelspec": {
   "display_name": "Python 3",
   "language": "python",
   "name": "python3"
  },
  "language_info": {
   "codemirror_mode": {
    "name": "ipython",
    "version": 3
   },
   "file_extension": ".py",
   "mimetype": "text/x-python",
   "name": "python",
   "nbconvert_exporter": "python",
   "pygments_lexer": "ipython3",
   "version": "3.8.8"
  }
 },
 "nbformat": 4,
 "nbformat_minor": 1
}
