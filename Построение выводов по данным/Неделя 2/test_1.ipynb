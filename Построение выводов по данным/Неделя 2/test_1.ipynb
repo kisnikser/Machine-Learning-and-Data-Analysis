{
 "cells": [
  {
   "cell_type": "code",
   "execution_count": 1,
   "id": "de14e203",
   "metadata": {},
   "outputs": [],
   "source": [
    "import numpy as np\n",
    "import pandas as pd\n",
    "import scipy\n",
    "from scipy import stats"
   ]
  },
  {
   "cell_type": "code",
   "execution_count": 2,
   "id": "6340ae39",
   "metadata": {},
   "outputs": [
    {
     "name": "stdout",
     "output_type": "stream",
     "text": [
      "Populating the interactive namespace from numpy and matplotlib\n"
     ]
    }
   ],
   "source": [
    "%pylab inline"
   ]
  },
  {
   "cell_type": "markdown",
   "id": "1167e36a",
   "metadata": {},
   "source": [
    "## Задание 4"
   ]
  },
  {
   "cell_type": "code",
   "execution_count": 8,
   "id": "0aee67aa",
   "metadata": {},
   "outputs": [],
   "source": [
    "mu_0 = 9.5\n",
    "sigma = 0.4\n",
    "n = 160\n",
    "X_mean = 9.57"
   ]
  },
  {
   "cell_type": "markdown",
   "id": "183770f1",
   "metadata": {},
   "source": [
    "Поскольку $\\sigma$ известно, используем $Z$-критерий. Статистика $$Z(X^n) = \\dfrac{\\bar{X} - \\mu_0}{\\sigma / \\sqrt{n}}$$"
   ]
  },
  {
   "cell_type": "markdown",
   "id": "a7025ae2",
   "metadata": {},
   "source": [
    "$H_0$: Средний уровень кальция в популяции совпадает с 9.5"
   ]
  },
  {
   "cell_type": "markdown",
   "id": "01783481",
   "metadata": {},
   "source": [
    "$H_1$: Средний уровень кальция в популяции отличается от 9.5 *(двусторонняя альтернатива)*"
   ]
  },
  {
   "cell_type": "code",
   "execution_count": 9,
   "id": "7d16f3b7",
   "metadata": {},
   "outputs": [
    {
     "name": "stdout",
     "output_type": "stream",
     "text": [
      "2.213594362117875\n"
     ]
    }
   ],
   "source": [
    "Z = (mean - mu) / (sigma  / np.sqrt(n))\n",
    "print(Z)"
   ]
  },
  {
   "cell_type": "markdown",
   "id": "9cd4e3b5",
   "metadata": {},
   "source": [
    "Нулевое распределение для $Z$-статистики: $Z(X^n) \\sim N(0, 1)$, поэтому в зависимости от альтернативы достигаемый уровень значимости считается следующим образом:\n",
    "- $H_1: \\mu < \\mu_0 \\Rightarrow p = F_{N(0, 1)}(Z)$\n",
    "- $H_1: \\mu > \\mu_0 \\Rightarrow p = 1 - F_{N(0, 1)}(Z)$\n",
    "- $H_1: \\mu \\neq \\mu_0 \\Rightarrow p = 2(1 - F_{N(0, 1)}(|Z|))$"
   ]
  },
  {
   "cell_type": "code",
   "execution_count": 12,
   "id": "8c67ad01",
   "metadata": {
    "scrolled": true
   },
   "outputs": [
    {
     "name": "stdout",
     "output_type": "stream",
     "text": [
      "0.0269\n"
     ]
    }
   ],
   "source": [
    "p = 2 * (1 - stats.norm.cdf(Z))\n",
    "print(p.round(4))"
   ]
  },
  {
   "cell_type": "markdown",
   "id": "9bc10801",
   "metadata": {},
   "source": [
    "## Задание 6"
   ]
  },
  {
   "cell_type": "code",
   "execution_count": 17,
   "id": "a086ad96",
   "metadata": {},
   "outputs": [],
   "source": [
    "diamonds = pd.read_csv('diamonds.txt', sep = '\\t')"
   ]
  },
  {
   "cell_type": "code",
   "execution_count": 18,
   "id": "22cd1fd7",
   "metadata": {},
   "outputs": [
    {
     "data": {
      "text/html": [
       "<div>\n",
       "<style scoped>\n",
       "    .dataframe tbody tr th:only-of-type {\n",
       "        vertical-align: middle;\n",
       "    }\n",
       "\n",
       "    .dataframe tbody tr th {\n",
       "        vertical-align: top;\n",
       "    }\n",
       "\n",
       "    .dataframe thead th {\n",
       "        text-align: right;\n",
       "    }\n",
       "</style>\n",
       "<table border=\"1\" class=\"dataframe\">\n",
       "  <thead>\n",
       "    <tr style=\"text-align: right;\">\n",
       "      <th></th>\n",
       "      <th>carat</th>\n",
       "      <th>depth</th>\n",
       "      <th>table</th>\n",
       "      <th>price</th>\n",
       "      <th>x</th>\n",
       "      <th>y</th>\n",
       "      <th>z</th>\n",
       "    </tr>\n",
       "  </thead>\n",
       "  <tbody>\n",
       "    <tr>\n",
       "      <th>0</th>\n",
       "      <td>0.23</td>\n",
       "      <td>61.5</td>\n",
       "      <td>55.0</td>\n",
       "      <td>326</td>\n",
       "      <td>3.95</td>\n",
       "      <td>3.98</td>\n",
       "      <td>2.43</td>\n",
       "    </tr>\n",
       "    <tr>\n",
       "      <th>1</th>\n",
       "      <td>0.21</td>\n",
       "      <td>59.8</td>\n",
       "      <td>61.0</td>\n",
       "      <td>326</td>\n",
       "      <td>3.89</td>\n",
       "      <td>3.84</td>\n",
       "      <td>2.31</td>\n",
       "    </tr>\n",
       "    <tr>\n",
       "      <th>2</th>\n",
       "      <td>0.23</td>\n",
       "      <td>56.9</td>\n",
       "      <td>65.0</td>\n",
       "      <td>327</td>\n",
       "      <td>4.05</td>\n",
       "      <td>4.07</td>\n",
       "      <td>2.31</td>\n",
       "    </tr>\n",
       "    <tr>\n",
       "      <th>3</th>\n",
       "      <td>0.29</td>\n",
       "      <td>62.4</td>\n",
       "      <td>58.0</td>\n",
       "      <td>334</td>\n",
       "      <td>4.20</td>\n",
       "      <td>4.23</td>\n",
       "      <td>2.63</td>\n",
       "    </tr>\n",
       "    <tr>\n",
       "      <th>4</th>\n",
       "      <td>0.31</td>\n",
       "      <td>63.3</td>\n",
       "      <td>58.0</td>\n",
       "      <td>335</td>\n",
       "      <td>4.34</td>\n",
       "      <td>4.35</td>\n",
       "      <td>2.75</td>\n",
       "    </tr>\n",
       "  </tbody>\n",
       "</table>\n",
       "</div>"
      ],
      "text/plain": [
       "   carat  depth  table  price     x     y     z\n",
       "0   0.23   61.5   55.0    326  3.95  3.98  2.43\n",
       "1   0.21   59.8   61.0    326  3.89  3.84  2.31\n",
       "2   0.23   56.9   65.0    327  4.05  4.07  2.31\n",
       "3   0.29   62.4   58.0    334  4.20  4.23  2.63\n",
       "4   0.31   63.3   58.0    335  4.34  4.35  2.75"
      ]
     },
     "execution_count": 18,
     "metadata": {},
     "output_type": "execute_result"
    }
   ],
   "source": [
    "diamonds.head()"
   ]
  },
  {
   "cell_type": "code",
   "execution_count": 20,
   "id": "c82146ff",
   "metadata": {},
   "outputs": [],
   "source": [
    "from sklearn.model_selection import train_test_split"
   ]
  },
  {
   "cell_type": "code",
   "execution_count": 26,
   "id": "466c7004",
   "metadata": {},
   "outputs": [],
   "source": [
    "y = diamonds.price\n",
    "X = diamonds[diamods.columns.drop('price')]"
   ]
  },
  {
   "cell_type": "code",
   "execution_count": 27,
   "id": "9aab81f5",
   "metadata": {},
   "outputs": [],
   "source": [
    "X_train, X_test, y_train, y_test = train_test_split(X, y, test_size = 0.25, random_state = 1)"
   ]
  },
  {
   "cell_type": "code",
   "execution_count": 28,
   "id": "31849974",
   "metadata": {},
   "outputs": [],
   "source": [
    "from sklearn.linear_model import LinearRegression"
   ]
  },
  {
   "cell_type": "code",
   "execution_count": 37,
   "id": "d9b3bd09",
   "metadata": {},
   "outputs": [],
   "source": [
    "model_lr = LinearRegression()\n",
    "model_lr = model_lr.fit(X_train, y_train)\n",
    "y_predicted_lr = model_lr.predict(X_test)"
   ]
  },
  {
   "cell_type": "code",
   "execution_count": 44,
   "id": "f5b3bf6e",
   "metadata": {},
   "outputs": [],
   "source": [
    "sample_1 = abs(y_test - y_predicted_lr)"
   ]
  },
  {
   "cell_type": "code",
   "execution_count": 39,
   "id": "72c9e615",
   "metadata": {},
   "outputs": [],
   "source": [
    "from sklearn.ensemble import RandomForestRegressor"
   ]
  },
  {
   "cell_type": "code",
   "execution_count": 40,
   "id": "bfed53a4",
   "metadata": {},
   "outputs": [],
   "source": [
    "model_rfr = RandomForestRegressor(n_estimators = 10, random_state = 1)\n",
    "model_rfr.fit(X_train, y_train)\n",
    "y_predicted_rfr = model_rfr.predict(X_test)"
   ]
  },
  {
   "cell_type": "code",
   "execution_count": 47,
   "id": "55269d9d",
   "metadata": {},
   "outputs": [],
   "source": [
    "sample_2 = abs(y_test - y_predicted_rfr)"
   ]
  },
  {
   "cell_type": "markdown",
   "id": "7dbe963d",
   "metadata": {},
   "source": [
    "$H_0$: обе модели имеют одинаковое среднее качество предсказаний\n",
    "\n",
    "$H_1$: модели имеют различное среднее качество предсказаний (двусторонняя альтернатива)"
   ]
  },
  {
   "cell_type": "markdown",
   "id": "ab66ecd0",
   "metadata": {},
   "source": [
    "В данном случае выборки связанные. Нулевая гипотеза $H_0$: $\\mu_1 = \\mu_2$, альтернатива $H_1$: $\\mu_1 \\neq \\mu_2$. Статистика $$ T(X_1^n, X_2^n) = \\dfrac{\\bar{X}_1 - \\bar{X}_2}{S / \\sqrt{n}}, $$ $$S^2 = \\dfrac{1}{n-1} \\sum\\limits_{i = 1}^{n}(D_i - \\bar{D})^2, D_i = X_{1i} - X_{2i}.$$ Нулевое распределение $$T(X_1^n, X_2^n) \\sim St(n - 1)$$"
   ]
  },
  {
   "cell_type": "markdown",
   "id": "b7289cab",
   "metadata": {},
   "source": [
    "Достигаемый уровень значимости для $t$-критерия Стьюдента считается абсолютно так же, как и для $Z$-критерия. В зависимости от типа альтернативы нужно выбрать одно из трех выражений для достигаемого уровня значимости: $$ p = \\begin{cases} F_{St(n-1)}(T), & H_1: \\mu_1 < \\mu_2 \\\\ 1 - F_{St(n-1)}(T), & H_1: \\mu_1 > \\mu_2 \\\\ 2 (1 - F_{St(n-1)}(|T|)), & H_1: \\mu_1 \\neq \\mu_2 \\end{cases} $$"
   ]
  },
  {
   "cell_type": "code",
   "execution_count": 61,
   "id": "eab24855",
   "metadata": {},
   "outputs": [
    {
     "data": {
      "text/plain": [
       "Ttest_relResult(statistic=13.017729783878826, pvalue=1.6551745751356977e-38)"
      ]
     },
     "execution_count": 61,
     "metadata": {},
     "output_type": "execute_result"
    }
   ],
   "source": [
    "stats.ttest_rel(sample_1, sample_2, alternative = 'two-sided')"
   ]
  },
  {
   "cell_type": "code",
   "execution_count": 63,
   "id": "cc560804",
   "metadata": {},
   "outputs": [],
   "source": [
    "from statsmodels.stats.weightstats import *"
   ]
  },
  {
   "cell_type": "code",
   "execution_count": 65,
   "id": "aa434c3e",
   "metadata": {},
   "outputs": [
    {
     "data": {
      "text/plain": [
       "array([ 214.42235621, 1016.46053685,   41.87871693, ..., 2171.49180326,\n",
       "        103.82818096,  159.32529706])"
      ]
     },
     "execution_count": 65,
     "metadata": {},
     "output_type": "execute_result"
    }
   ],
   "source": [
    "DescrStatsW(sample_1).data"
   ]
  },
  {
   "cell_type": "code",
   "execution_count": 68,
   "id": "c82ce7ad",
   "metadata": {},
   "outputs": [
    {
     "name": "stdout",
     "output_type": "stream",
     "text": [
      "95% confidence interval: [74.287245, 100.624521]\n"
     ]
    }
   ],
   "source": [
    "print(\"95%% confidence interval: [%f, %f]\" % DescrStatsW(sample_1 - sample_2).tconfint_mean())"
   ]
  }
 ],
 "metadata": {
  "kernelspec": {
   "display_name": "Python 3",
   "language": "python",
   "name": "python3"
  },
  "language_info": {
   "codemirror_mode": {
    "name": "ipython",
    "version": 3
   },
   "file_extension": ".py",
   "mimetype": "text/x-python",
   "name": "python",
   "nbconvert_exporter": "python",
   "pygments_lexer": "ipython3",
   "version": "3.8.8"
  }
 },
 "nbformat": 4,
 "nbformat_minor": 5
}
