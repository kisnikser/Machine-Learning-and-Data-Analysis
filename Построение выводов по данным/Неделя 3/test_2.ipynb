{
 "cells": [
  {
   "cell_type": "code",
   "execution_count": 36,
   "id": "ecc15500",
   "metadata": {},
   "outputs": [],
   "source": [
    "import numpy as np\n",
    "import pandas as pd\n",
    "from scipy import stats"
   ]
  },
  {
   "cell_type": "code",
   "execution_count": 2,
   "id": "d2287199",
   "metadata": {},
   "outputs": [],
   "source": [
    "water = pd.read_csv('water.txt', sep = '\\t')"
   ]
  },
  {
   "cell_type": "code",
   "execution_count": 3,
   "id": "7d8b2027",
   "metadata": {},
   "outputs": [
    {
     "data": {
      "text/html": [
       "<div>\n",
       "<style scoped>\n",
       "    .dataframe tbody tr th:only-of-type {\n",
       "        vertical-align: middle;\n",
       "    }\n",
       "\n",
       "    .dataframe tbody tr th {\n",
       "        vertical-align: top;\n",
       "    }\n",
       "\n",
       "    .dataframe thead th {\n",
       "        text-align: right;\n",
       "    }\n",
       "</style>\n",
       "<table border=\"1\" class=\"dataframe\">\n",
       "  <thead>\n",
       "    <tr style=\"text-align: right;\">\n",
       "      <th></th>\n",
       "      <th>location</th>\n",
       "      <th>town</th>\n",
       "      <th>mortality</th>\n",
       "      <th>hardness</th>\n",
       "    </tr>\n",
       "  </thead>\n",
       "  <tbody>\n",
       "    <tr>\n",
       "      <th>0</th>\n",
       "      <td>South</td>\n",
       "      <td>Bath</td>\n",
       "      <td>1247</td>\n",
       "      <td>105</td>\n",
       "    </tr>\n",
       "    <tr>\n",
       "      <th>1</th>\n",
       "      <td>North</td>\n",
       "      <td>Birkenhead</td>\n",
       "      <td>1668</td>\n",
       "      <td>17</td>\n",
       "    </tr>\n",
       "    <tr>\n",
       "      <th>2</th>\n",
       "      <td>South</td>\n",
       "      <td>Birmingham</td>\n",
       "      <td>1466</td>\n",
       "      <td>5</td>\n",
       "    </tr>\n",
       "    <tr>\n",
       "      <th>3</th>\n",
       "      <td>North</td>\n",
       "      <td>Blackburn</td>\n",
       "      <td>1800</td>\n",
       "      <td>14</td>\n",
       "    </tr>\n",
       "    <tr>\n",
       "      <th>4</th>\n",
       "      <td>North</td>\n",
       "      <td>Blackpool</td>\n",
       "      <td>1609</td>\n",
       "      <td>18</td>\n",
       "    </tr>\n",
       "  </tbody>\n",
       "</table>\n",
       "</div>"
      ],
      "text/plain": [
       "  location        town  mortality  hardness\n",
       "0    South        Bath       1247       105\n",
       "1    North  Birkenhead       1668        17\n",
       "2    South  Birmingham       1466         5\n",
       "3    North   Blackburn       1800        14\n",
       "4    North   Blackpool       1609        18"
      ]
     },
     "execution_count": 3,
     "metadata": {},
     "output_type": "execute_result"
    }
   ],
   "source": [
    "water.head()"
   ]
  },
  {
   "cell_type": "code",
   "execution_count": 4,
   "id": "309cc10b",
   "metadata": {},
   "outputs": [
    {
     "data": {
      "text/html": [
       "<div>\n",
       "<style scoped>\n",
       "    .dataframe tbody tr th:only-of-type {\n",
       "        vertical-align: middle;\n",
       "    }\n",
       "\n",
       "    .dataframe tbody tr th {\n",
       "        vertical-align: top;\n",
       "    }\n",
       "\n",
       "    .dataframe thead th {\n",
       "        text-align: right;\n",
       "    }\n",
       "</style>\n",
       "<table border=\"1\" class=\"dataframe\">\n",
       "  <thead>\n",
       "    <tr style=\"text-align: right;\">\n",
       "      <th></th>\n",
       "      <th>mortality</th>\n",
       "      <th>hardness</th>\n",
       "    </tr>\n",
       "  </thead>\n",
       "  <tbody>\n",
       "    <tr>\n",
       "      <th>count</th>\n",
       "      <td>61.000000</td>\n",
       "      <td>61.000000</td>\n",
       "    </tr>\n",
       "    <tr>\n",
       "      <th>mean</th>\n",
       "      <td>1524.147541</td>\n",
       "      <td>47.180328</td>\n",
       "    </tr>\n",
       "    <tr>\n",
       "      <th>std</th>\n",
       "      <td>187.668754</td>\n",
       "      <td>38.093966</td>\n",
       "    </tr>\n",
       "    <tr>\n",
       "      <th>min</th>\n",
       "      <td>1096.000000</td>\n",
       "      <td>5.000000</td>\n",
       "    </tr>\n",
       "    <tr>\n",
       "      <th>25%</th>\n",
       "      <td>1379.000000</td>\n",
       "      <td>14.000000</td>\n",
       "    </tr>\n",
       "    <tr>\n",
       "      <th>50%</th>\n",
       "      <td>1555.000000</td>\n",
       "      <td>39.000000</td>\n",
       "    </tr>\n",
       "    <tr>\n",
       "      <th>75%</th>\n",
       "      <td>1668.000000</td>\n",
       "      <td>75.000000</td>\n",
       "    </tr>\n",
       "    <tr>\n",
       "      <th>max</th>\n",
       "      <td>1987.000000</td>\n",
       "      <td>138.000000</td>\n",
       "    </tr>\n",
       "  </tbody>\n",
       "</table>\n",
       "</div>"
      ],
      "text/plain": [
       "         mortality    hardness\n",
       "count    61.000000   61.000000\n",
       "mean   1524.147541   47.180328\n",
       "std     187.668754   38.093966\n",
       "min    1096.000000    5.000000\n",
       "25%    1379.000000   14.000000\n",
       "50%    1555.000000   39.000000\n",
       "75%    1668.000000   75.000000\n",
       "max    1987.000000  138.000000"
      ]
     },
     "execution_count": 4,
     "metadata": {},
     "output_type": "execute_result"
    }
   ],
   "source": [
    "water.describe()"
   ]
  },
  {
   "cell_type": "code",
   "execution_count": 24,
   "id": "c20ee166",
   "metadata": {},
   "outputs": [
    {
     "data": {
      "text/plain": [
       "(61, 2)"
      ]
     },
     "execution_count": 24,
     "metadata": {},
     "output_type": "execute_result"
    }
   ],
   "source": [
    "mort_hard = water[['mortality', 'hardness']]\n",
    "mort_hard.shape"
   ]
  },
  {
   "cell_type": "code",
   "execution_count": 9,
   "id": "3b99425c",
   "metadata": {},
   "outputs": [
    {
     "data": {
      "text/html": [
       "<div>\n",
       "<style scoped>\n",
       "    .dataframe tbody tr th:only-of-type {\n",
       "        vertical-align: middle;\n",
       "    }\n",
       "\n",
       "    .dataframe tbody tr th {\n",
       "        vertical-align: top;\n",
       "    }\n",
       "\n",
       "    .dataframe thead th {\n",
       "        text-align: right;\n",
       "    }\n",
       "</style>\n",
       "<table border=\"1\" class=\"dataframe\">\n",
       "  <thead>\n",
       "    <tr style=\"text-align: right;\">\n",
       "      <th></th>\n",
       "      <th>mortality</th>\n",
       "      <th>hardness</th>\n",
       "    </tr>\n",
       "  </thead>\n",
       "  <tbody>\n",
       "    <tr>\n",
       "      <th>mortality</th>\n",
       "      <td>1.000000</td>\n",
       "      <td>-0.654849</td>\n",
       "    </tr>\n",
       "    <tr>\n",
       "      <th>hardness</th>\n",
       "      <td>-0.654849</td>\n",
       "      <td>1.000000</td>\n",
       "    </tr>\n",
       "  </tbody>\n",
       "</table>\n",
       "</div>"
      ],
      "text/plain": [
       "           mortality  hardness\n",
       "mortality   1.000000 -0.654849\n",
       "hardness   -0.654849  1.000000"
      ]
     },
     "execution_count": 9,
     "metadata": {},
     "output_type": "execute_result"
    }
   ],
   "source": [
    "mort_hard_correlation = mort_hard.corr(method = 'pearson')\n",
    "mort_hard_correlation"
   ]
  },
  {
   "cell_type": "code",
   "execution_count": 12,
   "id": "28385442",
   "metadata": {},
   "outputs": [
    {
     "name": "stdout",
     "output_type": "stream",
     "text": [
      "-0.6548\n"
     ]
    }
   ],
   "source": [
    "print(mort_hard_correlation['mortality']['hardness'].round(4))"
   ]
  },
  {
   "cell_type": "code",
   "execution_count": 13,
   "id": "311e9b95",
   "metadata": {},
   "outputs": [
    {
     "data": {
      "text/html": [
       "<div>\n",
       "<style scoped>\n",
       "    .dataframe tbody tr th:only-of-type {\n",
       "        vertical-align: middle;\n",
       "    }\n",
       "\n",
       "    .dataframe tbody tr th {\n",
       "        vertical-align: top;\n",
       "    }\n",
       "\n",
       "    .dataframe thead th {\n",
       "        text-align: right;\n",
       "    }\n",
       "</style>\n",
       "<table border=\"1\" class=\"dataframe\">\n",
       "  <thead>\n",
       "    <tr style=\"text-align: right;\">\n",
       "      <th></th>\n",
       "      <th>mortality</th>\n",
       "      <th>hardness</th>\n",
       "    </tr>\n",
       "  </thead>\n",
       "  <tbody>\n",
       "    <tr>\n",
       "      <th>mortality</th>\n",
       "      <td>1.000000</td>\n",
       "      <td>-0.631665</td>\n",
       "    </tr>\n",
       "    <tr>\n",
       "      <th>hardness</th>\n",
       "      <td>-0.631665</td>\n",
       "      <td>1.000000</td>\n",
       "    </tr>\n",
       "  </tbody>\n",
       "</table>\n",
       "</div>"
      ],
      "text/plain": [
       "           mortality  hardness\n",
       "mortality   1.000000 -0.631665\n",
       "hardness   -0.631665  1.000000"
      ]
     },
     "execution_count": 13,
     "metadata": {},
     "output_type": "execute_result"
    }
   ],
   "source": [
    "mort_hard_correlation_spearman = mort_hard.corr(method = 'spearman')\n",
    "mort_hard_correlation_spearman"
   ]
  },
  {
   "cell_type": "code",
   "execution_count": 15,
   "id": "4c23086e",
   "metadata": {},
   "outputs": [
    {
     "name": "stdout",
     "output_type": "stream",
     "text": [
      "-0.6317\n"
     ]
    }
   ],
   "source": [
    "print(mort_hard_correlation_spearman['mortality']['hardness'].round(4))"
   ]
  },
  {
   "cell_type": "code",
   "execution_count": 25,
   "id": "307eef44",
   "metadata": {},
   "outputs": [
    {
     "data": {
      "text/plain": [
       "(26, 2)"
      ]
     },
     "execution_count": 25,
     "metadata": {},
     "output_type": "execute_result"
    }
   ],
   "source": [
    "mort_hard_south = water[water['location'] == 'South'][['mortality', 'hardness']]\n",
    "mort_hard_south.shape"
   ]
  },
  {
   "cell_type": "code",
   "execution_count": 27,
   "id": "d274299d",
   "metadata": {},
   "outputs": [
    {
     "data": {
      "text/plain": [
       "(35, 2)"
      ]
     },
     "execution_count": 27,
     "metadata": {},
     "output_type": "execute_result"
    }
   ],
   "source": [
    "mort_hard_north = water[water['location'] == 'North'][['mortality', 'hardness']]\n",
    "mort_hard_north.shape"
   ]
  },
  {
   "cell_type": "code",
   "execution_count": 28,
   "id": "6857d7cc",
   "metadata": {},
   "outputs": [],
   "source": [
    "mort_hard_north_correlation_pearson = mort_hard_north.corr(method = 'pearson')\n",
    "\n",
    "mort_hard_south_correlation_pearson = mort_hard_south.corr(method = 'pearson')"
   ]
  },
  {
   "cell_type": "code",
   "execution_count": 29,
   "id": "9c87c428",
   "metadata": {},
   "outputs": [
    {
     "name": "stdout",
     "output_type": "stream",
     "text": [
      "-0.3686\n",
      "-0.6022\n"
     ]
    }
   ],
   "source": [
    "print(mort_hard_north_correlation_pearson['mortality']['hardness'].round(4))\n",
    "print(mort_hard_south_correlation_pearson['mortality']['hardness'].round(4))"
   ]
  },
  {
   "cell_type": "markdown",
   "id": "b2df7321",
   "metadata": {},
   "source": [
    "## Задание 4"
   ]
  },
  {
   "cell_type": "markdown",
   "id": "45e75671",
   "metadata": {},
   "source": [
    "Обозначим значения признаков **Пол:** 0 - женщина, 1 - мужчина; **Частота похода в бары:** 0 - реже, чем раз в месяц, 1 - хотя бы раз в месяц"
   ]
  },
  {
   "cell_type": "markdown",
   "id": "87d0d660",
   "metadata": {},
   "source": [
    "| Пол \\ Частота похода в бары |  0  |  1  | \n",
    "\n",
    "|              0              | 718 | 203 | \n",
    "\n",
    "|              1              | 515 | 239 | "
   ]
  },
  {
   "cell_type": "code",
   "execution_count": 33,
   "id": "5ac4cbdd",
   "metadata": {},
   "outputs": [
    {
     "data": {
      "text/plain": [
       "0.109"
      ]
     },
     "execution_count": 33,
     "metadata": {},
     "output_type": "execute_result"
    }
   ],
   "source": [
    "# Вычислим значение коэффициента корреляции Мэтьюса между полом и частотой похода в бары\n",
    "\n",
    "MCC = (718 * 239 - 203 * 515) / np.sqrt((718 + 203) * (718 + 515) * (203 + 239) * (515 + 239))\n",
    "MCC.round(3)"
   ]
  },
  {
   "cell_type": "markdown",
   "id": "a2574acf",
   "metadata": {},
   "source": [
    "## Задание 5"
   ]
  },
  {
   "cell_type": "code",
   "execution_count": 37,
   "id": "b2b23294",
   "metadata": {},
   "outputs": [],
   "source": [
    "observed = [[718 , 203], [515, 239]] "
   ]
  },
  {
   "cell_type": "code",
   "execution_count": 38,
   "id": "4663be27",
   "metadata": {},
   "outputs": [
    {
     "data": {
      "text/plain": [
       "(19.40753078854304,\n",
       " 1.0558987006638725e-05,\n",
       " 1,\n",
       " array([[677.96597015, 243.03402985],\n",
       "        [555.03402985, 198.96597015]]))"
      ]
     },
     "execution_count": 38,
     "metadata": {},
     "output_type": "execute_result"
    }
   ],
   "source": [
    "stats.chi2_contingency(observed)"
   ]
  },
  {
   "cell_type": "markdown",
   "id": "8f795138",
   "metadata": {},
   "source": [
    "## Задание 6"
   ]
  },
  {
   "cell_type": "code",
   "execution_count": 50,
   "id": "6a4e7744",
   "metadata": {},
   "outputs": [],
   "source": [
    "p1 = 239 / (515 + 239) \n",
    "p2 = 203 / (718 + 203)\n",
    "\n",
    "n1 = 515 + 239\n",
    "n2 = 718 + 203"
   ]
  },
  {
   "cell_type": "code",
   "execution_count": 51,
   "id": "edbaf0c4",
   "metadata": {},
   "outputs": [],
   "source": [
    "z = stats.norm.ppf(1 - 0.05 / 2)\n",
    "left_boundary = (p1 - p2) - z * np.sqrt(p1 * (1 - p1) / n1 + p2 * (1 - p2) / n2)\n",
    "right_boundary = (p1 - p2) + z * np.sqrt(p1 * (1 - p1) / n1 + p2 * (1 - p2) / n2)"
   ]
  },
  {
   "cell_type": "code",
   "execution_count": 53,
   "id": "2670097a",
   "metadata": {},
   "outputs": [
    {
     "name": "stdout",
     "output_type": "stream",
     "text": [
      "[0.053905, 0.139222]\n"
     ]
    }
   ],
   "source": [
    "print('[%f, %f]' % (left_boundary, right_boundary))"
   ]
  },
  {
   "cell_type": "code",
   "execution_count": 54,
   "id": "83394cbc",
   "metadata": {},
   "outputs": [
    {
     "data": {
      "text/plain": [
       "0.0539"
      ]
     },
     "execution_count": 54,
     "metadata": {},
     "output_type": "execute_result"
    }
   ],
   "source": [
    "left_boundary.round(4)"
   ]
  },
  {
   "cell_type": "markdown",
   "id": "c43f6feb",
   "metadata": {},
   "source": [
    "## Задание 7"
   ]
  },
  {
   "cell_type": "code",
   "execution_count": 55,
   "id": "c8438e31",
   "metadata": {},
   "outputs": [
    {
     "data": {
      "text/plain": [
       "4.46111444482329"
      ]
     },
     "execution_count": 55,
     "metadata": {},
     "output_type": "execute_result"
    }
   ],
   "source": [
    "P = (p1*n1 + p2*n2) / (n1 + n2)\n",
    "Z = (p1 - p2) / np.sqrt(P * (1 - P) * (1 / n1 + 1 / n2))\n",
    "Z"
   ]
  },
  {
   "cell_type": "code",
   "execution_count": 56,
   "id": "f334d907",
   "metadata": {},
   "outputs": [],
   "source": [
    "def proportions_diff_z_test(z_stat, alternative = 'two-sided'):\n",
    "    if alternative not in ('two-sided', 'less', 'greater'):\n",
    "        raise ValueError(\"alternative not recognized\\n\"\n",
    "                         \"should be 'two-sided', 'less' or 'greater'\")\n",
    "    \n",
    "    if alternative == 'two-sided':\n",
    "        return 2 * (1 - scipy.stats.norm.cdf(np.abs(z_stat)))\n",
    "    \n",
    "    if alternative == 'less':\n",
    "        return scipy.stats.norm.cdf(z_stat)\n",
    "\n",
    "    if alternative == 'greater':\n",
    "        return 1 - scipy.stats.norm.cdf(z_stat)"
   ]
  },
  {
   "cell_type": "code",
   "execution_count": 57,
   "id": "f5b80407",
   "metadata": {},
   "outputs": [
    {
     "data": {
      "text/plain": [
       "8.153453089576601e-06"
      ]
     },
     "execution_count": 57,
     "metadata": {},
     "output_type": "execute_result"
    }
   ],
   "source": [
    "proportions_diff_z_test(Z, alternative = 'two-sided')"
   ]
  },
  {
   "cell_type": "markdown",
   "id": "11d05a21",
   "metadata": {},
   "source": [
    "## Задание 8"
   ]
  },
  {
   "cell_type": "code",
   "execution_count": 58,
   "id": "739cc8c4",
   "metadata": {},
   "outputs": [],
   "source": [
    "observed = [[197, 111, 33], [382, 685, 331], [110, 342, 333]]"
   ]
  },
  {
   "cell_type": "code",
   "execution_count": 65,
   "id": "23ae82c0",
   "metadata": {},
   "outputs": [
    {
     "name": "stdout",
     "output_type": "stream",
     "text": [
      "293.6831\n",
      "2.4964299580093467e-62\n"
     ]
    }
   ],
   "source": [
    "statistics_chi2 = stats.chi2_contingency(observed)\n",
    "print(statistics_chi2[0].round(4))\n",
    "print(statistics_chi2[1])"
   ]
  },
  {
   "cell_type": "markdown",
   "id": "235a98f0",
   "metadata": {},
   "source": [
    "## Задание 10"
   ]
  },
  {
   "cell_type": "code",
   "execution_count": 69,
   "id": "43e80d5f",
   "metadata": {},
   "outputs": [
    {
     "data": {
      "text/plain": [
       "0.2412"
      ]
     },
     "execution_count": 69,
     "metadata": {},
     "output_type": "execute_result"
    }
   ],
   "source": [
    "coeff_v_kramer = np.sqrt(statistics_chi2[0] / (np.sum(observed) * 2))\n",
    "coeff_v_kramer.round(4)"
   ]
  }
 ],
 "metadata": {
  "kernelspec": {
   "display_name": "Python 3",
   "language": "python",
   "name": "python3"
  },
  "language_info": {
   "codemirror_mode": {
    "name": "ipython",
    "version": 3
   },
   "file_extension": ".py",
   "mimetype": "text/x-python",
   "name": "python",
   "nbconvert_exporter": "python",
   "pygments_lexer": "ipython3",
   "version": "3.8.8"
  }
 },
 "nbformat": 4,
 "nbformat_minor": 5
}
