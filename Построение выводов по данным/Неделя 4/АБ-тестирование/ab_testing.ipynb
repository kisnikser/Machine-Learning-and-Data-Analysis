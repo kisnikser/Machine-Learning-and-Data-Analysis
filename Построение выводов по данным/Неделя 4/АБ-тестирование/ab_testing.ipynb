{
 "cells": [
  {
   "cell_type": "code",
   "execution_count": 52,
   "id": "7a38cbb3",
   "metadata": {},
   "outputs": [],
   "source": [
    "import numpy as np\n",
    "import pandas as pd\n",
    "import scipy\n",
    "from scipy import stats\n",
    "from matplotlib import pyplot as plt"
   ]
  },
  {
   "cell_type": "code",
   "execution_count": 2,
   "id": "f70c6f83",
   "metadata": {},
   "outputs": [],
   "source": [
    "data = pd.read_csv('ab_browser_test.csv')"
   ]
  },
  {
   "cell_type": "code",
   "execution_count": 3,
   "id": "b3e5e144",
   "metadata": {},
   "outputs": [
    {
     "data": {
      "text/html": [
       "<div>\n",
       "<style scoped>\n",
       "    .dataframe tbody tr th:only-of-type {\n",
       "        vertical-align: middle;\n",
       "    }\n",
       "\n",
       "    .dataframe tbody tr th {\n",
       "        vertical-align: top;\n",
       "    }\n",
       "\n",
       "    .dataframe thead th {\n",
       "        text-align: right;\n",
       "    }\n",
       "</style>\n",
       "<table border=\"1\" class=\"dataframe\">\n",
       "  <thead>\n",
       "    <tr style=\"text-align: right;\">\n",
       "      <th></th>\n",
       "      <th>userID</th>\n",
       "      <th>browser</th>\n",
       "      <th>slot</th>\n",
       "      <th>n_clicks</th>\n",
       "      <th>n_queries</th>\n",
       "      <th>n_nonclk_queries</th>\n",
       "    </tr>\n",
       "  </thead>\n",
       "  <tbody>\n",
       "    <tr>\n",
       "      <th>0</th>\n",
       "      <td>1</td>\n",
       "      <td>Browser #2</td>\n",
       "      <td>exp</td>\n",
       "      <td>23</td>\n",
       "      <td>32</td>\n",
       "      <td>19</td>\n",
       "    </tr>\n",
       "    <tr>\n",
       "      <th>1</th>\n",
       "      <td>3</td>\n",
       "      <td>Browser #4</td>\n",
       "      <td>exp</td>\n",
       "      <td>3</td>\n",
       "      <td>4</td>\n",
       "      <td>2</td>\n",
       "    </tr>\n",
       "    <tr>\n",
       "      <th>2</th>\n",
       "      <td>5</td>\n",
       "      <td>Browser #4</td>\n",
       "      <td>exp</td>\n",
       "      <td>29</td>\n",
       "      <td>35</td>\n",
       "      <td>16</td>\n",
       "    </tr>\n",
       "    <tr>\n",
       "      <th>3</th>\n",
       "      <td>6</td>\n",
       "      <td>Browser #4</td>\n",
       "      <td>control</td>\n",
       "      <td>12</td>\n",
       "      <td>6</td>\n",
       "      <td>0</td>\n",
       "    </tr>\n",
       "    <tr>\n",
       "      <th>4</th>\n",
       "      <td>7</td>\n",
       "      <td>Browser #4</td>\n",
       "      <td>exp</td>\n",
       "      <td>54</td>\n",
       "      <td>68</td>\n",
       "      <td>30</td>\n",
       "    </tr>\n",
       "  </tbody>\n",
       "</table>\n",
       "</div>"
      ],
      "text/plain": [
       "   userID     browser     slot  n_clicks  n_queries  n_nonclk_queries\n",
       "0       1  Browser #2      exp        23         32                19\n",
       "1       3  Browser #4      exp         3          4                 2\n",
       "2       5  Browser #4      exp        29         35                16\n",
       "3       6  Browser #4  control        12          6                 0\n",
       "4       7  Browser #4      exp        54         68                30"
      ]
     },
     "execution_count": 3,
     "metadata": {},
     "output_type": "execute_result"
    }
   ],
   "source": [
    "data.head()"
   ]
  },
  {
   "cell_type": "code",
   "execution_count": 4,
   "id": "0a87c91d",
   "metadata": {},
   "outputs": [
    {
     "data": {
      "text/html": [
       "<div>\n",
       "<style scoped>\n",
       "    .dataframe tbody tr th:only-of-type {\n",
       "        vertical-align: middle;\n",
       "    }\n",
       "\n",
       "    .dataframe tbody tr th {\n",
       "        vertical-align: top;\n",
       "    }\n",
       "\n",
       "    .dataframe thead th {\n",
       "        text-align: right;\n",
       "    }\n",
       "</style>\n",
       "<table border=\"1\" class=\"dataframe\">\n",
       "  <thead>\n",
       "    <tr style=\"text-align: right;\">\n",
       "      <th></th>\n",
       "      <th>userID</th>\n",
       "      <th>n_clicks</th>\n",
       "      <th>n_queries</th>\n",
       "      <th>n_nonclk_queries</th>\n",
       "    </tr>\n",
       "  </thead>\n",
       "  <tbody>\n",
       "    <tr>\n",
       "      <th>count</th>\n",
       "      <td>566134.000000</td>\n",
       "      <td>566134.000000</td>\n",
       "      <td>566134.000000</td>\n",
       "      <td>566134.000000</td>\n",
       "    </tr>\n",
       "    <tr>\n",
       "      <th>mean</th>\n",
       "      <td>301377.214027</td>\n",
       "      <td>11.431658</td>\n",
       "      <td>10.720524</td>\n",
       "      <td>4.703987</td>\n",
       "    </tr>\n",
       "    <tr>\n",
       "      <th>std</th>\n",
       "      <td>175526.333101</td>\n",
       "      <td>20.251494</td>\n",
       "      <td>16.262827</td>\n",
       "      <td>8.109958</td>\n",
       "    </tr>\n",
       "    <tr>\n",
       "      <th>min</th>\n",
       "      <td>1.000000</td>\n",
       "      <td>0.000000</td>\n",
       "      <td>1.000000</td>\n",
       "      <td>0.000000</td>\n",
       "    </tr>\n",
       "    <tr>\n",
       "      <th>25%</th>\n",
       "      <td>148627.250000</td>\n",
       "      <td>1.000000</td>\n",
       "      <td>2.000000</td>\n",
       "      <td>1.000000</td>\n",
       "    </tr>\n",
       "    <tr>\n",
       "      <th>50%</th>\n",
       "      <td>299362.500000</td>\n",
       "      <td>4.000000</td>\n",
       "      <td>5.000000</td>\n",
       "      <td>2.000000</td>\n",
       "    </tr>\n",
       "    <tr>\n",
       "      <th>75%</th>\n",
       "      <td>455698.750000</td>\n",
       "      <td>13.000000</td>\n",
       "      <td>13.000000</td>\n",
       "      <td>6.000000</td>\n",
       "    </tr>\n",
       "    <tr>\n",
       "      <th>max</th>\n",
       "      <td>603137.000000</td>\n",
       "      <td>863.000000</td>\n",
       "      <td>665.000000</td>\n",
       "      <td>581.000000</td>\n",
       "    </tr>\n",
       "  </tbody>\n",
       "</table>\n",
       "</div>"
      ],
      "text/plain": [
       "              userID       n_clicks      n_queries  n_nonclk_queries\n",
       "count  566134.000000  566134.000000  566134.000000     566134.000000\n",
       "mean   301377.214027      11.431658      10.720524          4.703987\n",
       "std    175526.333101      20.251494      16.262827          8.109958\n",
       "min         1.000000       0.000000       1.000000          0.000000\n",
       "25%    148627.250000       1.000000       2.000000          1.000000\n",
       "50%    299362.500000       4.000000       5.000000          2.000000\n",
       "75%    455698.750000      13.000000      13.000000          6.000000\n",
       "max    603137.000000     863.000000     665.000000        581.000000"
      ]
     },
     "execution_count": 4,
     "metadata": {},
     "output_type": "execute_result"
    }
   ],
   "source": [
    "data.describe()"
   ]
  },
  {
   "cell_type": "markdown",
   "id": "8fb986c9",
   "metadata": {},
   "source": [
    "## Задание 1\n",
    "\n",
    "Посчитайте, насколько в группе exp больше пользовательских кликов по сравнению с группой control в процентах от числа кликов в контрольной группе.\n",
    "\n",
    "Полученный процент округлите  до третьего знака после точки. "
   ]
  },
  {
   "cell_type": "code",
   "execution_count": 6,
   "id": "1c855711",
   "metadata": {},
   "outputs": [],
   "source": [
    "n_clicks_exp = np.sum(data[data.slot == 'exp'].n_clicks.values)\n",
    "n_clicks_control = np.sum(data[data.slot == 'control'].n_clicks.values)"
   ]
  },
  {
   "cell_type": "code",
   "execution_count": 10,
   "id": "d948e5d6",
   "metadata": {
    "scrolled": true
   },
   "outputs": [
    {
     "name": "stdout",
     "output_type": "stream",
     "text": [
      "В группе exp пользовательских кликов на 1.614 % больше, чем в группе control.\n"
     ]
    }
   ],
   "source": [
    "print('В группе exp пользовательских кликов на', (100 * n_clicks_exp / n_clicks_control - 100).round(3),\\\n",
    "      '% больше, чем в группе control.')"
   ]
  },
  {
   "cell_type": "markdown",
   "id": "d0344511",
   "metadata": {},
   "source": [
    "## Задание 2\n",
    "\n",
    "Постройте с помощью бутстрепа 95% доверительный интервал для средних значений и медиан количества кликов в каждой из двух групп."
   ]
  },
  {
   "cell_type": "code",
   "execution_count": 11,
   "id": "45876fed",
   "metadata": {},
   "outputs": [],
   "source": [
    "# Функция, производящая n_samples выборок с возвращением объема len(data)\n",
    "def get_bootstrap_samples(data, n_samples):\n",
    "    indices = np.random.randint(0, len(data), (n_samples, len(data)))\n",
    "    samples = data[indices]\n",
    "    return samples"
   ]
  },
  {
   "cell_type": "code",
   "execution_count": 12,
   "id": "cf0c72db",
   "metadata": {},
   "outputs": [],
   "source": [
    "# Функция, возвращающая границы доверительного интервала, которая использует квантили порядков alpha/2 и 1 - alpha/2\n",
    "def stat_intervals(stat, alpha):\n",
    "    boundaries = np.percentile(stat, [100 * alpha / 2, 100 * (1 - alpha / 2)])\n",
    "    return boundaries"
   ]
  },
  {
   "cell_type": "code",
   "execution_count": 17,
   "id": "b96ce9c4",
   "metadata": {},
   "outputs": [],
   "source": [
    "clicks_exp = data[data.slot == 'exp'].n_clicks.values\n",
    "clicks_control = data[data.slot == 'control'].n_clicks.values"
   ]
  },
  {
   "cell_type": "code",
   "execution_count": 18,
   "id": "91721a48",
   "metadata": {},
   "outputs": [],
   "source": [
    "clicks_exp_mean_scores = list(map(np.mean, get_bootstrap_samples(clicks_exp, 1000)))\n",
    "clicks_control_mean_scores = list(map(np.mean, get_bootstrap_samples(clicks_control, 1000)))"
   ]
  },
  {
   "cell_type": "code",
   "execution_count": 21,
   "id": "7e601d77",
   "metadata": {},
   "outputs": [],
   "source": [
    "clicks_exp_med_scores = list(map(np.median, get_bootstrap_samples(clicks_exp, 1000)))\n",
    "clicks_control_med_scores = list(map(np.median, get_bootstrap_samples(clicks_control, 1000)))"
   ]
  },
  {
   "cell_type": "code",
   "execution_count": 25,
   "id": "ace9f0df",
   "metadata": {},
   "outputs": [],
   "source": [
    "delta_mean_scores = list(map(lambda x: x[0] - x[1], zip(clicks_exp_mean_scores, clicks_control_mean_scores)))\n",
    "delta_med_scores = list(map(lambda x: x[0] - x[1], zip(clicks_exp_med_scores, clicks_control_med_scores)))"
   ]
  },
  {
   "cell_type": "code",
   "execution_count": 26,
   "id": "5f362f43",
   "metadata": {},
   "outputs": [
    {
     "name": "stdout",
     "output_type": "stream",
     "text": [
      "95% confidence interval for the difference between means [0.19897785 0.41022903]\n"
     ]
    }
   ],
   "source": [
    "print(\"95% confidence interval for the difference between means\",  stat_intervals(delta_mean_scores, 0.05))"
   ]
  },
  {
   "cell_type": "code",
   "execution_count": 27,
   "id": "75d40fe8",
   "metadata": {},
   "outputs": [
    {
     "name": "stdout",
     "output_type": "stream",
     "text": [
      "95% confidence interval for the difference between medians [1. 1.]\n"
     ]
    }
   ],
   "source": [
    "print(\"95% confidence interval for the difference between medians\",  stat_intervals(delta_med_scores, 0.05))"
   ]
  },
  {
   "cell_type": "markdown",
   "id": "e02d0d6e",
   "metadata": {},
   "source": [
    "## Задание 4"
   ]
  },
  {
   "cell_type": "code",
   "execution_count": 40,
   "id": "72cbd357",
   "metadata": {},
   "outputs": [],
   "source": [
    "np.random.seed(0)\n",
    "n_boot_samples = 500\n",
    "\n",
    "clicks_control = data[data.slot == 'control'].n_clicks.values\n",
    "clicks_control_samples = get_bootstrap_samples(clicks_control, n_boot_samples)"
   ]
  },
  {
   "cell_type": "code",
   "execution_count": 47,
   "id": "e61469f1",
   "metadata": {},
   "outputs": [],
   "source": [
    "clicks_control_means = list(map(np.mean, clicks_control_samples))"
   ]
  },
  {
   "cell_type": "code",
   "execution_count": 48,
   "id": "129268eb",
   "metadata": {},
   "outputs": [],
   "source": [
    "clicks_control_sums = []\n",
    "\n",
    "for sample in clicks_control_samples:\n",
    "    clicks_control_sums.append(np.var(sample) * len(sample))"
   ]
  },
  {
   "cell_type": "code",
   "execution_count": 66,
   "id": "745236bd",
   "metadata": {},
   "outputs": [
    {
     "data": {
      "image/png": "[encoded data removed]",
      "text/plain": [
       "<Figure size 720x432 with 1 Axes>"
      ]
     },
     "metadata": {
      "needs_background": "light"
     },
     "output_type": "display_data"
    }
   ],
   "source": [
    "plt.figure(figsize = (10, 6))\n",
    "(osm, osr), (slope, intercept, r) = stats.probplot(clicks_control_means, plot = plt, rvalue = True)\n",
    "plt.show()"
   ]
  },
  {
   "cell_type": "code",
   "execution_count": 67,
   "id": "28d30e6b",
   "metadata": {},
   "outputs": [
    {
     "data": {
      "text/plain": [
       "0.9959537742082024"
      ]
     },
     "execution_count": 67,
     "metadata": {},
     "output_type": "execute_result"
    }
   ],
   "source": [
    "R2_means = r ** 2\n",
    "R2_means"
   ]
  },
  {
   "cell_type": "code",
   "execution_count": 68,
   "id": "fbebdd67",
   "metadata": {},
   "outputs": [
    {
     "data": {
      "image/png": "[encoded data removed]",
      "text/plain": [
       "<Figure size 720x432 with 1 Axes>"
      ]
     },
     "metadata": {
      "needs_background": "light"
     },
     "output_type": "display_data"
    }
   ],
   "source": [
    "plt.figure(figsize = (10, 6))\n",
    "(osm, osr), (slope, intercept, r) = scipy.stats.probplot(clicks_control_sums,\n",
    "                                                         dist = \"chi2\", sparams = (len(clicks_control)-1), plot = plt)\n",
    "plt.show()"
   ]
  },
  {
   "cell_type": "code",
   "execution_count": 69,
   "id": "011802b3",
   "metadata": {},
   "outputs": [
    {
     "data": {
      "text/plain": [
       "0.9965174165449128"
      ]
     },
     "execution_count": 69,
     "metadata": {},
     "output_type": "execute_result"
    }
   ],
   "source": [
    "R2_sums = r ** 2\n",
    "R2_sums"
   ]
  },
  {
   "cell_type": "markdown",
   "id": "fb730682",
   "metadata": {},
   "source": [
    "## Задание 5"
   ]
  },
  {
   "cell_type": "code",
   "execution_count": 70,
   "id": "8581118d",
   "metadata": {},
   "outputs": [],
   "source": [
    "data_exp = data[data.slot == 'exp']\n",
    "data_control = data[data.slot == 'control']"
   ]
  },
  {
   "cell_type": "code",
   "execution_count": 88,
   "id": "6ea65c39",
   "metadata": {},
   "outputs": [],
   "source": [
    "users_exp, users_exp_counts = np.unique(data_exp.userID, return_counts = True)\n",
    "users_control, users_control_counts = np.unique(data_control.userID, return_counts = True)"
   ]
  },
  {
   "cell_type": "code",
   "execution_count": 93,
   "id": "a6f52c10",
   "metadata": {},
   "outputs": [],
   "source": [
    "user_clicks_exp = []\n",
    "\n",
    "for user in users_exp:\n",
    "    user_clicks_exp.append(sum(data_exp[data_exp.userID == user].n_clicks.values))"
   ]
  },
  {
   "cell_type": "code",
   "execution_count": 96,
   "id": "6a183b91",
   "metadata": {},
   "outputs": [],
   "source": [
    "user_clicks_control = []\n",
    "\n",
    "for user in users_control:\n",
    "    user_clicks_control.append(sum(data_control[data_control.userID == user].n_clicks.values))"
   ]
  },
  {
   "cell_type": "code",
   "execution_count": 98,
   "id": "eb6e9c7f",
   "metadata": {},
   "outputs": [
    {
     "data": {
      "text/plain": [
       "MannwhitneyuResult(statistic=38901259929.0, pvalue=4.3471471887604393e-75)"
      ]
     },
     "execution_count": 98,
     "metadata": {},
     "output_type": "execute_result"
    }
   ],
   "source": [
    "stats.mannwhitneyu(user_clicks_exp, user_clicks_control)"
   ]
  },
  {
   "cell_type": "markdown",
   "id": "b576a327",
   "metadata": {},
   "source": [
    "## Задание 6"
   ]
  },
  {
   "cell_type": "code",
   "execution_count": 111,
   "id": "e53e7eda",
   "metadata": {},
   "outputs": [],
   "source": [
    "browsers = np.unique(data.browser)"
   ]
  },
  {
   "cell_type": "code",
   "execution_count": 112,
   "id": "b66cf5c0",
   "metadata": {},
   "outputs": [],
   "source": [
    "browsers_clicks_exp = []\n",
    "\n",
    "for browser in browsers:\n",
    "    browsers_clicks_exp.append(data_exp[data_exp.browser == browser].n_clicks.values)"
   ]
  },
  {
   "cell_type": "code",
   "execution_count": 113,
   "id": "8781edfd",
   "metadata": {},
   "outputs": [],
   "source": [
    "browsers_clicks_control = []\n",
    "\n",
    "for browser in browsers:\n",
    "    browsers_clicks_control.append(data_control[data_control.browser == browser].n_clicks.values)"
   ]
  },
  {
   "cell_type": "code",
   "execution_count": 117,
   "id": "d7442635",
   "metadata": {},
   "outputs": [
    {
     "data": {
      "text/plain": [
       "[array([ 2,  4, 22, ...,  3,  0,  1], dtype=int64),\n",
       " array([ 7, 63, 83, ...,  1,  1,  0], dtype=int64),\n",
       " array([23,  7, 39, ...,  4,  4,  3], dtype=int64),\n",
       " array([ 4, 65,  1, ...,  6,  0,  2], dtype=int64),\n",
       " array([ 2, 21, 25, ...,  1,  2,  0], dtype=int64),\n",
       " array([ 3, 29, 54, ...,  0,  2,  0], dtype=int64)]"
      ]
     },
     "execution_count": 117,
     "metadata": {},
     "output_type": "execute_result"
    }
   ],
   "source": [
    "browsers_clicks_exp"
   ]
  },
  {
   "cell_type": "code",
   "execution_count": 118,
   "id": "6ded97ee",
   "metadata": {},
   "outputs": [
    {
     "data": {
      "text/plain": [
       "[array([2, 0, 4, ..., 3, 5, 1], dtype=int64),\n",
       " array([25,  1, 54, ...,  2,  1,  0], dtype=int64),\n",
       " array([ 9,  3,  5, ...,  0, 11, 10], dtype=int64),\n",
       " array([  7, 173,  11, ...,   2,   3,   4], dtype=int64),\n",
       " array([36, 72,  1, ...,  4,  1,  1], dtype=int64),\n",
       " array([12,  4, 22, ...,  1,  0,  2], dtype=int64)]"
      ]
     },
     "execution_count": 118,
     "metadata": {},
     "output_type": "execute_result"
    }
   ],
   "source": [
    "browsers_clicks_control"
   ]
  },
  {
   "cell_type": "code",
   "execution_count": 115,
   "id": "ab638a0c",
   "metadata": {},
   "outputs": [],
   "source": [
    "pvalues = []\n",
    "\n",
    "for browser_clicks_exp, browser_clicks_control in zip(browsers_clicks_exp, browsers_clicks_control):\n",
    "    pvalues.append(stats.mannwhitneyu(browser_clicks_exp, browser_clicks_control)[1])"
   ]
  },
  {
   "cell_type": "code",
   "execution_count": 116,
   "id": "17371f55",
   "metadata": {
    "scrolled": false
   },
   "outputs": [
    {
     "data": {
      "text/plain": [
       "[0.0,\n",
       " 0.03740060143010802,\n",
       " 0.0272438604197241,\n",
       " 0.45366656388735377,\n",
       " 0.2574055152210032,\n",
       " 0.40760617658454984]"
      ]
     },
     "execution_count": 116,
     "metadata": {},
     "output_type": "execute_result"
    }
   ],
   "source": [
    "pvalues"
   ]
  },
  {
   "cell_type": "code",
   "execution_count": 123,
   "id": "97f9e0fa",
   "metadata": {},
   "outputs": [],
   "source": [
    "import statsmodels.stats.multitest as smm"
   ]
  },
  {
   "cell_type": "code",
   "execution_count": 124,
   "id": "8216878d",
   "metadata": {},
   "outputs": [],
   "source": [
    "reject, p_corrected, a1, a2 = smm.multipletests(pvalues, alpha = 0.05, method = 'holm') "
   ]
  },
  {
   "cell_type": "code",
   "execution_count": 127,
   "id": "37ace930",
   "metadata": {},
   "outputs": [
    {
     "data": {
      "text/plain": [
       "array([ True, False, False, False, False, False])"
      ]
     },
     "execution_count": 127,
     "metadata": {},
     "output_type": "execute_result"
    }
   ],
   "source": [
    "reject"
   ]
  },
  {
   "cell_type": "code",
   "execution_count": 128,
   "id": "1fd2a555",
   "metadata": {},
   "outputs": [
    {
     "data": {
      "text/plain": [
       "'Browser #14'"
      ]
     },
     "execution_count": 128,
     "metadata": {},
     "output_type": "execute_result"
    }
   ],
   "source": [
    "browsers[0]"
   ]
  },
  {
   "cell_type": "markdown",
   "id": "3a4c2743",
   "metadata": {},
   "source": [
    "## Задание 7"
   ]
  },
  {
   "cell_type": "code",
   "execution_count": 143,
   "id": "df16bdca",
   "metadata": {},
   "outputs": [],
   "source": [
    "parts_exp = []\n",
    "parts_control = []\n",
    "\n",
    "for browser in browsers:\n",
    "    parts_exp.append(100 * sum(data_exp[data_exp.browser == browser].n_nonclk_queries.values) /\n",
    "                     sum(data_exp[data_exp.browser == browser].n_queries.values))\n",
    "    parts_control.append(100 * sum(data_control[data_control.browser == browser].n_nonclk_queries.values) /\n",
    "                     sum(data_control[data_control.browser == browser].n_queries.values))"
   ]
  },
  {
   "cell_type": "code",
   "execution_count": 144,
   "id": "ec7b32b6",
   "metadata": {},
   "outputs": [
    {
     "data": {
      "text/plain": [
       "[43.755617361273295,\n",
       " 36.93741284866483,\n",
       " 44.982746948554706,\n",
       " 38.97737648371716,\n",
       " 39.85394721969546,\n",
       " 45.14294190358467]"
      ]
     },
     "execution_count": 144,
     "metadata": {},
     "output_type": "execute_result"
    }
   ],
   "source": [
    "parts_exp"
   ]
  },
  {
   "cell_type": "code",
   "execution_count": 145,
   "id": "0187f85b",
   "metadata": {},
   "outputs": [
    {
     "data": {
      "text/plain": [
       "[57.59041136008114,\n",
       " 36.29936674628209,\n",
       " 45.96274717919465,\n",
       " 40.540484743383296,\n",
       " 40.593976593513354,\n",
       " 46.97092963514274]"
      ]
     },
     "execution_count": 145,
     "metadata": {},
     "output_type": "execute_result"
    }
   ],
   "source": [
    "parts_control"
   ]
  },
  {
   "cell_type": "code",
   "execution_count": 146,
   "id": "9990d28f",
   "metadata": {},
   "outputs": [
    {
     "name": "stdout",
     "output_type": "stream",
     "text": [
      "Browser #14 : 13.8348\n",
      "Browser #17 : 0.638\n",
      "Browser #2 : 0.98\n",
      "Browser #20 : 1.5631\n",
      "Browser #22 : 0.74\n",
      "Browser #4 : 1.828\n"
     ]
    }
   ],
   "source": [
    "changes = [abs(x - y) for x, y in zip(parts_exp, parts_control)]\n",
    "for i, change in enumerate(changes):\n",
    "    print(browsers[i], ':', change.round(4))"
   ]
  },
  {
   "cell_type": "code",
   "execution_count": 147,
   "id": "0a58980c",
   "metadata": {},
   "outputs": [
    {
     "data": {
      "text/plain": [
       "'Browser #14'"
      ]
     },
     "execution_count": 147,
     "metadata": {},
     "output_type": "execute_result"
    }
   ],
   "source": [
    "browsers[np.argmax(changes)]"
   ]
  }
 ],
 "metadata": {
  "kernelspec": {
   "display_name": "Python 3",
   "language": "python",
   "name": "python3"
  },
  "language_info": {
   "codemirror_mode": {
    "name": "ipython",
    "version": 3
   },
   "file_extension": ".py",
   "mimetype": "text/x-python",
   "name": "python",
   "nbconvert_exporter": "python",
   "pygments_lexer": "ipython3",
   "version": "3.8.8"
  }
 },
 "nbformat": 4,
 "nbformat_minor": 5
}
