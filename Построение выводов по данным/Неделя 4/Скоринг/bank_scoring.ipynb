{
 "cells": [
  {
   "cell_type": "code",
   "execution_count": 1,
   "id": "fd9d1be8",
   "metadata": {},
   "outputs": [],
   "source": [
    "import numpy as np\n",
    "import pandas as pd\n",
    "import seaborn as sns\n",
    "import altair as alt\n",
    "import matplotlib.pyplot as plt\n",
    "import scipy\n",
    "from scipy import stats"
   ]
  },
  {
   "cell_type": "markdown",
   "id": "f9d3a6b5",
   "metadata": {},
   "source": [
    "- LIMIT_BAL:  размер кредитного лимита (в том числе и на семью клиента)\n",
    "\n",
    "- SEX: пол клиента (1 = мужской, 2 = женский )\n",
    "\n",
    "- EDUCATION: образование (0 = доктор, 1 = магистр; 2 = бакалавр; 3 = выпускник школы; 4 = начальное образование; 5= прочее; 6 = нет данных ).\n",
    "\n",
    "- MARRIAGE: (0 = отказываюсь отвечать; 1 = замужем/женат; 2 = холост; 3 = нет данных). \n",
    "\n",
    "- AGE: возраст в годах\n",
    "\n",
    "- PAY_0 - PAY_6 : История прошлых платежей по кредиту. PAY_6 - платеж в апреле, ... Pay_0 - платеж в сентябре. Платеж = (0 = исправный платеж, 1=задержка в один месяц, 2=задержка в 2 месяца ...)\n",
    "\n",
    "- BILL_AMT1 - BILL_AMT6:  задолженность,  BILL_AMT6 - на апрель, BILL_AMT1 - на сентябрь \n",
    "\n",
    "- PAY_AMT1 - PAY_AMT6: сумма уплаченная в PAY_AMT6 - апреле, ..., PAY_AMT1 - сентябре \n",
    "\n",
    "- default - индикатор невозврата денежных средств"
   ]
  },
  {
   "cell_type": "code",
   "execution_count": 2,
   "id": "16d7d07e",
   "metadata": {},
   "outputs": [],
   "source": [
    "data = pd.read_csv('credit_card_default_analysis.csv')"
   ]
  },
  {
   "cell_type": "code",
   "execution_count": 3,
   "id": "a0b15b16",
   "metadata": {},
   "outputs": [
    {
     "data": {
      "text/html": [
       "<div>\n",
       "<style scoped>\n",
       "    .dataframe tbody tr th:only-of-type {\n",
       "        vertical-align: middle;\n",
       "    }\n",
       "\n",
       "    .dataframe tbody tr th {\n",
       "        vertical-align: top;\n",
       "    }\n",
       "\n",
       "    .dataframe thead th {\n",
       "        text-align: right;\n",
       "    }\n",
       "</style>\n",
       "<table border=\"1\" class=\"dataframe\">\n",
       "  <thead>\n",
       "    <tr style=\"text-align: right;\">\n",
       "      <th></th>\n",
       "      <th>ID</th>\n",
       "      <th>LIMIT_BAL</th>\n",
       "      <th>SEX</th>\n",
       "      <th>EDUCATION</th>\n",
       "      <th>MARRIAGE</th>\n",
       "      <th>AGE</th>\n",
       "      <th>PAY_0</th>\n",
       "      <th>PAY_2</th>\n",
       "      <th>PAY_3</th>\n",
       "      <th>PAY_4</th>\n",
       "      <th>...</th>\n",
       "      <th>BILL_AMT4</th>\n",
       "      <th>BILL_AMT5</th>\n",
       "      <th>BILL_AMT6</th>\n",
       "      <th>PAY_AMT1</th>\n",
       "      <th>PAY_AMT2</th>\n",
       "      <th>PAY_AMT3</th>\n",
       "      <th>PAY_AMT4</th>\n",
       "      <th>PAY_AMT5</th>\n",
       "      <th>PAY_AMT6</th>\n",
       "      <th>default</th>\n",
       "    </tr>\n",
       "  </thead>\n",
       "  <tbody>\n",
       "    <tr>\n",
       "      <th>0</th>\n",
       "      <td>1</td>\n",
       "      <td>20000</td>\n",
       "      <td>2</td>\n",
       "      <td>2</td>\n",
       "      <td>1</td>\n",
       "      <td>24</td>\n",
       "      <td>2</td>\n",
       "      <td>2</td>\n",
       "      <td>0</td>\n",
       "      <td>0</td>\n",
       "      <td>...</td>\n",
       "      <td>0</td>\n",
       "      <td>0</td>\n",
       "      <td>0</td>\n",
       "      <td>0</td>\n",
       "      <td>689</td>\n",
       "      <td>0</td>\n",
       "      <td>0</td>\n",
       "      <td>0</td>\n",
       "      <td>0</td>\n",
       "      <td>1</td>\n",
       "    </tr>\n",
       "    <tr>\n",
       "      <th>1</th>\n",
       "      <td>2</td>\n",
       "      <td>120000</td>\n",
       "      <td>2</td>\n",
       "      <td>2</td>\n",
       "      <td>2</td>\n",
       "      <td>26</td>\n",
       "      <td>0</td>\n",
       "      <td>2</td>\n",
       "      <td>0</td>\n",
       "      <td>0</td>\n",
       "      <td>...</td>\n",
       "      <td>3272</td>\n",
       "      <td>3455</td>\n",
       "      <td>3261</td>\n",
       "      <td>0</td>\n",
       "      <td>1000</td>\n",
       "      <td>1000</td>\n",
       "      <td>1000</td>\n",
       "      <td>0</td>\n",
       "      <td>2000</td>\n",
       "      <td>1</td>\n",
       "    </tr>\n",
       "    <tr>\n",
       "      <th>2</th>\n",
       "      <td>3</td>\n",
       "      <td>90000</td>\n",
       "      <td>2</td>\n",
       "      <td>2</td>\n",
       "      <td>2</td>\n",
       "      <td>34</td>\n",
       "      <td>0</td>\n",
       "      <td>0</td>\n",
       "      <td>0</td>\n",
       "      <td>0</td>\n",
       "      <td>...</td>\n",
       "      <td>14331</td>\n",
       "      <td>14948</td>\n",
       "      <td>15549</td>\n",
       "      <td>1518</td>\n",
       "      <td>1500</td>\n",
       "      <td>1000</td>\n",
       "      <td>1000</td>\n",
       "      <td>1000</td>\n",
       "      <td>5000</td>\n",
       "      <td>0</td>\n",
       "    </tr>\n",
       "    <tr>\n",
       "      <th>3</th>\n",
       "      <td>4</td>\n",
       "      <td>50000</td>\n",
       "      <td>2</td>\n",
       "      <td>2</td>\n",
       "      <td>1</td>\n",
       "      <td>37</td>\n",
       "      <td>0</td>\n",
       "      <td>0</td>\n",
       "      <td>0</td>\n",
       "      <td>0</td>\n",
       "      <td>...</td>\n",
       "      <td>28314</td>\n",
       "      <td>28959</td>\n",
       "      <td>29547</td>\n",
       "      <td>2000</td>\n",
       "      <td>2019</td>\n",
       "      <td>1200</td>\n",
       "      <td>1100</td>\n",
       "      <td>1069</td>\n",
       "      <td>1000</td>\n",
       "      <td>0</td>\n",
       "    </tr>\n",
       "    <tr>\n",
       "      <th>4</th>\n",
       "      <td>5</td>\n",
       "      <td>50000</td>\n",
       "      <td>1</td>\n",
       "      <td>2</td>\n",
       "      <td>1</td>\n",
       "      <td>57</td>\n",
       "      <td>0</td>\n",
       "      <td>0</td>\n",
       "      <td>0</td>\n",
       "      <td>0</td>\n",
       "      <td>...</td>\n",
       "      <td>20940</td>\n",
       "      <td>19146</td>\n",
       "      <td>19131</td>\n",
       "      <td>2000</td>\n",
       "      <td>36681</td>\n",
       "      <td>10000</td>\n",
       "      <td>9000</td>\n",
       "      <td>689</td>\n",
       "      <td>679</td>\n",
       "      <td>0</td>\n",
       "    </tr>\n",
       "  </tbody>\n",
       "</table>\n",
       "<p>5 rows × 25 columns</p>\n",
       "</div>"
      ],
      "text/plain": [
       "   ID  LIMIT_BAL  SEX  EDUCATION  MARRIAGE  AGE  PAY_0  PAY_2  PAY_3  PAY_4  \\\n",
       "0   1      20000    2          2         1   24      2      2      0      0   \n",
       "1   2     120000    2          2         2   26      0      2      0      0   \n",
       "2   3      90000    2          2         2   34      0      0      0      0   \n",
       "3   4      50000    2          2         1   37      0      0      0      0   \n",
       "4   5      50000    1          2         1   57      0      0      0      0   \n",
       "\n",
       "   ...  BILL_AMT4  BILL_AMT5  BILL_AMT6  PAY_AMT1  PAY_AMT2  PAY_AMT3  \\\n",
       "0  ...          0          0          0         0       689         0   \n",
       "1  ...       3272       3455       3261         0      1000      1000   \n",
       "2  ...      14331      14948      15549      1518      1500      1000   \n",
       "3  ...      28314      28959      29547      2000      2019      1200   \n",
       "4  ...      20940      19146      19131      2000     36681     10000   \n",
       "\n",
       "   PAY_AMT4  PAY_AMT5  PAY_AMT6  default  \n",
       "0         0         0         0        1  \n",
       "1      1000         0      2000        1  \n",
       "2      1000      1000      5000        0  \n",
       "3      1100      1069      1000        0  \n",
       "4      9000       689       679        0  \n",
       "\n",
       "[5 rows x 25 columns]"
      ]
     },
     "execution_count": 3,
     "metadata": {},
     "output_type": "execute_result"
    }
   ],
   "source": [
    "data.head()"
   ]
  },
  {
   "cell_type": "code",
   "execution_count": 4,
   "id": "f734c3ca",
   "metadata": {},
   "outputs": [
    {
     "data": {
      "text/html": [
       "<div>\n",
       "<style scoped>\n",
       "    .dataframe tbody tr th:only-of-type {\n",
       "        vertical-align: middle;\n",
       "    }\n",
       "\n",
       "    .dataframe tbody tr th {\n",
       "        vertical-align: top;\n",
       "    }\n",
       "\n",
       "    .dataframe thead th {\n",
       "        text-align: right;\n",
       "    }\n",
       "</style>\n",
       "<table border=\"1\" class=\"dataframe\">\n",
       "  <thead>\n",
       "    <tr style=\"text-align: right;\">\n",
       "      <th></th>\n",
       "      <th>ID</th>\n",
       "      <th>LIMIT_BAL</th>\n",
       "      <th>SEX</th>\n",
       "      <th>EDUCATION</th>\n",
       "      <th>MARRIAGE</th>\n",
       "      <th>AGE</th>\n",
       "      <th>PAY_0</th>\n",
       "      <th>PAY_2</th>\n",
       "      <th>PAY_3</th>\n",
       "      <th>PAY_4</th>\n",
       "      <th>...</th>\n",
       "      <th>BILL_AMT4</th>\n",
       "      <th>BILL_AMT5</th>\n",
       "      <th>BILL_AMT6</th>\n",
       "      <th>PAY_AMT1</th>\n",
       "      <th>PAY_AMT2</th>\n",
       "      <th>PAY_AMT3</th>\n",
       "      <th>PAY_AMT4</th>\n",
       "      <th>PAY_AMT5</th>\n",
       "      <th>PAY_AMT6</th>\n",
       "      <th>default</th>\n",
       "    </tr>\n",
       "  </thead>\n",
       "  <tbody>\n",
       "    <tr>\n",
       "      <th>count</th>\n",
       "      <td>30000.000000</td>\n",
       "      <td>30000.000000</td>\n",
       "      <td>30000.000000</td>\n",
       "      <td>30000.000000</td>\n",
       "      <td>30000.000000</td>\n",
       "      <td>30000.000000</td>\n",
       "      <td>30000.000000</td>\n",
       "      <td>30000.000000</td>\n",
       "      <td>30000.000000</td>\n",
       "      <td>30000.000000</td>\n",
       "      <td>...</td>\n",
       "      <td>30000.000000</td>\n",
       "      <td>30000.000000</td>\n",
       "      <td>30000.000000</td>\n",
       "      <td>30000.000000</td>\n",
       "      <td>3.000000e+04</td>\n",
       "      <td>30000.00000</td>\n",
       "      <td>30000.000000</td>\n",
       "      <td>30000.000000</td>\n",
       "      <td>30000.000000</td>\n",
       "      <td>30000.000000</td>\n",
       "    </tr>\n",
       "    <tr>\n",
       "      <th>mean</th>\n",
       "      <td>15000.500000</td>\n",
       "      <td>167484.322667</td>\n",
       "      <td>1.603733</td>\n",
       "      <td>1.853133</td>\n",
       "      <td>1.551867</td>\n",
       "      <td>35.485500</td>\n",
       "      <td>0.356767</td>\n",
       "      <td>0.320033</td>\n",
       "      <td>0.304067</td>\n",
       "      <td>0.258767</td>\n",
       "      <td>...</td>\n",
       "      <td>43262.948967</td>\n",
       "      <td>40311.400967</td>\n",
       "      <td>38871.760400</td>\n",
       "      <td>5663.580500</td>\n",
       "      <td>5.921163e+03</td>\n",
       "      <td>5225.68150</td>\n",
       "      <td>4826.076867</td>\n",
       "      <td>4799.387633</td>\n",
       "      <td>5215.502567</td>\n",
       "      <td>0.221200</td>\n",
       "    </tr>\n",
       "    <tr>\n",
       "      <th>std</th>\n",
       "      <td>8660.398374</td>\n",
       "      <td>129747.661567</td>\n",
       "      <td>0.489129</td>\n",
       "      <td>0.790349</td>\n",
       "      <td>0.521970</td>\n",
       "      <td>9.217904</td>\n",
       "      <td>0.760594</td>\n",
       "      <td>0.801727</td>\n",
       "      <td>0.790589</td>\n",
       "      <td>0.761113</td>\n",
       "      <td>...</td>\n",
       "      <td>64332.856134</td>\n",
       "      <td>60797.155770</td>\n",
       "      <td>59554.107537</td>\n",
       "      <td>16563.280354</td>\n",
       "      <td>2.304087e+04</td>\n",
       "      <td>17606.96147</td>\n",
       "      <td>15666.159744</td>\n",
       "      <td>15278.305679</td>\n",
       "      <td>17777.465775</td>\n",
       "      <td>0.415062</td>\n",
       "    </tr>\n",
       "    <tr>\n",
       "      <th>min</th>\n",
       "      <td>1.000000</td>\n",
       "      <td>10000.000000</td>\n",
       "      <td>1.000000</td>\n",
       "      <td>0.000000</td>\n",
       "      <td>0.000000</td>\n",
       "      <td>21.000000</td>\n",
       "      <td>0.000000</td>\n",
       "      <td>0.000000</td>\n",
       "      <td>0.000000</td>\n",
       "      <td>0.000000</td>\n",
       "      <td>...</td>\n",
       "      <td>-170000.000000</td>\n",
       "      <td>-81334.000000</td>\n",
       "      <td>-339603.000000</td>\n",
       "      <td>0.000000</td>\n",
       "      <td>0.000000e+00</td>\n",
       "      <td>0.00000</td>\n",
       "      <td>0.000000</td>\n",
       "      <td>0.000000</td>\n",
       "      <td>0.000000</td>\n",
       "      <td>0.000000</td>\n",
       "    </tr>\n",
       "    <tr>\n",
       "      <th>25%</th>\n",
       "      <td>7500.750000</td>\n",
       "      <td>50000.000000</td>\n",
       "      <td>1.000000</td>\n",
       "      <td>1.000000</td>\n",
       "      <td>1.000000</td>\n",
       "      <td>28.000000</td>\n",
       "      <td>0.000000</td>\n",
       "      <td>0.000000</td>\n",
       "      <td>0.000000</td>\n",
       "      <td>0.000000</td>\n",
       "      <td>...</td>\n",
       "      <td>2326.750000</td>\n",
       "      <td>1763.000000</td>\n",
       "      <td>1256.000000</td>\n",
       "      <td>1000.000000</td>\n",
       "      <td>8.330000e+02</td>\n",
       "      <td>390.00000</td>\n",
       "      <td>296.000000</td>\n",
       "      <td>252.500000</td>\n",
       "      <td>117.750000</td>\n",
       "      <td>0.000000</td>\n",
       "    </tr>\n",
       "    <tr>\n",
       "      <th>50%</th>\n",
       "      <td>15000.500000</td>\n",
       "      <td>140000.000000</td>\n",
       "      <td>2.000000</td>\n",
       "      <td>2.000000</td>\n",
       "      <td>2.000000</td>\n",
       "      <td>34.000000</td>\n",
       "      <td>0.000000</td>\n",
       "      <td>0.000000</td>\n",
       "      <td>0.000000</td>\n",
       "      <td>0.000000</td>\n",
       "      <td>...</td>\n",
       "      <td>19052.000000</td>\n",
       "      <td>18104.500000</td>\n",
       "      <td>17071.000000</td>\n",
       "      <td>2100.000000</td>\n",
       "      <td>2.009000e+03</td>\n",
       "      <td>1800.00000</td>\n",
       "      <td>1500.000000</td>\n",
       "      <td>1500.000000</td>\n",
       "      <td>1500.000000</td>\n",
       "      <td>0.000000</td>\n",
       "    </tr>\n",
       "    <tr>\n",
       "      <th>75%</th>\n",
       "      <td>22500.250000</td>\n",
       "      <td>240000.000000</td>\n",
       "      <td>2.000000</td>\n",
       "      <td>2.000000</td>\n",
       "      <td>2.000000</td>\n",
       "      <td>41.000000</td>\n",
       "      <td>0.000000</td>\n",
       "      <td>0.000000</td>\n",
       "      <td>0.000000</td>\n",
       "      <td>0.000000</td>\n",
       "      <td>...</td>\n",
       "      <td>54506.000000</td>\n",
       "      <td>50190.500000</td>\n",
       "      <td>49198.250000</td>\n",
       "      <td>5006.000000</td>\n",
       "      <td>5.000000e+03</td>\n",
       "      <td>4505.00000</td>\n",
       "      <td>4013.250000</td>\n",
       "      <td>4031.500000</td>\n",
       "      <td>4000.000000</td>\n",
       "      <td>0.000000</td>\n",
       "    </tr>\n",
       "    <tr>\n",
       "      <th>max</th>\n",
       "      <td>30000.000000</td>\n",
       "      <td>1000000.000000</td>\n",
       "      <td>2.000000</td>\n",
       "      <td>6.000000</td>\n",
       "      <td>3.000000</td>\n",
       "      <td>79.000000</td>\n",
       "      <td>8.000000</td>\n",
       "      <td>8.000000</td>\n",
       "      <td>8.000000</td>\n",
       "      <td>8.000000</td>\n",
       "      <td>...</td>\n",
       "      <td>891586.000000</td>\n",
       "      <td>927171.000000</td>\n",
       "      <td>961664.000000</td>\n",
       "      <td>873552.000000</td>\n",
       "      <td>1.684259e+06</td>\n",
       "      <td>896040.00000</td>\n",
       "      <td>621000.000000</td>\n",
       "      <td>426529.000000</td>\n",
       "      <td>528666.000000</td>\n",
       "      <td>1.000000</td>\n",
       "    </tr>\n",
       "  </tbody>\n",
       "</table>\n",
       "<p>8 rows × 25 columns</p>\n",
       "</div>"
      ],
      "text/plain": [
       "                 ID       LIMIT_BAL           SEX     EDUCATION      MARRIAGE  \\\n",
       "count  30000.000000    30000.000000  30000.000000  30000.000000  30000.000000   \n",
       "mean   15000.500000   167484.322667      1.603733      1.853133      1.551867   \n",
       "std     8660.398374   129747.661567      0.489129      0.790349      0.521970   \n",
       "min        1.000000    10000.000000      1.000000      0.000000      0.000000   \n",
       "25%     7500.750000    50000.000000      1.000000      1.000000      1.000000   \n",
       "50%    15000.500000   140000.000000      2.000000      2.000000      2.000000   \n",
       "75%    22500.250000   240000.000000      2.000000      2.000000      2.000000   \n",
       "max    30000.000000  1000000.000000      2.000000      6.000000      3.000000   \n",
       "\n",
       "                AGE         PAY_0         PAY_2         PAY_3         PAY_4  \\\n",
       "count  30000.000000  30000.000000  30000.000000  30000.000000  30000.000000   \n",
       "mean      35.485500      0.356767      0.320033      0.304067      0.258767   \n",
       "std        9.217904      0.760594      0.801727      0.790589      0.761113   \n",
       "min       21.000000      0.000000      0.000000      0.000000      0.000000   \n",
       "25%       28.000000      0.000000      0.000000      0.000000      0.000000   \n",
       "50%       34.000000      0.000000      0.000000      0.000000      0.000000   \n",
       "75%       41.000000      0.000000      0.000000      0.000000      0.000000   \n",
       "max       79.000000      8.000000      8.000000      8.000000      8.000000   \n",
       "\n",
       "       ...      BILL_AMT4      BILL_AMT5      BILL_AMT6       PAY_AMT1  \\\n",
       "count  ...   30000.000000   30000.000000   30000.000000   30000.000000   \n",
       "mean   ...   43262.948967   40311.400967   38871.760400    5663.580500   \n",
       "std    ...   64332.856134   60797.155770   59554.107537   16563.280354   \n",
       "min    ... -170000.000000  -81334.000000 -339603.000000       0.000000   \n",
       "25%    ...    2326.750000    1763.000000    1256.000000    1000.000000   \n",
       "50%    ...   19052.000000   18104.500000   17071.000000    2100.000000   \n",
       "75%    ...   54506.000000   50190.500000   49198.250000    5006.000000   \n",
       "max    ...  891586.000000  927171.000000  961664.000000  873552.000000   \n",
       "\n",
       "           PAY_AMT2      PAY_AMT3       PAY_AMT4       PAY_AMT5  \\\n",
       "count  3.000000e+04   30000.00000   30000.000000   30000.000000   \n",
       "mean   5.921163e+03    5225.68150    4826.076867    4799.387633   \n",
       "std    2.304087e+04   17606.96147   15666.159744   15278.305679   \n",
       "min    0.000000e+00       0.00000       0.000000       0.000000   \n",
       "25%    8.330000e+02     390.00000     296.000000     252.500000   \n",
       "50%    2.009000e+03    1800.00000    1500.000000    1500.000000   \n",
       "75%    5.000000e+03    4505.00000    4013.250000    4031.500000   \n",
       "max    1.684259e+06  896040.00000  621000.000000  426529.000000   \n",
       "\n",
       "            PAY_AMT6       default  \n",
       "count   30000.000000  30000.000000  \n",
       "mean     5215.502567      0.221200  \n",
       "std     17777.465775      0.415062  \n",
       "min         0.000000      0.000000  \n",
       "25%       117.750000      0.000000  \n",
       "50%      1500.000000      0.000000  \n",
       "75%      4000.000000      0.000000  \n",
       "max    528666.000000      1.000000  \n",
       "\n",
       "[8 rows x 25 columns]"
      ]
     },
     "execution_count": 4,
     "metadata": {},
     "output_type": "execute_result"
    }
   ],
   "source": [
    "data.describe()"
   ]
  },
  {
   "cell_type": "markdown",
   "id": "d62a798d",
   "metadata": {},
   "source": [
    "## Задание 1"
   ]
  },
  {
   "cell_type": "markdown",
   "id": "5269887b",
   "metadata": {},
   "source": [
    "Размер кредитного лимита (LIMIT_BAL). В двух группах, тех людей, кто вернул кредит (default = 0) и тех, кто его не вернул (default = 1) проверьте гипотезы:\n",
    "\n",
    "a) о равенстве медианных значений кредитного лимита с помощью подходящей интервальной оценки\n",
    "\n",
    "b) о равенстве распределений с помощью одного из подходящих непараметрических критериев проверки равенства средних. Значимы ли полученные результаты с практической точки зрения ?"
   ]
  },
  {
   "cell_type": "code",
   "execution_count": 5,
   "id": "9f586008",
   "metadata": {},
   "outputs": [
    {
     "data": {
      "text/plain": [
       "<seaborn.axisgrid.FacetGrid at 0x1ca955b6a90>"
      ]
     },
     "execution_count": 5,
     "metadata": {},
     "output_type": "execute_result"
    },
    {
     "data": {
      "image/png": "[encoded data removed]",
      "text/plain": [
       "<Figure size 360x360 with 1 Axes>"
      ]
     },
     "metadata": {
      "needs_background": "light"
     },
     "output_type": "display_data"
    },
    {
     "data": {
      "image/png": "[encoded data removed]",
      "text/plain": [
       "<Figure size 403.375x360 with 1 Axes>"
      ]
     },
     "metadata": {
      "needs_background": "light"
     },
     "output_type": "display_data"
    }
   ],
   "source": [
    "sns.catplot(x = 'default', y = 'LIMIT_BAL', kind = 'box', data = data)\n",
    "sns.displot(data, x = 'LIMIT_BAL', hue = 'default', bins = 20, multiple = 'stack')"
   ]
  },
  {
   "cell_type": "markdown",
   "id": "53414061",
   "metadata": {},
   "source": [
    "Из графиков нетрудно подметить, что визуально кредитный лимит для тех людей, кто вернул кредит, значительно больше. В особенности это видно по графику boxplot, где изображены медианы двух рассматриваемых выборок."
   ]
  },
  {
   "cell_type": "markdown",
   "id": "107893a7",
   "metadata": {},
   "source": [
    "а) Будем проверять гипотезу о равенстве медианных значений кредитного лимита с помощью доверительных интервалов на основе **bootstrap**."
   ]
  },
  {
   "cell_type": "code",
   "execution_count": 6,
   "id": "1360e556",
   "metadata": {},
   "outputs": [],
   "source": [
    "# Функция, производящая n_samples выборок с возвращением объема len(data)\n",
    "def get_bootstrap_samples(data, n_samples):\n",
    "    indices = np.random.randint(0, len(data), (n_samples, len(data)))\n",
    "    samples = data[indices]\n",
    "    return samples"
   ]
  },
  {
   "cell_type": "code",
   "execution_count": 7,
   "id": "6ad70b79",
   "metadata": {},
   "outputs": [],
   "source": [
    "# Функция, возвращающая границы доверительного интервала, которая использует квантили порядков alpha/2 и 1 - alpha/2\n",
    "def stat_intervals(stat, alpha):\n",
    "    boundaries = np.percentile(stat, [100 * alpha / 2, 100 * (1 - alpha / 2)])\n",
    "    return boundaries"
   ]
  },
  {
   "cell_type": "code",
   "execution_count": 8,
   "id": "ae5e8ac2",
   "metadata": {},
   "outputs": [],
   "source": [
    "lim_def = data[data.default == 1].LIMIT_BAL.values\n",
    "lim_ndef = data[data.default == 0].LIMIT_BAL.values"
   ]
  },
  {
   "cell_type": "code",
   "execution_count": 9,
   "id": "034706dd",
   "metadata": {},
   "outputs": [],
   "source": [
    "lim_def_scores = list(map(np.median, get_bootstrap_samples(lim_def, 1000)))\n",
    "lim_ndef_scores = list(map(np.median, get_bootstrap_samples(lim_ndef, 1000)))"
   ]
  },
  {
   "cell_type": "code",
   "execution_count": 10,
   "id": "f786617a",
   "metadata": {},
   "outputs": [],
   "source": [
    "delta_median_scores = list(map(lambda x: x[1] - x[0], zip(lim_def_scores, lim_ndef_scores)))"
   ]
  },
  {
   "cell_type": "code",
   "execution_count": 11,
   "id": "e11305a6",
   "metadata": {},
   "outputs": [
    {
     "name": "stdout",
     "output_type": "stream",
     "text": [
      "95% confidence interval for the difference between medians [60000. 70000.]\n"
     ]
    }
   ],
   "source": [
    "print(\"95% confidence interval for the difference between medians\",  stat_intervals(delta_median_scores, 0.05))"
   ]
  },
  {
   "cell_type": "markdown",
   "id": "5a124ff7",
   "metadata": {},
   "source": [
    "**Интервальная оценка на основе bootstrap дает результат, который однозначно говорит о том, что медианные значения выборок не равны.**"
   ]
  },
  {
   "cell_type": "markdown",
   "id": "467fc4c5",
   "metadata": {},
   "source": [
    "б) Будем проверять гипотезу о равенстве распределений с помощью **перестановочного критерия для независимых выборок**."
   ]
  },
  {
   "cell_type": "code",
   "execution_count": 12,
   "id": "6ef8dd12",
   "metadata": {},
   "outputs": [],
   "source": [
    "def permutation_t_stat_ind(sample1, sample2):\n",
    "    return np.mean(sample1) - np.mean(sample2)"
   ]
  },
  {
   "cell_type": "code",
   "execution_count": 13,
   "id": "6424feaa",
   "metadata": {},
   "outputs": [],
   "source": [
    "def get_random_combinations(n1, n2, max_combinations):\n",
    "    index = list(range(n1 + n2))\n",
    "    indices = set([tuple(index)])\n",
    "    for i in range(max_combinations - 1):\n",
    "        np.random.shuffle(index)\n",
    "        indices.add(tuple(index))\n",
    "    return [(index[:n1], index[n1:]) for index in indices]"
   ]
  },
  {
   "cell_type": "code",
   "execution_count": 14,
   "id": "ec648905",
   "metadata": {},
   "outputs": [],
   "source": [
    "def permutation_zero_dist_ind(sample1, sample2, max_combinations = None):\n",
    "    joined_sample = np.hstack((sample1, sample2))\n",
    "    n1 = len(sample1)\n",
    "    n = len(joined_sample)\n",
    "    \n",
    "    if max_combinations:\n",
    "        indices = get_random_combinations(n1, len(sample2), max_combinations)\n",
    "    else:\n",
    "        indices = [(list(index), filter(lambda i: i not in index, range(n))) \\\n",
    "                    for index in itertools.combinations(range(n), n1)]\n",
    "    \n",
    "    distr = [joined_sample[list(i[0])].mean() - joined_sample[list(i[1])].mean() \\\n",
    "             for i in indices]\n",
    "    return distr"
   ]
  },
  {
   "cell_type": "code",
   "execution_count": 15,
   "id": "88df4271",
   "metadata": {},
   "outputs": [
    {
     "data": {
      "text/plain": [
       "<seaborn.axisgrid.FacetGrid at 0x1ca95d18f10>"
      ]
     },
     "execution_count": 15,
     "metadata": {},
     "output_type": "execute_result"
    },
    {
     "data": {
      "image/png": "[encoded data removed]",
      "text/plain": [
       "<Figure size 360x360 with 1 Axes>"
      ]
     },
     "metadata": {
      "needs_background": "light"
     },
     "output_type": "display_data"
    }
   ],
   "source": [
    "sns.displot(permutation_zero_dist_ind(lim_ndef, lim_def, max_combinations = 1000), bins = 30)"
   ]
  },
  {
   "cell_type": "code",
   "execution_count": 16,
   "id": "f35d4e33",
   "metadata": {},
   "outputs": [],
   "source": [
    "def permutation_test(sample, mean, max_permutations = None, alternative = 'two-sided'):\n",
    "    if alternative not in ('two-sided', 'less', 'greater'):\n",
    "        raise ValueError(\"alternative not recognized\\n\"\n",
    "                         \"should be 'two-sided', 'less' or 'greater'\")\n",
    "    \n",
    "    t_stat = permutation_t_stat_ind(sample, mean)\n",
    "    \n",
    "    zero_distr = permutation_zero_dist_ind(sample, mean, max_permutations)\n",
    "    \n",
    "    if alternative == 'two-sided':\n",
    "        return sum([1. if abs(x) >= abs(t_stat) else 0. for x in zero_distr]) / len(zero_distr)\n",
    "    \n",
    "    if alternative == 'less':\n",
    "        return sum([1. if x <= t_stat else 0. for x in zero_distr]) / len(zero_distr)\n",
    "\n",
    "    if alternative == 'greater':\n",
    "        return sum([1. if x >= t_stat else 0. for x in zero_distr]) / len(zero_distr)"
   ]
  },
  {
   "cell_type": "markdown",
   "id": "2631b95a",
   "metadata": {},
   "source": [
    "$H_0:$ распределения размера кредитного лимита в двух группах людей - вернувших и не вернувших кредит - совпадают (равны)\n",
    "\n",
    "$H_1:$ не совпадают (двусторонняя альтернатива)"
   ]
  },
  {
   "cell_type": "code",
   "execution_count": 17,
   "id": "85b8b814",
   "metadata": {},
   "outputs": [
    {
     "name": "stdout",
     "output_type": "stream",
     "text": [
      "p-value: 0.000100\n"
     ]
    }
   ],
   "source": [
    "print(\"p-value: %f\" % permutation_test(lim_ndef, lim_def, max_permutations = 10000))"
   ]
  },
  {
   "cell_type": "markdown",
   "id": "ff053a6d",
   "metadata": {},
   "source": [
    "**Достигаемый уровень значимости $1 \\times 10^{-4}$, поэтому нулевая гипотеза $H_0$ уверенно отвергается на уровне значимости 0,05.**\n",
    "\n",
    "**Более того, размер эффекта, который является разностью медианных значений выборок, существенен. Его практическая значимость также высока, поскольку размер кредитного лимита, конечно, в большей степени должен определяться тем, возвращал ли человек кредит.**"
   ]
  },
  {
   "cell_type": "markdown",
   "id": "23098149",
   "metadata": {},
   "source": [
    "## Задание 2"
   ]
  },
  {
   "cell_type": "markdown",
   "id": "c344d309",
   "metadata": {},
   "source": [
    "Пол (SEX): Проверьте гипотезу о том,  что гендерный состав  группы людей, вернувших и не вернувших кредит, отличается. Хорошо, если вы предоставите несколько различных решений этой задачи (с помощью доверительного интервала и подходящего статистического критерия)."
   ]
  },
  {
   "cell_type": "code",
   "execution_count": 18,
   "id": "e5332b4b",
   "metadata": {},
   "outputs": [
    {
     "data": {
      "text/plain": [
       "<seaborn.axisgrid.FacetGrid at 0x1ca95b68160>"
      ]
     },
     "execution_count": 18,
     "metadata": {},
     "output_type": "execute_result"
    },
    {
     "data": {
      "image/png": "[encoded data removed]",
      "text/plain": [
       "<Figure size 403.375x360 with 1 Axes>"
      ]
     },
     "metadata": {
      "needs_background": "light"
     },
     "output_type": "display_data"
    }
   ],
   "source": [
    "sns.catplot(x = 'SEX', kind = 'count', hue = 'default', data = data)"
   ]
  },
  {
   "cell_type": "markdown",
   "id": "87bec6c6",
   "metadata": {},
   "source": [
    "Проанализировав диаграмму, можно понять, например, что женщины берут кредиты чаще, чем мужчины."
   ]
  },
  {
   "cell_type": "markdown",
   "id": "dbb69f61",
   "metadata": {},
   "source": [
    "Поскольку выборки людей, вернувших и не вернувших кредиты, независимы, то воспользуемся доверительным интервалом и $Z$-критерием для разности долей независимых выборок."
   ]
  },
  {
   "cell_type": "markdown",
   "id": "2977e16a",
   "metadata": {},
   "source": [
    "а) **Доверительный интервал** для разности долей (независимые выборки):\n",
    "\n",
    "$$ \\hat{p}_1 - \\hat{p}_2 \\pm z_{1-\\frac{\\alpha}{2}}\\sqrt{\\frac{\\hat{p}_1(1 - \\hat{p}_1)}{n_1} + \\frac{\\hat{p}_2(1 - \\hat{p}_2)}{n_2}} $$"
   ]
  },
  {
   "cell_type": "code",
   "execution_count": 19,
   "id": "6168389b",
   "metadata": {},
   "outputs": [],
   "source": [
    "# Функция получает на вход две выборки и уровень значимости, возвращает границы доверительного интервала\n",
    "def proportions_diff_confint_ind(sample1, sample2, alpha = 0.05):    \n",
    "    z = stats.norm.ppf(1 - alpha / 2)\n",
    "    \n",
    "    p1 = sum(sample1) / len(sample1)\n",
    "    p2 = sum(sample2) / len(sample2)\n",
    "    \n",
    "    left_boundary = (p1 - p2) - z * np.sqrt(p1 * (1 - p1) / len(sample1) + p2 * (1 - p2) / len(sample2))\n",
    "    right_boundary = (p1 - p2) + z * np.sqrt(p1 * (1 - p1) / len(sample1) + p2 * (1 - p2) / len(sample2))\n",
    "    \n",
    "    return (left_boundary, right_boundary)"
   ]
  },
  {
   "cell_type": "code",
   "execution_count": 20,
   "id": "45e0660d",
   "metadata": {},
   "outputs": [],
   "source": [
    "sex_def = data[data.default == 1].SEX.values\n",
    "sex_ndef = data[data.default == 0].SEX.values"
   ]
  },
  {
   "cell_type": "code",
   "execution_count": 21,
   "id": "54676f67",
   "metadata": {},
   "outputs": [],
   "source": [
    "sex_def = np.where(sex_def == 2, 0, 1)\n",
    "sex_ndef = np.where(sex_ndef == 2, 0, 1)"
   ]
  },
  {
   "cell_type": "code",
   "execution_count": 22,
   "id": "65827649",
   "metadata": {},
   "outputs": [],
   "source": [
    "boundaries = proportions_diff_confint_ind(sex_def, sex_ndef, alpha = 0.05)"
   ]
  },
  {
   "cell_type": "code",
   "execution_count": 23,
   "id": "bad486b2",
   "metadata": {},
   "outputs": [
    {
     "name": "stdout",
     "output_type": "stream",
     "text": [
      "95% confidence interval for the difference between proportions: [0.033635, 0.060548]\n"
     ]
    }
   ],
   "source": [
    "print(\"95%% confidence interval for the difference between proportions: [%f, %f]\" % boundaries)"
   ]
  },
  {
   "cell_type": "markdown",
   "id": "9e9243bf",
   "metadata": {},
   "source": [
    "**Как мы видим, 0 в доверительный интервал не попадает, поэтому можно сказать, что гендерный состав группы людей, вернувших и не вернувших кредит, отличается.**"
   ]
  },
  {
   "cell_type": "markdown",
   "id": "7c666b69",
   "metadata": {},
   "source": [
    "б) **$Z$-критерий** для разности долей (независимые выборки)\n",
    "\n",
    "$$Z-статистика: Z({X_1, X_2}) =  \\frac{\\hat{p}_1 - \\hat{p}_2}{\\sqrt{P(1 - P)(\\frac{1}{n_1} + \\frac{1}{n_2})}}$$\n",
    "$$P = \\frac{\\hat{p}_1{n_1} + \\hat{p}_2{n_2}}{{n_1} + {n_2}} $$"
   ]
  },
  {
   "cell_type": "code",
   "execution_count": 24,
   "id": "44d9f2be",
   "metadata": {},
   "outputs": [],
   "source": [
    "# Функция принимает на вход две выборки, возвращает значение Z-критерия для разности долей\n",
    "def proportions_diff_z_stat_ind(sample1, sample2):\n",
    "    n1 = len(sample1)\n",
    "    n2 = len(sample2)\n",
    "    \n",
    "    p1 = sum(sample1) / n1\n",
    "    p2 = sum(sample2) / n2 \n",
    "    P = (p1 * n1 + p2 * n2) / (n1 + n2)\n",
    "    \n",
    "    return (p1 - p2) / np.sqrt(P * (1 - P) * (1 / n1 + 1 / n2))"
   ]
  },
  {
   "cell_type": "code",
   "execution_count": 25,
   "id": "5d19f797",
   "metadata": {},
   "outputs": [],
   "source": [
    "def proportions_diff_z_test(z_stat, alternative = 'two-sided'):\n",
    "    if alternative not in ('two-sided', 'less', 'greater'):\n",
    "        raise ValueError(\"alternative not recognized\\n\"\n",
    "                         \"should be 'two-sided', 'less' or 'greater'\")\n",
    "    \n",
    "    if alternative == 'two-sided':\n",
    "        return 2 * (1 - scipy.stats.norm.cdf(np.abs(z_stat)))\n",
    "    \n",
    "    if alternative == 'less':\n",
    "        return scipy.stats.norm.cdf(z_stat)\n",
    "\n",
    "    if alternative == 'greater':\n",
    "        return 1 - scipy.stats.norm.cdf(z_stat)"
   ]
  },
  {
   "cell_type": "markdown",
   "id": "60898b73",
   "metadata": {},
   "source": [
    "$H_0:$ гендерный состав группы людей, вернувших и не вернувших кредит, совпадает\n",
    "\n",
    "$H_1:$ различается (двусторонняя альтернатива)"
   ]
  },
  {
   "cell_type": "code",
   "execution_count": 26,
   "id": "a4b59a3e",
   "metadata": {},
   "outputs": [
    {
     "name": "stdout",
     "output_type": "stream",
     "text": [
      "p-value: 4.472866521609831e-12\n"
     ]
    }
   ],
   "source": [
    "print(\"p-value:\", proportions_diff_z_test(proportions_diff_z_stat_ind(sex_def, sex_ndef)))"
   ]
  },
  {
   "cell_type": "markdown",
   "id": "23a06fff",
   "metadata": {},
   "source": [
    "**Достигаемый уровень значимости $4,5 \\times 10^{-12}$, поэтому нулевая гипотеза $H_0$ уверенно отвергается на уровне значимости 0,05.**\n",
    "\n",
    "**Однако практическую значимость этот результат имеет вряд ли, поскольку размер эффекта, равный разности долей мужчин в выборках, находится в интервале от 3% до 6%.**"
   ]
  },
  {
   "cell_type": "markdown",
   "id": "f13b3990",
   "metadata": {},
   "source": [
    "## Задание 3"
   ]
  },
  {
   "cell_type": "markdown",
   "id": "115a7fdb",
   "metadata": {},
   "source": [
    "Образование (EDUCATION): Проверьте гипотезу о том, что образование не влияет на то, вернет ли человек долг.  Предложите способ наглядного представления разницы в ожидаемых и наблюдаемых значениях количества человек вернувших и не вернувших долг. Например, составьте таблицу сопряженности \"образование\" на \"возврат долга\", где значением ячейки была бы  разность между наблюдаемым и ожидаемым количеством человек.  Как бы вы предложили модифицировать таблицу так, чтобы привести значения ячеек к одному масштабу не потеряв в интерпретируемости ?  Наличие какого образования является наилучшим индикатором того, что человек  отдаст долг ? наоборт, не отдаст долг ?"
   ]
  },
  {
   "cell_type": "code",
   "execution_count": 27,
   "id": "21253a4d",
   "metadata": {},
   "outputs": [
    {
     "data": {
      "text/plain": [
       "<seaborn.axisgrid.FacetGrid at 0x1ca9581b190>"
      ]
     },
     "execution_count": 27,
     "metadata": {},
     "output_type": "execute_result"
    },
    {
     "data": {
      "image/png": "[encoded data removed]",
      "text/plain": [
       "<Figure size 360x360 with 1 Axes>"
      ]
     },
     "metadata": {
      "needs_background": "light"
     },
     "output_type": "display_data"
    }
   ],
   "source": [
    "sns.displot(data, x = data.EDUCATION, discrete = True)"
   ]
  },
  {
   "cell_type": "markdown",
   "id": "01f5adea",
   "metadata": {},
   "source": [
    "Можем наблюдать, что в выборке большинство человек имеют высшее образование или, по крайней мере, окончили школу."
   ]
  },
  {
   "cell_type": "code",
   "execution_count": 28,
   "id": "fc045d9d",
   "metadata": {},
   "outputs": [
    {
     "data": {
      "text/plain": [
       "<seaborn.axisgrid.FacetGrid at 0x1ca95774490>"
      ]
     },
     "execution_count": 28,
     "metadata": {},
     "output_type": "execute_result"
    },
    {
     "data": {
      "image/png": "[encoded data removed]",
      "text/plain": [
       "<Figure size 403.375x360 with 1 Axes>"
      ]
     },
     "metadata": {
      "needs_background": "light"
     },
     "output_type": "display_data"
    }
   ],
   "source": [
    "sns.displot(data, x = 'EDUCATION', hue = 'default', discrete = True, multiple = 'stack')"
   ]
  },
  {
   "cell_type": "markdown",
   "id": "993772db",
   "metadata": {},
   "source": [
    "Видим, что принципиальной разницы в распределении людей по образованию среди тех, кто вернул кредит, и кто не вернул, нет."
   ]
  },
  {
   "cell_type": "markdown",
   "id": "22f6d013",
   "metadata": {},
   "source": [
    "Далее будем проверять гипотезу о том, что образование не влияет на то, вернет ли человек долг. Рассмотрим для начала частоты, с которыми люди с различным уровнем образования возвращают кредит."
   ]
  },
  {
   "cell_type": "code",
   "execution_count": 29,
   "id": "516e0919",
   "metadata": {},
   "outputs": [],
   "source": [
    "unique, unique_counts = np.unique(data.EDUCATION, return_counts = True)\n",
    "\n",
    "frequencies = []\n",
    "\n",
    "for stage, count in zip(unique, unique_counts):\n",
    "    frequencies.append(data.EDUCATION[data.EDUCATION == stage][data.default == 0].shape[0] / count)"
   ]
  },
  {
   "cell_type": "code",
   "execution_count": 30,
   "id": "1fbda902",
   "metadata": {},
   "outputs": [
    {
     "data": {
      "text/plain": [
       "Text(0, 0.5, 'Частота возврата кредита')"
      ]
     },
     "execution_count": 30,
     "metadata": {},
     "output_type": "execute_result"
    },
    {
     "data": {
      "image/png": "[encoded data removed]",
      "text/plain": [
       "<Figure size 720x432 with 1 Axes>"
      ]
     },
     "metadata": {
      "needs_background": "light"
     },
     "output_type": "display_data"
    }
   ],
   "source": [
    "plt.figure(figsize = (10, 6))\n",
    "plt.plot(range(len(frequencies)), frequencies, 'ro-')\n",
    "plt.ylim(0, 1.1)\n",
    "plt.xlabel('Уровень образования')\n",
    "plt.ylabel('Частота возврата кредита')"
   ]
  },
  {
   "cell_type": "markdown",
   "id": "d32c310c",
   "metadata": {},
   "source": [
    "Наблюдается существенное различие в частоте возврата кредита.\n",
    "\n",
    "Далее предположим, что распределение частот равномерное, то есть люди с каждым уровнем образования возвращают кредит с одинаковой частотой. В таком предположении вычислим ожидаемые значения количества человек, вернувших и не вернувших кредит, для каждого уровня образования."
   ]
  },
  {
   "cell_type": "code",
   "execution_count": 31,
   "id": "4c1e1dd6",
   "metadata": {},
   "outputs": [
    {
     "name": "stdout",
     "output_type": "stream",
     "text": [
      "0.86\n"
     ]
    }
   ],
   "source": [
    "mean = np.asarray(frequencies).mean()\n",
    "print(mean.round(2))"
   ]
  },
  {
   "cell_type": "markdown",
   "id": "df0596f4",
   "metadata": {},
   "source": [
    "Заметим, что среднее значение частоты возвращения кредита равно **0.86**"
   ]
  },
  {
   "cell_type": "markdown",
   "id": "c41ade83",
   "metadata": {},
   "source": [
    "Теперь для наглядности составим таблицу сопряженности \"образование\" на \"возврат долга\", где значением ячейки будет разность между наблюдаемым и ожидаемым количеством человек. "
   ]
  },
  {
   "cell_type": "code",
   "execution_count": 32,
   "id": "96f541eb",
   "metadata": {},
   "outputs": [],
   "source": [
    "differences = []\n",
    "counts_ndef = []\n",
    "\n",
    "for stage in unique:\n",
    "    counts_ndef.append(data.EDUCATION[data.EDUCATION == stage][data.default == 0].shape[0])\n",
    "\n",
    "for stage, count in zip(unique, unique_counts):\n",
    "    differences.append([round(counts_ndef[stage] - mean * count), round((count - counts_ndef[stage]) - (1 - mean) * count)])"
   ]
  },
  {
   "cell_type": "code",
   "execution_count": 33,
   "id": "f950beda",
   "metadata": {
    "scrolled": true
   },
   "outputs": [
    {
     "data": {
      "text/html": [
       "<div>\n",
       "<style scoped>\n",
       "    .dataframe tbody tr th:only-of-type {\n",
       "        vertical-align: middle;\n",
       "    }\n",
       "\n",
       "    .dataframe tbody tr th {\n",
       "        vertical-align: top;\n",
       "    }\n",
       "\n",
       "    .dataframe thead th {\n",
       "        text-align: right;\n",
       "    }\n",
       "</style>\n",
       "<table border=\"1\" class=\"dataframe\">\n",
       "  <thead>\n",
       "    <tr style=\"text-align: right;\">\n",
       "      <th></th>\n",
       "      <th>0</th>\n",
       "      <th>1</th>\n",
       "    </tr>\n",
       "  </thead>\n",
       "  <tbody>\n",
       "    <tr>\n",
       "      <th>0</th>\n",
       "      <td>2</td>\n",
       "      <td>-2</td>\n",
       "    </tr>\n",
       "    <tr>\n",
       "      <th>1</th>\n",
       "      <td>-585</td>\n",
       "      <td>585</td>\n",
       "    </tr>\n",
       "    <tr>\n",
       "      <th>2</th>\n",
       "      <td>-1407</td>\n",
       "      <td>1407</td>\n",
       "    </tr>\n",
       "    <tr>\n",
       "      <th>3</th>\n",
       "      <td>-563</td>\n",
       "      <td>563</td>\n",
       "    </tr>\n",
       "    <tr>\n",
       "      <th>4</th>\n",
       "      <td>10</td>\n",
       "      <td>-10</td>\n",
       "    </tr>\n",
       "    <tr>\n",
       "      <th>5</th>\n",
       "      <td>20</td>\n",
       "      <td>-20</td>\n",
       "    </tr>\n",
       "    <tr>\n",
       "      <th>6</th>\n",
       "      <td>-1</td>\n",
       "      <td>1</td>\n",
       "    </tr>\n",
       "  </tbody>\n",
       "</table>\n",
       "</div>"
      ],
      "text/plain": [
       "      0     1\n",
       "0     2    -2\n",
       "1  -585   585\n",
       "2 -1407  1407\n",
       "3  -563   563\n",
       "4    10   -10\n",
       "5    20   -20\n",
       "6    -1     1"
      ]
     },
     "execution_count": 33,
     "metadata": {},
     "output_type": "execute_result"
    }
   ],
   "source": [
    "differences_df = pd.DataFrame.from_records(differences)\n",
    "differences_df"
   ]
  },
  {
   "cell_type": "markdown",
   "id": "a3b83543",
   "metadata": {},
   "source": [
    "Таблицу можно модифицировать так, чтобы привести значения ячеек к одному масштабу, не потеряв в интерпретируемости - поделить каждый элемент таблицы на наблюдаемое количество человек вернувших/не вернувших кредит."
   ]
  },
  {
   "cell_type": "markdown",
   "id": "2f4c4b1b",
   "metadata": {},
   "source": [
    "Проанализируем полученную таблицу. В случае, если бы распределение частот было равномерным, значения элементов таблицы должны были быть равными нулю, однако такого не наблюдается. Это означает, что, скорее всего, распределение равномерным не является."
   ]
  },
  {
   "cell_type": "markdown",
   "id": "377a109c",
   "metadata": {},
   "source": [
    "Убедимся в этом более строгим способом - с помощью критерия хи-квадрат."
   ]
  },
  {
   "cell_type": "code",
   "execution_count": 34,
   "id": "359c60a7",
   "metadata": {},
   "outputs": [],
   "source": [
    "f_obs = pd.DataFrame.from_records([[count_ndef, count - count_ndef] for count_ndef, count in zip(counts_ndef, unique_counts)])"
   ]
  },
  {
   "cell_type": "code",
   "execution_count": 35,
   "id": "c309b3f4",
   "metadata": {},
   "outputs": [
    {
     "data": {
      "text/html": [
       "<div>\n",
       "<style scoped>\n",
       "    .dataframe tbody tr th:only-of-type {\n",
       "        vertical-align: middle;\n",
       "    }\n",
       "\n",
       "    .dataframe tbody tr th {\n",
       "        vertical-align: top;\n",
       "    }\n",
       "\n",
       "    .dataframe thead th {\n",
       "        text-align: right;\n",
       "    }\n",
       "</style>\n",
       "<table border=\"1\" class=\"dataframe\">\n",
       "  <thead>\n",
       "    <tr style=\"text-align: right;\">\n",
       "      <th></th>\n",
       "      <th>0</th>\n",
       "      <th>1</th>\n",
       "    </tr>\n",
       "  </thead>\n",
       "  <tbody>\n",
       "    <tr>\n",
       "      <th>0</th>\n",
       "      <td>14</td>\n",
       "      <td>0</td>\n",
       "    </tr>\n",
       "    <tr>\n",
       "      <th>1</th>\n",
       "      <td>8549</td>\n",
       "      <td>2036</td>\n",
       "    </tr>\n",
       "    <tr>\n",
       "      <th>2</th>\n",
       "      <td>10700</td>\n",
       "      <td>3330</td>\n",
       "    </tr>\n",
       "    <tr>\n",
       "      <th>3</th>\n",
       "      <td>3680</td>\n",
       "      <td>1237</td>\n",
       "    </tr>\n",
       "    <tr>\n",
       "      <th>4</th>\n",
       "      <td>116</td>\n",
       "      <td>7</td>\n",
       "    </tr>\n",
       "    <tr>\n",
       "      <th>5</th>\n",
       "      <td>262</td>\n",
       "      <td>18</td>\n",
       "    </tr>\n",
       "    <tr>\n",
       "      <th>6</th>\n",
       "      <td>43</td>\n",
       "      <td>8</td>\n",
       "    </tr>\n",
       "  </tbody>\n",
       "</table>\n",
       "</div>"
      ],
      "text/plain": [
       "       0     1\n",
       "0     14     0\n",
       "1   8549  2036\n",
       "2  10700  3330\n",
       "3   3680  1237\n",
       "4    116     7\n",
       "5    262    18\n",
       "6     43     8"
      ]
     },
     "execution_count": 35,
     "metadata": {},
     "output_type": "execute_result"
    }
   ],
   "source": [
    "f_obs"
   ]
  },
  {
   "cell_type": "markdown",
   "id": "a3bdb6c6",
   "metadata": {},
   "source": [
    "В данной таблице представлены количества человек, вернувших и не вернувших кредит, в зависимости от уровня образования. (таблица сопряженности)"
   ]
  },
  {
   "cell_type": "markdown",
   "id": "f93c1aa1",
   "metadata": {},
   "source": [
    "$H_0:$ образование не влияет на то, вернет ли человек долг\n",
    "\n",
    "$H_1:$ влияет (двусторонняя альтернатива)"
   ]
  },
  {
   "cell_type": "code",
   "execution_count": 36,
   "id": "0ad6841a",
   "metadata": {},
   "outputs": [
    {
     "data": {
      "text/plain": [
       "(163.21655786997073,\n",
       " 1.2332626245415605e-32,\n",
       " 6,\n",
       " array([[1.0903200e+01, 3.0968000e+00],\n",
       "        [8.2435980e+03, 2.3414020e+03],\n",
       "        [1.0926564e+04, 3.1034360e+03],\n",
       "        [3.8293596e+03, 1.0876404e+03],\n",
       "        [9.5792400e+01, 2.7207600e+01],\n",
       "        [2.1806400e+02, 6.1936000e+01],\n",
       "        [3.9718800e+01, 1.1281200e+01]]))"
      ]
     },
     "execution_count": 36,
     "metadata": {},
     "output_type": "execute_result"
    }
   ],
   "source": [
    "stats.chi2_contingency(f_obs)"
   ]
  },
  {
   "cell_type": "markdown",
   "id": "19c24e66",
   "metadata": {},
   "source": [
    "**Достигаемый уровень значимости $1,2 \\times 10^{-32}$, поэтому нулевая гипотеза $H_0$ крайне уверенно отвергается на уровне значимости 0,05.**\n",
    "\n",
    "**Результат имеет практическую значимость, поскольку доли возврата кредита отличаются для различных уровней образования.**\n",
    "\n",
    "**Наличие уровня образования 0 (доктор) является наилучшим индикатором того, что человек отдаст долг; а уроавня образованя 3 (выпускник школы) - наилучшим индикатором того, что человек не отдаст долг.**"
   ]
  },
  {
   "cell_type": "markdown",
   "id": "7c8b2b4e",
   "metadata": {},
   "source": [
    "## Задание 4"
   ]
  },
  {
   "cell_type": "markdown",
   "id": "380d7c7c",
   "metadata": {},
   "source": [
    "Семейное положение (MARRIAGE): Проверьте, как связан семейный статус с индикатором дефолта: нужно предложить меру, по которой можно измерить возможную связь этих переменных и посчитать ее значение."
   ]
  },
  {
   "cell_type": "code",
   "execution_count": 37,
   "id": "bfcd7fa9",
   "metadata": {},
   "outputs": [
    {
     "data": {
      "text/plain": [
       "<seaborn.axisgrid.FacetGrid at 0x1ca95c6fca0>"
      ]
     },
     "execution_count": 37,
     "metadata": {},
     "output_type": "execute_result"
    },
    {
     "data": {
      "image/png": "[encoded data removed]",
      "text/plain": [
       "<Figure size 360x360 with 1 Axes>"
      ]
     },
     "metadata": {
      "needs_background": "light"
     },
     "output_type": "display_data"
    }
   ],
   "source": [
    "sns.displot(data, x = data[data.default == 0].MARRIAGE, discrete = True, color = 'blue')"
   ]
  },
  {
   "cell_type": "code",
   "execution_count": 38,
   "id": "0cc5c6a9",
   "metadata": {},
   "outputs": [
    {
     "data": {
      "text/plain": [
       "<seaborn.axisgrid.FacetGrid at 0x1ca95c816d0>"
      ]
     },
     "execution_count": 38,
     "metadata": {},
     "output_type": "execute_result"
    },
    {
     "data": {
      "image/png": "[encoded data removed]",
      "text/plain": [
       "<Figure size 360x360 with 1 Axes>"
      ]
     },
     "metadata": {
      "needs_background": "light"
     },
     "output_type": "display_data"
    }
   ],
   "source": [
    "sns.displot(data, x = data[data.default == 1].MARRIAGE, discrete = True, color = 'red')"
   ]
  },
  {
   "cell_type": "markdown",
   "id": "3f8ee49c",
   "metadata": {},
   "source": [
    "По графикам распределения людей по семейному положению для групп, вернувших и не вернувших кредит, довольно тяжело судить о связи семейного статуса с индикатором дефолта. Соотношение людей с разным семейным положением в этих группах примерно одинаковое, только лишь женатых/замужних людей среди не вернувших кредит больше."
   ]
  },
  {
   "cell_type": "markdown",
   "id": "ceef5c21",
   "metadata": {},
   "source": [
    "В качестве меры, по которой можно измерить возможную связь семейного статуса с индикатором дефолта, возьмем **Коэффициент V Крамера**. Сначала составим таблицу сопряженности, а далее по ней вычислим значение выбранной меры."
   ]
  },
  {
   "cell_type": "code",
   "execution_count": 39,
   "id": "3c18ab76",
   "metadata": {},
   "outputs": [],
   "source": [
    "unique, unique_counts = np.unique(data.MARRIAGE, return_counts = True)"
   ]
  },
  {
   "cell_type": "code",
   "execution_count": 40,
   "id": "a248b66d",
   "metadata": {},
   "outputs": [],
   "source": [
    "counts_ndef = []\n",
    "\n",
    "for status in unique:\n",
    "    counts_ndef.append(data.MARRIAGE[data.MARRIAGE == status][data.default == 0].shape[0])"
   ]
  },
  {
   "cell_type": "code",
   "execution_count": 41,
   "id": "e45bae5a",
   "metadata": {},
   "outputs": [],
   "source": [
    "marriage_df = pd.DataFrame.from_records([[count_ndef, count - count_ndef] for count_ndef, count in\n",
    "                                         zip(counts_ndef, unique_counts)])"
   ]
  },
  {
   "cell_type": "code",
   "execution_count": 42,
   "id": "6557e6f7",
   "metadata": {},
   "outputs": [
    {
     "data": {
      "text/html": [
       "<div>\n",
       "<style scoped>\n",
       "    .dataframe tbody tr th:only-of-type {\n",
       "        vertical-align: middle;\n",
       "    }\n",
       "\n",
       "    .dataframe tbody tr th {\n",
       "        vertical-align: top;\n",
       "    }\n",
       "\n",
       "    .dataframe thead th {\n",
       "        text-align: right;\n",
       "    }\n",
       "</style>\n",
       "<table border=\"1\" class=\"dataframe\">\n",
       "  <thead>\n",
       "    <tr style=\"text-align: right;\">\n",
       "      <th></th>\n",
       "      <th>0</th>\n",
       "      <th>1</th>\n",
       "    </tr>\n",
       "  </thead>\n",
       "  <tbody>\n",
       "    <tr>\n",
       "      <th>0</th>\n",
       "      <td>49</td>\n",
       "      <td>5</td>\n",
       "    </tr>\n",
       "    <tr>\n",
       "      <th>1</th>\n",
       "      <td>10453</td>\n",
       "      <td>3206</td>\n",
       "    </tr>\n",
       "    <tr>\n",
       "      <th>2</th>\n",
       "      <td>12623</td>\n",
       "      <td>3341</td>\n",
       "    </tr>\n",
       "    <tr>\n",
       "      <th>3</th>\n",
       "      <td>239</td>\n",
       "      <td>84</td>\n",
       "    </tr>\n",
       "  </tbody>\n",
       "</table>\n",
       "</div>"
      ],
      "text/plain": [
       "       0     1\n",
       "0     49     5\n",
       "1  10453  3206\n",
       "2  12623  3341\n",
       "3    239    84"
      ]
     },
     "execution_count": 42,
     "metadata": {},
     "output_type": "execute_result"
    }
   ],
   "source": [
    "marriage_df"
   ]
  },
  {
   "cell_type": "code",
   "execution_count": 43,
   "id": "37ba88f2",
   "metadata": {},
   "outputs": [],
   "source": [
    "def coefficient_v_kramer(contingency_matrix):\n",
    "    chi2 = stats.chi2_contingency(contingency_matrix)[0]\n",
    "    n = np.sum(np.sum(contingency_matrix))\n",
    "    return np.sqrt(chi2 / (n * (min(contingency_matrix.shape) - 1)))"
   ]
  },
  {
   "cell_type": "code",
   "execution_count": 44,
   "id": "a945f872",
   "metadata": {},
   "outputs": [
    {
     "name": "stdout",
     "output_type": "stream",
     "text": [
      "Коэффициент V Крамера: 0.0345\n"
     ]
    }
   ],
   "source": [
    "print('Коэффициент V Крамера:', coefficient_v_kramer(marriage_df).round(4))"
   ]
  },
  {
   "cell_type": "markdown",
   "id": "05dbcae9",
   "metadata": {},
   "source": [
    "**Коэффициент V Крамера составляет $3,5 \\times 10^{-2}$, поэтому взаимосвязь между данными признаками несущественна.**"
   ]
  },
  {
   "cell_type": "markdown",
   "id": "878ce847",
   "metadata": {},
   "source": [
    "## Задание 6"
   ]
  },
  {
   "cell_type": "markdown",
   "id": "89cbbbdf",
   "metadata": {},
   "source": [
    "Возраст (AGE): Относительно двух групп людей  вернувших и не вернувших кредит  проверьте следующие гипотезы:   a)  о равенстве медианных значений возрастов людей   b) о равенстве распределений  с помощью одного из подходящих непараметрических критериев проверки равенства средних.  Значимы ли полученные результаты с практической точки зрения ?"
   ]
  },
  {
   "cell_type": "code",
   "execution_count": 45,
   "id": "7c0e7805",
   "metadata": {},
   "outputs": [
    {
     "data": {
      "text/plain": [
       "<seaborn.axisgrid.FacetGrid at 0x1ca95db9040>"
      ]
     },
     "execution_count": 45,
     "metadata": {},
     "output_type": "execute_result"
    },
    {
     "data": {
      "image/png": "[encoded data removed]",
      "text/plain": [
       "<Figure size 360x360 with 1 Axes>"
      ]
     },
     "metadata": {
      "needs_background": "light"
     },
     "output_type": "display_data"
    },
    {
     "data": {
      "image/png": "[encoded data removed]",
      "text/plain": [
       "<Figure size 403.375x360 with 1 Axes>"
      ]
     },
     "metadata": {
      "needs_background": "light"
     },
     "output_type": "display_data"
    }
   ],
   "source": [
    "sns.catplot(x = 'default', y = 'AGE', kind = 'box', data = data)\n",
    "sns.displot(data, x = 'AGE', hue = 'default', multiple = 'stack')"
   ]
  },
  {
   "cell_type": "markdown",
   "id": "1bd7e269",
   "metadata": {},
   "source": [
    "По графикам можем наблюдать, что медианные значения выборок довольно близки. Далее проверим это более точно."
   ]
  },
  {
   "cell_type": "markdown",
   "id": "15869052",
   "metadata": {},
   "source": [
    "а) Будем проверять гипотезу о равенстве медианных значений возраста с помощью доверительных интервалов на основе **bootstrap**, аналогично **Заданию 1**."
   ]
  },
  {
   "cell_type": "code",
   "execution_count": 46,
   "id": "3ad23957",
   "metadata": {},
   "outputs": [],
   "source": [
    "age_def = data[data.default == 1].AGE.values\n",
    "age_ndef = data[data.default == 0].AGE.values"
   ]
  },
  {
   "cell_type": "code",
   "execution_count": 47,
   "id": "a9f2e21c",
   "metadata": {},
   "outputs": [],
   "source": [
    "age_def_scores = list(map(np.median, get_bootstrap_samples(age_def, 1000)))\n",
    "age_ndef_scores = list(map(np.median, get_bootstrap_samples(age_ndef, 1000)))"
   ]
  },
  {
   "cell_type": "code",
   "execution_count": 48,
   "id": "feabeb93",
   "metadata": {},
   "outputs": [],
   "source": [
    "delta_median_scores = list(map(lambda x: x[1] - x[0], zip(age_def_scores, age_ndef_scores)))"
   ]
  },
  {
   "cell_type": "code",
   "execution_count": 49,
   "id": "e6bf8af9",
   "metadata": {},
   "outputs": [
    {
     "name": "stdout",
     "output_type": "stream",
     "text": [
      "95% confidence interval for the difference between medians [-1.  0.]\n"
     ]
    }
   ],
   "source": [
    "print(\"95% confidence interval for the difference between medians\",  stat_intervals(delta_median_scores, 0.05))"
   ]
  },
  {
   "cell_type": "markdown",
   "id": "7c13704a",
   "metadata": {},
   "source": [
    "**Интервальная оценка на основе bootstrap дает недостаточно интерпретируемый результат, поскольку в доверительный интервал входит ноль, однако в целом можно утверждать, что медианные значения выборок приблизительно равны.**"
   ]
  },
  {
   "cell_type": "markdown",
   "id": "00cb12e5",
   "metadata": {},
   "source": [
    "б) Будем проверять гипотезу о равенстве распределений с помощью **перестановочного критерия для независимых выборок**, аналогично **Заданию 1**."
   ]
  },
  {
   "cell_type": "markdown",
   "id": "4fff9e30",
   "metadata": {},
   "source": [
    "$H_0:$ распределения возраста в двух группах людей - вернувших и не вернувших кредит - совпадают (равны)\n",
    "\n",
    "$H_1:$ не совпадают (двусторонняя альтернатива)"
   ]
  },
  {
   "cell_type": "code",
   "execution_count": 50,
   "id": "9a9e31fe",
   "metadata": {},
   "outputs": [
    {
     "name": "stdout",
     "output_type": "stream",
     "text": [
      "p-value: 0.015300\n"
     ]
    }
   ],
   "source": [
    "print(\"p-value: %f\" % permutation_test(age_ndef, age_def, max_permutations = 10000))"
   ]
  },
  {
   "cell_type": "markdown",
   "id": "c56c8039",
   "metadata": {},
   "source": [
    "**Достигаемый уровень значимости $1,4 \\times 10^{-2}$, поэтому нулевая гипотеза $H_0$ отвергается на уровне значимости 0,05.**\n",
    "\n",
    "**Данный результат имеет практическую значимость, поскольку по графику можно заметить существенные отличия распределений.**"
   ]
  }
 ],
 "metadata": {
  "kernelspec": {
   "display_name": "Python 3",
   "language": "python",
   "name": "python3"
  },
  "language_info": {
   "codemirror_mode": {
    "name": "ipython",
    "version": 3
   },
   "file_extension": ".py",
   "mimetype": "text/x-python",
   "name": "python",
   "nbconvert_exporter": "python",
   "pygments_lexer": "ipython3",
   "version": "3.8.8"
  }
 },
 "nbformat": 4,
 "nbformat_minor": 5
}
