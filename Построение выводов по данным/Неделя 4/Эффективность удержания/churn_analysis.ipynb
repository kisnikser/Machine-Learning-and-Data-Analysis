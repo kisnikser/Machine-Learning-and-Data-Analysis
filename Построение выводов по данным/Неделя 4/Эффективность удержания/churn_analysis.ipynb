{
 "cells": [
  {
   "cell_type": "code",
   "execution_count": 1,
   "id": "66dfea9d",
   "metadata": {},
   "outputs": [],
   "source": [
    "import numpy as np\n",
    "import pandas as pd\n",
    "import scipy\n",
    "from scipy import stats\n",
    "from matplotlib import pyplot as plt"
   ]
  },
  {
   "cell_type": "code",
   "execution_count": 2,
   "id": "d48c98f6",
   "metadata": {},
   "outputs": [],
   "source": [
    "data = pd.read_csv('churn_analysis.csv')\n",
    "data.drop('Unnamed: 0', axis = 1, inplace = True)\n",
    "data.churn = np.where(data.churn == 'True.', True, False)"
   ]
  },
  {
   "cell_type": "markdown",
   "id": "4a83f62c",
   "metadata": {},
   "source": [
    "- state — штат США\n",
    "\n",
    "- account_length — длительность использования аккаунта\n",
    "\n",
    "- area_code — деление пользователей на псевдорегионы, использующееся в телекоме\n",
    "\n",
    "- intl_plan — подключена ли у пользователя услуга международного общения\n",
    "\n",
    "- vmail_plan — подключена ли у пользователя услуга голосовых сообщений\n",
    "\n",
    "- vmail_message — количество голосых сообщений, который пользователь отправил / принял\n",
    "\n",
    "- day_calls — сколько пользователь совершил дневных звонков\n",
    "\n",
    "- day_mins — сколько пользователь проговорил минут в течение дня\n",
    "\n",
    "- day_charge — сколько пользователь заплатил за свою дневную активность\n",
    "\n",
    "- eve_calls, eve_mins, eve_charge — аналогичные метрики относительно вечерней активности\n",
    "\n",
    "- night_calls, night_mins, night_charge — аналогичные метрики относительно ночной активности\n",
    "\n",
    "- intl_calls, intl_mins, intl_charge — аналогичные метрики относительно международного общения\n",
    "\n",
    "- custserv_calls — сколько раз пользователь позвонил в службу поддержки\n",
    "\n",
    "- treatment — номер стратегии, которая применялись для удержания абонентов (0, 2 = два разных типа воздействия, 1 = контрольная группа)\n",
    "\n",
    "- mes_estim — оценка интенсивности пользования интернет мессенджерами\n",
    "\n",
    "- churn — результат оттока: перестал ли абонент пользоваться услугами оператора"
   ]
  },
  {
   "cell_type": "code",
   "execution_count": 3,
   "id": "1f33820a",
   "metadata": {
    "scrolled": true
   },
   "outputs": [
    {
     "data": {
      "text/html": [
       "<div>\n",
       "<style scoped>\n",
       "    .dataframe tbody tr th:only-of-type {\n",
       "        vertical-align: middle;\n",
       "    }\n",
       "\n",
       "    .dataframe tbody tr th {\n",
       "        vertical-align: top;\n",
       "    }\n",
       "\n",
       "    .dataframe thead th {\n",
       "        text-align: right;\n",
       "    }\n",
       "</style>\n",
       "<table border=\"1\" class=\"dataframe\">\n",
       "  <thead>\n",
       "    <tr style=\"text-align: right;\">\n",
       "      <th></th>\n",
       "      <th>state</th>\n",
       "      <th>account_length</th>\n",
       "      <th>area_code</th>\n",
       "      <th>intl_plan</th>\n",
       "      <th>vmail_plan</th>\n",
       "      <th>vmail_message</th>\n",
       "      <th>day_mins</th>\n",
       "      <th>day_calls</th>\n",
       "      <th>day_charge</th>\n",
       "      <th>eve_mins</th>\n",
       "      <th>...</th>\n",
       "      <th>night_mins</th>\n",
       "      <th>night_calls</th>\n",
       "      <th>night_charge</th>\n",
       "      <th>intl_mins</th>\n",
       "      <th>intl_calls</th>\n",
       "      <th>intl_charge</th>\n",
       "      <th>custserv_calls</th>\n",
       "      <th>treatment</th>\n",
       "      <th>mes_estim</th>\n",
       "      <th>churn</th>\n",
       "    </tr>\n",
       "  </thead>\n",
       "  <tbody>\n",
       "    <tr>\n",
       "      <th>0</th>\n",
       "      <td>KS</td>\n",
       "      <td>128</td>\n",
       "      <td>415</td>\n",
       "      <td>no</td>\n",
       "      <td>yes</td>\n",
       "      <td>25</td>\n",
       "      <td>265.1</td>\n",
       "      <td>110</td>\n",
       "      <td>45.07</td>\n",
       "      <td>197.4</td>\n",
       "      <td>...</td>\n",
       "      <td>244.7</td>\n",
       "      <td>91</td>\n",
       "      <td>11.01</td>\n",
       "      <td>10.0</td>\n",
       "      <td>3</td>\n",
       "      <td>2.70</td>\n",
       "      <td>1</td>\n",
       "      <td>1</td>\n",
       "      <td>0.65</td>\n",
       "      <td>False</td>\n",
       "    </tr>\n",
       "    <tr>\n",
       "      <th>1</th>\n",
       "      <td>OH</td>\n",
       "      <td>107</td>\n",
       "      <td>415</td>\n",
       "      <td>no</td>\n",
       "      <td>yes</td>\n",
       "      <td>26</td>\n",
       "      <td>161.6</td>\n",
       "      <td>123</td>\n",
       "      <td>27.47</td>\n",
       "      <td>195.5</td>\n",
       "      <td>...</td>\n",
       "      <td>254.4</td>\n",
       "      <td>103</td>\n",
       "      <td>11.45</td>\n",
       "      <td>13.7</td>\n",
       "      <td>3</td>\n",
       "      <td>3.70</td>\n",
       "      <td>1</td>\n",
       "      <td>0</td>\n",
       "      <td>0.55</td>\n",
       "      <td>False</td>\n",
       "    </tr>\n",
       "    <tr>\n",
       "      <th>2</th>\n",
       "      <td>NJ</td>\n",
       "      <td>137</td>\n",
       "      <td>415</td>\n",
       "      <td>no</td>\n",
       "      <td>no</td>\n",
       "      <td>0</td>\n",
       "      <td>243.4</td>\n",
       "      <td>114</td>\n",
       "      <td>41.38</td>\n",
       "      <td>121.2</td>\n",
       "      <td>...</td>\n",
       "      <td>162.6</td>\n",
       "      <td>104</td>\n",
       "      <td>7.32</td>\n",
       "      <td>12.2</td>\n",
       "      <td>5</td>\n",
       "      <td>3.29</td>\n",
       "      <td>0</td>\n",
       "      <td>0</td>\n",
       "      <td>0.72</td>\n",
       "      <td>False</td>\n",
       "    </tr>\n",
       "    <tr>\n",
       "      <th>3</th>\n",
       "      <td>OH</td>\n",
       "      <td>84</td>\n",
       "      <td>408</td>\n",
       "      <td>yes</td>\n",
       "      <td>no</td>\n",
       "      <td>0</td>\n",
       "      <td>299.4</td>\n",
       "      <td>71</td>\n",
       "      <td>50.90</td>\n",
       "      <td>61.9</td>\n",
       "      <td>...</td>\n",
       "      <td>196.9</td>\n",
       "      <td>89</td>\n",
       "      <td>8.86</td>\n",
       "      <td>6.6</td>\n",
       "      <td>7</td>\n",
       "      <td>1.78</td>\n",
       "      <td>2</td>\n",
       "      <td>1</td>\n",
       "      <td>0.28</td>\n",
       "      <td>False</td>\n",
       "    </tr>\n",
       "    <tr>\n",
       "      <th>4</th>\n",
       "      <td>OK</td>\n",
       "      <td>75</td>\n",
       "      <td>415</td>\n",
       "      <td>yes</td>\n",
       "      <td>no</td>\n",
       "      <td>0</td>\n",
       "      <td>166.7</td>\n",
       "      <td>113</td>\n",
       "      <td>28.34</td>\n",
       "      <td>148.3</td>\n",
       "      <td>...</td>\n",
       "      <td>186.9</td>\n",
       "      <td>121</td>\n",
       "      <td>8.41</td>\n",
       "      <td>10.1</td>\n",
       "      <td>3</td>\n",
       "      <td>2.73</td>\n",
       "      <td>3</td>\n",
       "      <td>2</td>\n",
       "      <td>0.45</td>\n",
       "      <td>False</td>\n",
       "    </tr>\n",
       "  </tbody>\n",
       "</table>\n",
       "<p>5 rows × 22 columns</p>\n",
       "</div>"
      ],
      "text/plain": [
       "  state  account_length  area_code intl_plan vmail_plan  vmail_message  \\\n",
       "0    KS             128        415        no        yes             25   \n",
       "1    OH             107        415        no        yes             26   \n",
       "2    NJ             137        415        no         no              0   \n",
       "3    OH              84        408       yes         no              0   \n",
       "4    OK              75        415       yes         no              0   \n",
       "\n",
       "   day_mins  day_calls  day_charge  eve_mins  ...  night_mins  night_calls  \\\n",
       "0     265.1        110       45.07     197.4  ...       244.7           91   \n",
       "1     161.6        123       27.47     195.5  ...       254.4          103   \n",
       "2     243.4        114       41.38     121.2  ...       162.6          104   \n",
       "3     299.4         71       50.90      61.9  ...       196.9           89   \n",
       "4     166.7        113       28.34     148.3  ...       186.9          121   \n",
       "\n",
       "   night_charge  intl_mins  intl_calls  intl_charge  custserv_calls  \\\n",
       "0         11.01       10.0           3         2.70               1   \n",
       "1         11.45       13.7           3         3.70               1   \n",
       "2          7.32       12.2           5         3.29               0   \n",
       "3          8.86        6.6           7         1.78               2   \n",
       "4          8.41       10.1           3         2.73               3   \n",
       "\n",
       "   treatment  mes_estim  churn  \n",
       "0          1       0.65  False  \n",
       "1          0       0.55  False  \n",
       "2          0       0.72  False  \n",
       "3          1       0.28  False  \n",
       "4          2       0.45  False  \n",
       "\n",
       "[5 rows x 22 columns]"
      ]
     },
     "execution_count": 3,
     "metadata": {},
     "output_type": "execute_result"
    }
   ],
   "source": [
    "data.head()"
   ]
  },
  {
   "cell_type": "code",
   "execution_count": 4,
   "id": "cccce591",
   "metadata": {
    "scrolled": false
   },
   "outputs": [
    {
     "data": {
      "text/html": [
       "<div>\n",
       "<style scoped>\n",
       "    .dataframe tbody tr th:only-of-type {\n",
       "        vertical-align: middle;\n",
       "    }\n",
       "\n",
       "    .dataframe tbody tr th {\n",
       "        vertical-align: top;\n",
       "    }\n",
       "\n",
       "    .dataframe thead th {\n",
       "        text-align: right;\n",
       "    }\n",
       "</style>\n",
       "<table border=\"1\" class=\"dataframe\">\n",
       "  <thead>\n",
       "    <tr style=\"text-align: right;\">\n",
       "      <th></th>\n",
       "      <th>account_length</th>\n",
       "      <th>area_code</th>\n",
       "      <th>vmail_message</th>\n",
       "      <th>day_mins</th>\n",
       "      <th>day_calls</th>\n",
       "      <th>day_charge</th>\n",
       "      <th>eve_mins</th>\n",
       "      <th>eve_calls</th>\n",
       "      <th>eve_charge</th>\n",
       "      <th>night_mins</th>\n",
       "      <th>night_calls</th>\n",
       "      <th>night_charge</th>\n",
       "      <th>intl_mins</th>\n",
       "      <th>intl_calls</th>\n",
       "      <th>intl_charge</th>\n",
       "      <th>custserv_calls</th>\n",
       "      <th>treatment</th>\n",
       "      <th>mes_estim</th>\n",
       "    </tr>\n",
       "  </thead>\n",
       "  <tbody>\n",
       "    <tr>\n",
       "      <th>count</th>\n",
       "      <td>3333.000000</td>\n",
       "      <td>3333.000000</td>\n",
       "      <td>3333.000000</td>\n",
       "      <td>3333.000000</td>\n",
       "      <td>3333.000000</td>\n",
       "      <td>3333.000000</td>\n",
       "      <td>3333.000000</td>\n",
       "      <td>3333.000000</td>\n",
       "      <td>3333.000000</td>\n",
       "      <td>3333.000000</td>\n",
       "      <td>3333.000000</td>\n",
       "      <td>3333.000000</td>\n",
       "      <td>3333.000000</td>\n",
       "      <td>3333.000000</td>\n",
       "      <td>3333.000000</td>\n",
       "      <td>3333.000000</td>\n",
       "      <td>3333.000000</td>\n",
       "      <td>3333.000000</td>\n",
       "    </tr>\n",
       "    <tr>\n",
       "      <th>mean</th>\n",
       "      <td>101.064806</td>\n",
       "      <td>437.182418</td>\n",
       "      <td>8.099010</td>\n",
       "      <td>179.775098</td>\n",
       "      <td>100.435644</td>\n",
       "      <td>30.562307</td>\n",
       "      <td>200.980348</td>\n",
       "      <td>100.114311</td>\n",
       "      <td>17.083540</td>\n",
       "      <td>200.872037</td>\n",
       "      <td>100.107711</td>\n",
       "      <td>9.039325</td>\n",
       "      <td>10.237294</td>\n",
       "      <td>4.479448</td>\n",
       "      <td>2.764581</td>\n",
       "      <td>1.562856</td>\n",
       "      <td>0.990999</td>\n",
       "      <td>0.484236</td>\n",
       "    </tr>\n",
       "    <tr>\n",
       "      <th>std</th>\n",
       "      <td>39.822106</td>\n",
       "      <td>42.371290</td>\n",
       "      <td>13.688365</td>\n",
       "      <td>54.467389</td>\n",
       "      <td>20.069084</td>\n",
       "      <td>9.259435</td>\n",
       "      <td>50.713844</td>\n",
       "      <td>19.922625</td>\n",
       "      <td>4.310668</td>\n",
       "      <td>50.573847</td>\n",
       "      <td>19.568609</td>\n",
       "      <td>2.275873</td>\n",
       "      <td>2.791840</td>\n",
       "      <td>2.461214</td>\n",
       "      <td>0.753773</td>\n",
       "      <td>1.315491</td>\n",
       "      <td>0.819138</td>\n",
       "      <td>0.138560</td>\n",
       "    </tr>\n",
       "    <tr>\n",
       "      <th>min</th>\n",
       "      <td>1.000000</td>\n",
       "      <td>408.000000</td>\n",
       "      <td>0.000000</td>\n",
       "      <td>0.000000</td>\n",
       "      <td>0.000000</td>\n",
       "      <td>0.000000</td>\n",
       "      <td>0.000000</td>\n",
       "      <td>0.000000</td>\n",
       "      <td>0.000000</td>\n",
       "      <td>23.200000</td>\n",
       "      <td>33.000000</td>\n",
       "      <td>1.040000</td>\n",
       "      <td>0.000000</td>\n",
       "      <td>0.000000</td>\n",
       "      <td>0.000000</td>\n",
       "      <td>0.000000</td>\n",
       "      <td>0.000000</td>\n",
       "      <td>0.050000</td>\n",
       "    </tr>\n",
       "    <tr>\n",
       "      <th>25%</th>\n",
       "      <td>74.000000</td>\n",
       "      <td>408.000000</td>\n",
       "      <td>0.000000</td>\n",
       "      <td>143.700000</td>\n",
       "      <td>87.000000</td>\n",
       "      <td>24.430000</td>\n",
       "      <td>166.600000</td>\n",
       "      <td>87.000000</td>\n",
       "      <td>14.160000</td>\n",
       "      <td>167.000000</td>\n",
       "      <td>87.000000</td>\n",
       "      <td>7.520000</td>\n",
       "      <td>8.500000</td>\n",
       "      <td>3.000000</td>\n",
       "      <td>2.300000</td>\n",
       "      <td>1.000000</td>\n",
       "      <td>0.000000</td>\n",
       "      <td>0.390000</td>\n",
       "    </tr>\n",
       "    <tr>\n",
       "      <th>50%</th>\n",
       "      <td>101.000000</td>\n",
       "      <td>415.000000</td>\n",
       "      <td>0.000000</td>\n",
       "      <td>179.400000</td>\n",
       "      <td>101.000000</td>\n",
       "      <td>30.500000</td>\n",
       "      <td>201.400000</td>\n",
       "      <td>100.000000</td>\n",
       "      <td>17.120000</td>\n",
       "      <td>201.200000</td>\n",
       "      <td>100.000000</td>\n",
       "      <td>9.050000</td>\n",
       "      <td>10.300000</td>\n",
       "      <td>4.000000</td>\n",
       "      <td>2.780000</td>\n",
       "      <td>1.000000</td>\n",
       "      <td>1.000000</td>\n",
       "      <td>0.480000</td>\n",
       "    </tr>\n",
       "    <tr>\n",
       "      <th>75%</th>\n",
       "      <td>127.000000</td>\n",
       "      <td>510.000000</td>\n",
       "      <td>20.000000</td>\n",
       "      <td>216.400000</td>\n",
       "      <td>114.000000</td>\n",
       "      <td>36.790000</td>\n",
       "      <td>235.300000</td>\n",
       "      <td>114.000000</td>\n",
       "      <td>20.000000</td>\n",
       "      <td>235.300000</td>\n",
       "      <td>113.000000</td>\n",
       "      <td>10.590000</td>\n",
       "      <td>12.100000</td>\n",
       "      <td>6.000000</td>\n",
       "      <td>3.270000</td>\n",
       "      <td>2.000000</td>\n",
       "      <td>2.000000</td>\n",
       "      <td>0.580000</td>\n",
       "    </tr>\n",
       "    <tr>\n",
       "      <th>max</th>\n",
       "      <td>243.000000</td>\n",
       "      <td>510.000000</td>\n",
       "      <td>51.000000</td>\n",
       "      <td>350.800000</td>\n",
       "      <td>165.000000</td>\n",
       "      <td>59.640000</td>\n",
       "      <td>363.700000</td>\n",
       "      <td>170.000000</td>\n",
       "      <td>30.910000</td>\n",
       "      <td>395.000000</td>\n",
       "      <td>175.000000</td>\n",
       "      <td>17.770000</td>\n",
       "      <td>20.000000</td>\n",
       "      <td>20.000000</td>\n",
       "      <td>5.400000</td>\n",
       "      <td>9.000000</td>\n",
       "      <td>2.000000</td>\n",
       "      <td>0.960000</td>\n",
       "    </tr>\n",
       "  </tbody>\n",
       "</table>\n",
       "</div>"
      ],
      "text/plain": [
       "       account_length    area_code  vmail_message     day_mins    day_calls  \\\n",
       "count     3333.000000  3333.000000    3333.000000  3333.000000  3333.000000   \n",
       "mean       101.064806   437.182418       8.099010   179.775098   100.435644   \n",
       "std         39.822106    42.371290      13.688365    54.467389    20.069084   \n",
       "min          1.000000   408.000000       0.000000     0.000000     0.000000   \n",
       "25%         74.000000   408.000000       0.000000   143.700000    87.000000   \n",
       "50%        101.000000   415.000000       0.000000   179.400000   101.000000   \n",
       "75%        127.000000   510.000000      20.000000   216.400000   114.000000   \n",
       "max        243.000000   510.000000      51.000000   350.800000   165.000000   \n",
       "\n",
       "        day_charge     eve_mins    eve_calls   eve_charge   night_mins  \\\n",
       "count  3333.000000  3333.000000  3333.000000  3333.000000  3333.000000   \n",
       "mean     30.562307   200.980348   100.114311    17.083540   200.872037   \n",
       "std       9.259435    50.713844    19.922625     4.310668    50.573847   \n",
       "min       0.000000     0.000000     0.000000     0.000000    23.200000   \n",
       "25%      24.430000   166.600000    87.000000    14.160000   167.000000   \n",
       "50%      30.500000   201.400000   100.000000    17.120000   201.200000   \n",
       "75%      36.790000   235.300000   114.000000    20.000000   235.300000   \n",
       "max      59.640000   363.700000   170.000000    30.910000   395.000000   \n",
       "\n",
       "       night_calls  night_charge    intl_mins   intl_calls  intl_charge  \\\n",
       "count  3333.000000   3333.000000  3333.000000  3333.000000  3333.000000   \n",
       "mean    100.107711      9.039325    10.237294     4.479448     2.764581   \n",
       "std      19.568609      2.275873     2.791840     2.461214     0.753773   \n",
       "min      33.000000      1.040000     0.000000     0.000000     0.000000   \n",
       "25%      87.000000      7.520000     8.500000     3.000000     2.300000   \n",
       "50%     100.000000      9.050000    10.300000     4.000000     2.780000   \n",
       "75%     113.000000     10.590000    12.100000     6.000000     3.270000   \n",
       "max     175.000000     17.770000    20.000000    20.000000     5.400000   \n",
       "\n",
       "       custserv_calls    treatment    mes_estim  \n",
       "count     3333.000000  3333.000000  3333.000000  \n",
       "mean         1.562856     0.990999     0.484236  \n",
       "std          1.315491     0.819138     0.138560  \n",
       "min          0.000000     0.000000     0.050000  \n",
       "25%          1.000000     0.000000     0.390000  \n",
       "50%          1.000000     1.000000     0.480000  \n",
       "75%          2.000000     2.000000     0.580000  \n",
       "max          9.000000     2.000000     0.960000  "
      ]
     },
     "execution_count": 4,
     "metadata": {},
     "output_type": "execute_result"
    }
   ],
   "source": [
    "data.describe()"
   ]
  },
  {
   "cell_type": "code",
   "execution_count": 5,
   "id": "0e9af673",
   "metadata": {},
   "outputs": [],
   "source": [
    "states = np.unique(data[data.treatment == 1].state.values)"
   ]
  },
  {
   "cell_type": "code",
   "execution_count": 6,
   "id": "dd520bd9",
   "metadata": {},
   "outputs": [],
   "source": [
    "pairs = []\n",
    "\n",
    "for i in range(len(states)):\n",
    "    for j in range(len(states)):\n",
    "        if i >= j:\n",
    "            continue\n",
    "        pairs.append([states[i], states[j]])"
   ]
  },
  {
   "cell_type": "code",
   "execution_count": 7,
   "id": "b7704e16",
   "metadata": {},
   "outputs": [],
   "source": [
    "pvalues = []\n",
    "\n",
    "for pair in pairs:\n",
    "    matrice = [[data[(data.state == pair[0]) & (data.churn == False) & (data.treatment == 1)].shape[0],\n",
    "                data[(data.state == pair[0]) & (data.churn == True) & (data.treatment == 1)].shape[0]],\n",
    "               [data[(data.state == pair[1]) & (data.churn == False) & (data.treatment == 1)].shape[0],\n",
    "                data[(data.state == pair[1]) & (data.churn == True) & (data.treatment == 1)].shape[0]]]\n",
    "    pvalues.append(stats.chi2_contingency(matrice, correction = False)[1])"
   ]
  },
  {
   "cell_type": "code",
   "execution_count": 8,
   "id": "ed7f7039",
   "metadata": {},
   "outputs": [
    {
     "data": {
      "text/plain": [
       "34"
      ]
     },
     "execution_count": 8,
     "metadata": {},
     "output_type": "execute_result"
    }
   ],
   "source": [
    "len([p for p in pvalues if p < 0.05])"
   ]
  },
  {
   "cell_type": "code",
   "execution_count": 14,
   "id": "5a74bd74",
   "metadata": {},
   "outputs": [
    {
     "data": {
      "text/plain": [
       "0.5018273798739158"
      ]
     },
     "execution_count": 14,
     "metadata": {},
     "output_type": "execute_result"
    }
   ],
   "source": [
    "np.asarray(pvalues).mean()"
   ]
  },
  {
   "cell_type": "code",
   "execution_count": 10,
   "id": "f0f68793",
   "metadata": {},
   "outputs": [],
   "source": [
    "pvalues_true = []\n",
    "\n",
    "for pair in pairs:\n",
    "    matrice = [[data[(data.state == pair[0]) & (data.churn == False) & (data.treatment == 1)].shape[0],\n",
    "                data[(data.state == pair[0]) & (data.churn == True) & (data.treatment == 1)].shape[0]],\n",
    "               [data[(data.state == pair[1]) & (data.churn == False) & (data.treatment == 1)].shape[0],\n",
    "                data[(data.state == pair[1]) & (data.churn == True) & (data.treatment == 1)].shape[0]]]\n",
    "    pvalues_true.append(stats.chi2_contingency(matrice, correction = True)[1])"
   ]
  },
  {
   "cell_type": "code",
   "execution_count": 11,
   "id": "7e34daba",
   "metadata": {},
   "outputs": [
    {
     "data": {
      "text/plain": [
       "0"
      ]
     },
     "execution_count": 11,
     "metadata": {},
     "output_type": "execute_result"
    }
   ],
   "source": [
    "len([p for p in pvalues_true if p < 0.05])"
   ]
  },
  {
   "cell_type": "code",
   "execution_count": 15,
   "id": "16cfbc7e",
   "metadata": {},
   "outputs": [
    {
     "data": {
      "text/plain": [
       "0.6640566382051047"
      ]
     },
     "execution_count": 15,
     "metadata": {},
     "output_type": "execute_result"
    }
   ],
   "source": [
    "np.asarray(pvalues_true).mean()"
   ]
  },
  {
   "cell_type": "code",
   "execution_count": 16,
   "id": "96304a81",
   "metadata": {},
   "outputs": [],
   "source": [
    "pvalues_fisher = []\n",
    "\n",
    "for pair in pairs:\n",
    "    matrice = [[data[(data.state == pair[0]) & (data.churn == False) & (data.treatment == 1)].shape[0],\n",
    "                data[(data.state == pair[0]) & (data.churn == True) & (data.treatment == 1)].shape[0]],\n",
    "               [data[(data.state == pair[1]) & (data.churn == False) & (data.treatment == 1)].shape[0],\n",
    "                data[(data.state == pair[1]) & (data.churn == True) & (data.treatment == 1)].shape[0]]]\n",
    "    pvalues_fisher.append(stats.fisher_exact(matrice)[1])"
   ]
  },
  {
   "cell_type": "code",
   "execution_count": 17,
   "id": "63b26512",
   "metadata": {},
   "outputs": [
    {
     "data": {
      "text/plain": [
       "0.6483383060020681"
      ]
     },
     "execution_count": 17,
     "metadata": {},
     "output_type": "execute_result"
    }
   ],
   "source": [
    "np.asarray(pvalues_fisher).mean()"
   ]
  },
  {
   "cell_type": "code",
   "execution_count": 18,
   "id": "bc7c8778",
   "metadata": {},
   "outputs": [],
   "source": [
    "r, p = stats.pearsonr(data.day_calls, data.mes_estim)"
   ]
  },
  {
   "cell_type": "code",
   "execution_count": 20,
   "id": "9b40a813",
   "metadata": {},
   "outputs": [
    {
     "name": "stdout",
     "output_type": "stream",
     "text": [
      "Коэффициент корреляции: -0.05179435058757263\n",
      "Достигаемый уровень значимость: 0.0027798836869738384\n"
     ]
    }
   ],
   "source": [
    "print('Коэффициент корреляции:', r)\n",
    "print('Достигаемый уровень значимость:', p)"
   ]
  },
  {
   "cell_type": "code",
   "execution_count": 21,
   "id": "1652d0a5",
   "metadata": {},
   "outputs": [],
   "source": [
    "r, p = stats.spearmanr(data.day_calls, data.mes_estim)"
   ]
  },
  {
   "cell_type": "code",
   "execution_count": 22,
   "id": "4f474c23",
   "metadata": {
    "scrolled": true
   },
   "outputs": [
    {
     "name": "stdout",
     "output_type": "stream",
     "text": [
      "Коэффициент корреляции: 0.043349880533927444\n",
      "Достигаемый уровень значимость: 0.012317367189170541\n"
     ]
    }
   ],
   "source": [
    "print('Коэффициент корреляции:', r)\n",
    "print('Достигаемый уровень значимость:', p)"
   ]
  },
  {
   "cell_type": "code",
   "execution_count": 23,
   "id": "93daa2d2",
   "metadata": {},
   "outputs": [],
   "source": [
    "def coefficient_v_kramer(contingency_matrix):\n",
    "    chi2 = stats.chi2_contingency(contingency_matrix)[0]\n",
    "    n = np.sum(np.sum(contingency_matrix))\n",
    "    return np.sqrt(chi2 / (n * (min(contingency_matrix.shape) - 1)))"
   ]
  },
  {
   "cell_type": "code",
   "execution_count": 24,
   "id": "37b44f6b",
   "metadata": {},
   "outputs": [],
   "source": [
    "contingency_matrix = []\n",
    "\n",
    "for state in states:\n",
    "    state0 = data[(data.treatment == 1) & (data.state == state) & (data.churn == False)].shape[0]\n",
    "    state1 = data[(data.treatment == 1) & (data.state == state) & (data.churn == True)].shape[0]\n",
    "    contingency_matrix.append([state0, state1])"
   ]
  },
  {
   "cell_type": "code",
   "execution_count": 33,
   "id": "ebc7e4de",
   "metadata": {},
   "outputs": [
    {
     "name": "stdout",
     "output_type": "stream",
     "text": [
      "Коэффициент корреляции Крамера: 0.2003932150203332\n"
     ]
    }
   ],
   "source": [
    "coef = coefficient_v_kramer(np.asarray(contingency_matrix))\n",
    "print('Коэффициент корреляции Крамера:', coef)"
   ]
  },
  {
   "cell_type": "code",
   "execution_count": 34,
   "id": "3986d401",
   "metadata": {},
   "outputs": [
    {
     "name": "stdout",
     "output_type": "stream",
     "text": [
      "pvalue при проверке гипотезы о равенстве коэффициента корреляции Крамера нулю: 0.7097590042778473\n"
     ]
    }
   ],
   "source": [
    "print('pvalue при проверке гипотезы о равенстве коэффициента корреляции Крамера нулю:',\n",
    "      stats.chi2_contingency(np.asarray(contingency_matrix))[1])"
   ]
  },
  {
   "cell_type": "code",
   "execution_count": 44,
   "id": "ac15f9c1",
   "metadata": {},
   "outputs": [],
   "source": [
    "sample0 = np.where(data[data.treatment == 0].churn.values == True, 1, 0)\n",
    "sample1 = np.where(data[data.treatment == 1].churn.values == True, 1, 0)\n",
    "sample2 = np.where(data[data.treatment == 2].churn.values == True, 1, 0)"
   ]
  },
  {
   "cell_type": "code",
   "execution_count": 51,
   "id": "f7956bbc",
   "metadata": {},
   "outputs": [],
   "source": [
    "samples = [sample0, sample1, sample2]"
   ]
  },
  {
   "cell_type": "code",
   "execution_count": 47,
   "id": "2c845c54",
   "metadata": {},
   "outputs": [],
   "source": [
    "def proportions_diff_z_stat_ind(sample1, sample2):\n",
    "    n1 = len(sample1)\n",
    "    n2 = len(sample2)\n",
    "    \n",
    "    p1 = sum(sample1) / n1\n",
    "    p2 = sum(sample2) / n2 \n",
    "    P = (p1 * n1 + p2 * n2) / (n1 + n2)\n",
    "    \n",
    "    return (p1 - p2) / np.sqrt(P * (1 - P) * (1 / n1 + 1 / n2))"
   ]
  },
  {
   "cell_type": "code",
   "execution_count": 48,
   "id": "e3c8709f",
   "metadata": {},
   "outputs": [],
   "source": [
    "def proportions_diff_z_test(z_stat, alternative = 'two-sided'):\n",
    "    if alternative not in ('two-sided', 'less', 'greater'):\n",
    "        raise ValueError(\"alternative not recognized\\n\"\n",
    "                         \"should be 'two-sided', 'less' or 'greater'\")\n",
    "    \n",
    "    if alternative == 'two-sided':\n",
    "        return 2 * (1 - scipy.stats.norm.cdf(np.abs(z_stat)))\n",
    "    \n",
    "    if alternative == 'less':\n",
    "        return scipy.stats.norm.cdf(z_stat)\n",
    "\n",
    "    if alternative == 'greater':\n",
    "        return 1 - scipy.stats.norm.cdf(z_stat)"
   ]
  },
  {
   "cell_type": "code",
   "execution_count": 52,
   "id": "60dd6a80",
   "metadata": {},
   "outputs": [],
   "source": [
    "pvalues = []\n",
    "\n",
    "for i, sample1 in enumerate(samples):\n",
    "    for j, sample2 in enumerate(samples):\n",
    "        if i >= j:\n",
    "            continue\n",
    "        pvalues.append(proportions_diff_z_test(proportions_diff_z_stat_ind(sample1, sample2)))"
   ]
  },
  {
   "cell_type": "code",
   "execution_count": 53,
   "id": "5d3c5047",
   "metadata": {},
   "outputs": [
    {
     "data": {
      "text/plain": [
       "[0.2283311639045107, 0.1564246886050802, 0.009348084294451109]"
      ]
     },
     "execution_count": 53,
     "metadata": {},
     "output_type": "execute_result"
    }
   ],
   "source": [
    "pvalues"
   ]
  },
  {
   "cell_type": "code",
   "execution_count": 55,
   "id": "107bf77f",
   "metadata": {},
   "outputs": [],
   "source": [
    "import statsmodels.stats.multitest as smm"
   ]
  },
  {
   "cell_type": "code",
   "execution_count": 56,
   "id": "24722254",
   "metadata": {},
   "outputs": [],
   "source": [
    "reject, p_corrected, a1, a2 = smm.multipletests(pvalues, alpha = 0.05, method = 'holm') "
   ]
  },
  {
   "cell_type": "code",
   "execution_count": 58,
   "id": "81a88f07",
   "metadata": {},
   "outputs": [
    {
     "data": {
      "text/plain": [
       "array([0.31284938, 0.31284938, 0.02804425])"
      ]
     },
     "execution_count": 58,
     "metadata": {},
     "output_type": "execute_result"
    }
   ],
   "source": [
    "p_corrected"
   ]
  }
 ],
 "metadata": {
  "kernelspec": {
   "display_name": "Python 3",
   "language": "python",
   "name": "python3"
  },
  "language_info": {
   "codemirror_mode": {
    "name": "ipython",
    "version": 3
   },
   "file_extension": ".py",
   "mimetype": "text/x-python",
   "name": "python",
   "nbconvert_exporter": "python",
   "pygments_lexer": "ipython3",
   "version": "3.8.8"
  }
 },
 "nbformat": 4,
 "nbformat_minor": 5
}
