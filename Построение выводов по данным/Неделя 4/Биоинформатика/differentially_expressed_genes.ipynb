{
 "cells": [
  {
   "cell_type": "code",
   "execution_count": 1,
   "id": "93181fba",
   "metadata": {},
   "outputs": [],
   "source": [
    "import numpy as np\n",
    "import pandas as pd\n",
    "import scipy\n",
    "from scipy import stats"
   ]
  },
  {
   "cell_type": "code",
   "execution_count": 2,
   "id": "2a435d76",
   "metadata": {},
   "outputs": [
    {
     "name": "stdout",
     "output_type": "stream",
     "text": [
      "Populating the interactive namespace from numpy and matplotlib\n"
     ]
    }
   ],
   "source": [
    "%pylab inline"
   ]
  },
  {
   "cell_type": "code",
   "execution_count": 3,
   "id": "cbc4addc",
   "metadata": {},
   "outputs": [],
   "source": [
    "data = pd.read_csv('gene_high_throughput_sequencing.csv')"
   ]
  },
  {
   "cell_type": "code",
   "execution_count": 4,
   "id": "5bd860a2",
   "metadata": {
    "scrolled": true
   },
   "outputs": [
    {
     "data": {
      "text/html": [
       "<div>\n",
       "<style scoped>\n",
       "    .dataframe tbody tr th:only-of-type {\n",
       "        vertical-align: middle;\n",
       "    }\n",
       "\n",
       "    .dataframe tbody tr th {\n",
       "        vertical-align: top;\n",
       "    }\n",
       "\n",
       "    .dataframe thead th {\n",
       "        text-align: right;\n",
       "    }\n",
       "</style>\n",
       "<table border=\"1\" class=\"dataframe\">\n",
       "  <thead>\n",
       "    <tr style=\"text-align: right;\">\n",
       "      <th></th>\n",
       "      <th>Patient_id</th>\n",
       "      <th>Diagnosis</th>\n",
       "      <th>LOC643837</th>\n",
       "      <th>LOC100130417</th>\n",
       "      <th>SAMD11</th>\n",
       "      <th>NOC2L</th>\n",
       "      <th>KLHL17</th>\n",
       "      <th>PLEKHN1</th>\n",
       "      <th>C1orf170</th>\n",
       "      <th>HES4</th>\n",
       "      <th>...</th>\n",
       "      <th>CLIC2</th>\n",
       "      <th>RPS4Y1</th>\n",
       "      <th>ZFY</th>\n",
       "      <th>PRKY</th>\n",
       "      <th>USP9Y</th>\n",
       "      <th>DDX3Y</th>\n",
       "      <th>CD24</th>\n",
       "      <th>CYorf15B</th>\n",
       "      <th>KDM5D</th>\n",
       "      <th>EIF1AY</th>\n",
       "    </tr>\n",
       "  </thead>\n",
       "  <tbody>\n",
       "    <tr>\n",
       "      <th>0</th>\n",
       "      <td>STT5425_Breast_001_normal</td>\n",
       "      <td>normal</td>\n",
       "      <td>1.257614</td>\n",
       "      <td>2.408148</td>\n",
       "      <td>13.368622</td>\n",
       "      <td>9.494779</td>\n",
       "      <td>20.880435</td>\n",
       "      <td>12.722017</td>\n",
       "      <td>9.494779</td>\n",
       "      <td>54.349694</td>\n",
       "      <td>...</td>\n",
       "      <td>4.761250</td>\n",
       "      <td>1.257614</td>\n",
       "      <td>1.257614</td>\n",
       "      <td>1.257614</td>\n",
       "      <td>1.257614</td>\n",
       "      <td>1.257614</td>\n",
       "      <td>23.268694</td>\n",
       "      <td>1.257614</td>\n",
       "      <td>1.257614</td>\n",
       "      <td>1.257614</td>\n",
       "    </tr>\n",
       "    <tr>\n",
       "      <th>1</th>\n",
       "      <td>STT5427_Breast_023_normal</td>\n",
       "      <td>normal</td>\n",
       "      <td>4.567931</td>\n",
       "      <td>16.602734</td>\n",
       "      <td>42.477752</td>\n",
       "      <td>25.562376</td>\n",
       "      <td>23.221137</td>\n",
       "      <td>11.622386</td>\n",
       "      <td>14.330573</td>\n",
       "      <td>72.445474</td>\n",
       "      <td>...</td>\n",
       "      <td>6.871902</td>\n",
       "      <td>1.815112</td>\n",
       "      <td>1.815112</td>\n",
       "      <td>1.815112</td>\n",
       "      <td>1.815112</td>\n",
       "      <td>1.815112</td>\n",
       "      <td>10.427023</td>\n",
       "      <td>1.815112</td>\n",
       "      <td>1.815112</td>\n",
       "      <td>1.815112</td>\n",
       "    </tr>\n",
       "    <tr>\n",
       "      <th>2</th>\n",
       "      <td>STT5430_Breast_002_normal</td>\n",
       "      <td>normal</td>\n",
       "      <td>2.077597</td>\n",
       "      <td>3.978294</td>\n",
       "      <td>12.863214</td>\n",
       "      <td>13.728915</td>\n",
       "      <td>14.543176</td>\n",
       "      <td>14.141907</td>\n",
       "      <td>6.232790</td>\n",
       "      <td>57.011005</td>\n",
       "      <td>...</td>\n",
       "      <td>7.096343</td>\n",
       "      <td>2.077597</td>\n",
       "      <td>2.077597</td>\n",
       "      <td>2.077597</td>\n",
       "      <td>2.077597</td>\n",
       "      <td>2.077597</td>\n",
       "      <td>22.344226</td>\n",
       "      <td>2.077597</td>\n",
       "      <td>2.077597</td>\n",
       "      <td>2.077597</td>\n",
       "    </tr>\n",
       "    <tr>\n",
       "      <th>3</th>\n",
       "      <td>STT5439_Breast_003_normal</td>\n",
       "      <td>normal</td>\n",
       "      <td>2.066576</td>\n",
       "      <td>8.520713</td>\n",
       "      <td>14.466035</td>\n",
       "      <td>7.823932</td>\n",
       "      <td>8.520713</td>\n",
       "      <td>2.066576</td>\n",
       "      <td>10.870009</td>\n",
       "      <td>53.292034</td>\n",
       "      <td>...</td>\n",
       "      <td>5.200770</td>\n",
       "      <td>2.066576</td>\n",
       "      <td>2.066576</td>\n",
       "      <td>2.066576</td>\n",
       "      <td>2.066576</td>\n",
       "      <td>2.066576</td>\n",
       "      <td>49.295538</td>\n",
       "      <td>2.066576</td>\n",
       "      <td>2.066576</td>\n",
       "      <td>2.066576</td>\n",
       "    </tr>\n",
       "    <tr>\n",
       "      <th>4</th>\n",
       "      <td>STT5441_Breast_004_normal</td>\n",
       "      <td>normal</td>\n",
       "      <td>2.613616</td>\n",
       "      <td>3.434965</td>\n",
       "      <td>12.682222</td>\n",
       "      <td>10.543189</td>\n",
       "      <td>26.688686</td>\n",
       "      <td>12.484822</td>\n",
       "      <td>1.364917</td>\n",
       "      <td>67.140393</td>\n",
       "      <td>...</td>\n",
       "      <td>11.227770</td>\n",
       "      <td>1.364917</td>\n",
       "      <td>1.364917</td>\n",
       "      <td>1.364917</td>\n",
       "      <td>1.364917</td>\n",
       "      <td>1.364917</td>\n",
       "      <td>23.627911</td>\n",
       "      <td>1.364917</td>\n",
       "      <td>1.364917</td>\n",
       "      <td>1.364917</td>\n",
       "    </tr>\n",
       "  </tbody>\n",
       "</table>\n",
       "<p>5 rows × 15750 columns</p>\n",
       "</div>"
      ],
      "text/plain": [
       "                  Patient_id Diagnosis  LOC643837  LOC100130417     SAMD11  \\\n",
       "0  STT5425_Breast_001_normal    normal   1.257614      2.408148  13.368622   \n",
       "1  STT5427_Breast_023_normal    normal   4.567931     16.602734  42.477752   \n",
       "2  STT5430_Breast_002_normal    normal   2.077597      3.978294  12.863214   \n",
       "3  STT5439_Breast_003_normal    normal   2.066576      8.520713  14.466035   \n",
       "4  STT5441_Breast_004_normal    normal   2.613616      3.434965  12.682222   \n",
       "\n",
       "       NOC2L     KLHL17    PLEKHN1   C1orf170       HES4  ...      CLIC2  \\\n",
       "0   9.494779  20.880435  12.722017   9.494779  54.349694  ...   4.761250   \n",
       "1  25.562376  23.221137  11.622386  14.330573  72.445474  ...   6.871902   \n",
       "2  13.728915  14.543176  14.141907   6.232790  57.011005  ...   7.096343   \n",
       "3   7.823932   8.520713   2.066576  10.870009  53.292034  ...   5.200770   \n",
       "4  10.543189  26.688686  12.484822   1.364917  67.140393  ...  11.227770   \n",
       "\n",
       "     RPS4Y1       ZFY      PRKY     USP9Y     DDX3Y       CD24  CYorf15B  \\\n",
       "0  1.257614  1.257614  1.257614  1.257614  1.257614  23.268694  1.257614   \n",
       "1  1.815112  1.815112  1.815112  1.815112  1.815112  10.427023  1.815112   \n",
       "2  2.077597  2.077597  2.077597  2.077597  2.077597  22.344226  2.077597   \n",
       "3  2.066576  2.066576  2.066576  2.066576  2.066576  49.295538  2.066576   \n",
       "4  1.364917  1.364917  1.364917  1.364917  1.364917  23.627911  1.364917   \n",
       "\n",
       "      KDM5D    EIF1AY  \n",
       "0  1.257614  1.257614  \n",
       "1  1.815112  1.815112  \n",
       "2  2.077597  2.077597  \n",
       "3  2.066576  2.066576  \n",
       "4  1.364917  1.364917  \n",
       "\n",
       "[5 rows x 15750 columns]"
      ]
     },
     "execution_count": 4,
     "metadata": {},
     "output_type": "execute_result"
    }
   ],
   "source": [
    "data.head()"
   ]
  },
  {
   "cell_type": "code",
   "execution_count": 5,
   "id": "d4b86b76",
   "metadata": {},
   "outputs": [
    {
     "data": {
      "text/html": [
       "<div>\n",
       "<style scoped>\n",
       "    .dataframe tbody tr th:only-of-type {\n",
       "        vertical-align: middle;\n",
       "    }\n",
       "\n",
       "    .dataframe tbody tr th {\n",
       "        vertical-align: top;\n",
       "    }\n",
       "\n",
       "    .dataframe thead th {\n",
       "        text-align: right;\n",
       "    }\n",
       "</style>\n",
       "<table border=\"1\" class=\"dataframe\">\n",
       "  <thead>\n",
       "    <tr style=\"text-align: right;\">\n",
       "      <th></th>\n",
       "      <th>LOC643837</th>\n",
       "      <th>LOC100130417</th>\n",
       "      <th>SAMD11</th>\n",
       "      <th>NOC2L</th>\n",
       "      <th>KLHL17</th>\n",
       "      <th>PLEKHN1</th>\n",
       "      <th>C1orf170</th>\n",
       "      <th>HES4</th>\n",
       "      <th>ISG15</th>\n",
       "      <th>AGRN</th>\n",
       "      <th>...</th>\n",
       "      <th>CLIC2</th>\n",
       "      <th>RPS4Y1</th>\n",
       "      <th>ZFY</th>\n",
       "      <th>PRKY</th>\n",
       "      <th>USP9Y</th>\n",
       "      <th>DDX3Y</th>\n",
       "      <th>CD24</th>\n",
       "      <th>CYorf15B</th>\n",
       "      <th>KDM5D</th>\n",
       "      <th>EIF1AY</th>\n",
       "    </tr>\n",
       "  </thead>\n",
       "  <tbody>\n",
       "    <tr>\n",
       "      <th>count</th>\n",
       "      <td>72.000000</td>\n",
       "      <td>72.000000</td>\n",
       "      <td>72.000000</td>\n",
       "      <td>72.000000</td>\n",
       "      <td>72.000000</td>\n",
       "      <td>72.000000</td>\n",
       "      <td>72.000000</td>\n",
       "      <td>72.000000</td>\n",
       "      <td>72.000000</td>\n",
       "      <td>72.000000</td>\n",
       "      <td>...</td>\n",
       "      <td>72.000000</td>\n",
       "      <td>72.000000</td>\n",
       "      <td>72.000000</td>\n",
       "      <td>72.000000</td>\n",
       "      <td>72.000000</td>\n",
       "      <td>72.000000</td>\n",
       "      <td>72.000000</td>\n",
       "      <td>72.000000</td>\n",
       "      <td>72.000000</td>\n",
       "      <td>72.000000</td>\n",
       "    </tr>\n",
       "    <tr>\n",
       "      <th>mean</th>\n",
       "      <td>2.463922</td>\n",
       "      <td>7.100958</td>\n",
       "      <td>19.056151</td>\n",
       "      <td>15.618688</td>\n",
       "      <td>23.537120</td>\n",
       "      <td>11.303466</td>\n",
       "      <td>8.921396</td>\n",
       "      <td>63.270147</td>\n",
       "      <td>53.906324</td>\n",
       "      <td>70.678573</td>\n",
       "      <td>...</td>\n",
       "      <td>5.563444</td>\n",
       "      <td>2.192029</td>\n",
       "      <td>1.967424</td>\n",
       "      <td>2.181360</td>\n",
       "      <td>1.729308</td>\n",
       "      <td>1.980733</td>\n",
       "      <td>16.834075</td>\n",
       "      <td>1.825827</td>\n",
       "      <td>2.287380</td>\n",
       "      <td>1.756827</td>\n",
       "    </tr>\n",
       "    <tr>\n",
       "      <th>std</th>\n",
       "      <td>1.413687</td>\n",
       "      <td>4.164703</td>\n",
       "      <td>9.287753</td>\n",
       "      <td>4.664146</td>\n",
       "      <td>4.475294</td>\n",
       "      <td>4.055122</td>\n",
       "      <td>3.270713</td>\n",
       "      <td>13.792140</td>\n",
       "      <td>45.635498</td>\n",
       "      <td>21.326237</td>\n",
       "      <td>...</td>\n",
       "      <td>2.389789</td>\n",
       "      <td>2.454218</td>\n",
       "      <td>2.047129</td>\n",
       "      <td>2.542652</td>\n",
       "      <td>1.507149</td>\n",
       "      <td>2.230157</td>\n",
       "      <td>7.126802</td>\n",
       "      <td>1.902716</td>\n",
       "      <td>3.185571</td>\n",
       "      <td>1.623151</td>\n",
       "    </tr>\n",
       "    <tr>\n",
       "      <th>min</th>\n",
       "      <td>0.833898</td>\n",
       "      <td>1.231043</td>\n",
       "      <td>4.941211</td>\n",
       "      <td>6.395270</td>\n",
       "      <td>8.520713</td>\n",
       "      <td>2.066576</td>\n",
       "      <td>1.364917</td>\n",
       "      <td>42.544976</td>\n",
       "      <td>24.616767</td>\n",
       "      <td>42.631422</td>\n",
       "      <td>...</td>\n",
       "      <td>1.144240</td>\n",
       "      <td>0.853957</td>\n",
       "      <td>0.853957</td>\n",
       "      <td>0.853957</td>\n",
       "      <td>0.833898</td>\n",
       "      <td>0.833898</td>\n",
       "      <td>4.675683</td>\n",
       "      <td>0.833898</td>\n",
       "      <td>0.853957</td>\n",
       "      <td>0.833898</td>\n",
       "    </tr>\n",
       "    <tr>\n",
       "      <th>25%</th>\n",
       "      <td>1.284642</td>\n",
       "      <td>3.892403</td>\n",
       "      <td>13.423946</td>\n",
       "      <td>12.574596</td>\n",
       "      <td>21.151624</td>\n",
       "      <td>8.712898</td>\n",
       "      <td>6.213396</td>\n",
       "      <td>53.093627</td>\n",
       "      <td>34.009687</td>\n",
       "      <td>54.202100</td>\n",
       "      <td>...</td>\n",
       "      <td>3.805875</td>\n",
       "      <td>1.042783</td>\n",
       "      <td>1.011350</td>\n",
       "      <td>1.011350</td>\n",
       "      <td>1.003337</td>\n",
       "      <td>1.003337</td>\n",
       "      <td>11.186633</td>\n",
       "      <td>1.003337</td>\n",
       "      <td>1.011350</td>\n",
       "      <td>1.003337</td>\n",
       "    </tr>\n",
       "    <tr>\n",
       "      <th>50%</th>\n",
       "      <td>2.104677</td>\n",
       "      <td>6.315551</td>\n",
       "      <td>16.734855</td>\n",
       "      <td>14.586150</td>\n",
       "      <td>23.477006</td>\n",
       "      <td>11.172590</td>\n",
       "      <td>8.703397</td>\n",
       "      <td>63.230911</td>\n",
       "      <td>39.554954</td>\n",
       "      <td>65.510651</td>\n",
       "      <td>...</td>\n",
       "      <td>5.617824</td>\n",
       "      <td>1.339507</td>\n",
       "      <td>1.273861</td>\n",
       "      <td>1.298543</td>\n",
       "      <td>1.252527</td>\n",
       "      <td>1.252527</td>\n",
       "      <td>16.514389</td>\n",
       "      <td>1.252527</td>\n",
       "      <td>1.273861</td>\n",
       "      <td>1.252527</td>\n",
       "    </tr>\n",
       "    <tr>\n",
       "      <th>75%</th>\n",
       "      <td>3.345067</td>\n",
       "      <td>8.916399</td>\n",
       "      <td>21.884325</td>\n",
       "      <td>17.695678</td>\n",
       "      <td>26.471909</td>\n",
       "      <td>13.568625</td>\n",
       "      <td>11.139240</td>\n",
       "      <td>69.880705</td>\n",
       "      <td>50.295756</td>\n",
       "      <td>79.427207</td>\n",
       "      <td>...</td>\n",
       "      <td>7.100942</td>\n",
       "      <td>1.815754</td>\n",
       "      <td>1.647255</td>\n",
       "      <td>1.677971</td>\n",
       "      <td>1.625364</td>\n",
       "      <td>1.611299</td>\n",
       "      <td>21.849385</td>\n",
       "      <td>1.607345</td>\n",
       "      <td>1.647255</td>\n",
       "      <td>1.611299</td>\n",
       "    </tr>\n",
       "    <tr>\n",
       "      <th>max</th>\n",
       "      <td>7.364879</td>\n",
       "      <td>20.006038</td>\n",
       "      <td>60.584449</td>\n",
       "      <td>29.659104</td>\n",
       "      <td>34.110743</td>\n",
       "      <td>27.441093</td>\n",
       "      <td>17.121366</td>\n",
       "      <td>132.144503</td>\n",
       "      <td>327.590426</td>\n",
       "      <td>128.606260</td>\n",
       "      <td>...</td>\n",
       "      <td>11.227770</td>\n",
       "      <td>11.913855</td>\n",
       "      <td>10.883310</td>\n",
       "      <td>11.692697</td>\n",
       "      <td>10.392539</td>\n",
       "      <td>10.640754</td>\n",
       "      <td>49.295538</td>\n",
       "      <td>9.919132</td>\n",
       "      <td>17.278985</td>\n",
       "      <td>9.333904</td>\n",
       "    </tr>\n",
       "  </tbody>\n",
       "</table>\n",
       "<p>8 rows × 15748 columns</p>\n",
       "</div>"
      ],
      "text/plain": [
       "       LOC643837  LOC100130417     SAMD11      NOC2L     KLHL17    PLEKHN1  \\\n",
       "count  72.000000     72.000000  72.000000  72.000000  72.000000  72.000000   \n",
       "mean    2.463922      7.100958  19.056151  15.618688  23.537120  11.303466   \n",
       "std     1.413687      4.164703   9.287753   4.664146   4.475294   4.055122   \n",
       "min     0.833898      1.231043   4.941211   6.395270   8.520713   2.066576   \n",
       "25%     1.284642      3.892403  13.423946  12.574596  21.151624   8.712898   \n",
       "50%     2.104677      6.315551  16.734855  14.586150  23.477006  11.172590   \n",
       "75%     3.345067      8.916399  21.884325  17.695678  26.471909  13.568625   \n",
       "max     7.364879     20.006038  60.584449  29.659104  34.110743  27.441093   \n",
       "\n",
       "        C1orf170        HES4       ISG15        AGRN  ...      CLIC2  \\\n",
       "count  72.000000   72.000000   72.000000   72.000000  ...  72.000000   \n",
       "mean    8.921396   63.270147   53.906324   70.678573  ...   5.563444   \n",
       "std     3.270713   13.792140   45.635498   21.326237  ...   2.389789   \n",
       "min     1.364917   42.544976   24.616767   42.631422  ...   1.144240   \n",
       "25%     6.213396   53.093627   34.009687   54.202100  ...   3.805875   \n",
       "50%     8.703397   63.230911   39.554954   65.510651  ...   5.617824   \n",
       "75%    11.139240   69.880705   50.295756   79.427207  ...   7.100942   \n",
       "max    17.121366  132.144503  327.590426  128.606260  ...  11.227770   \n",
       "\n",
       "          RPS4Y1        ZFY       PRKY      USP9Y      DDX3Y       CD24  \\\n",
       "count  72.000000  72.000000  72.000000  72.000000  72.000000  72.000000   \n",
       "mean    2.192029   1.967424   2.181360   1.729308   1.980733  16.834075   \n",
       "std     2.454218   2.047129   2.542652   1.507149   2.230157   7.126802   \n",
       "min     0.853957   0.853957   0.853957   0.833898   0.833898   4.675683   \n",
       "25%     1.042783   1.011350   1.011350   1.003337   1.003337  11.186633   \n",
       "50%     1.339507   1.273861   1.298543   1.252527   1.252527  16.514389   \n",
       "75%     1.815754   1.647255   1.677971   1.625364   1.611299  21.849385   \n",
       "max    11.913855  10.883310  11.692697  10.392539  10.640754  49.295538   \n",
       "\n",
       "        CYorf15B      KDM5D     EIF1AY  \n",
       "count  72.000000  72.000000  72.000000  \n",
       "mean    1.825827   2.287380   1.756827  \n",
       "std     1.902716   3.185571   1.623151  \n",
       "min     0.833898   0.853957   0.833898  \n",
       "25%     1.003337   1.011350   1.003337  \n",
       "50%     1.252527   1.273861   1.252527  \n",
       "75%     1.607345   1.647255   1.611299  \n",
       "max     9.919132  17.278985   9.333904  \n",
       "\n",
       "[8 rows x 15748 columns]"
      ]
     },
     "execution_count": 5,
     "metadata": {},
     "output_type": "execute_result"
    }
   ],
   "source": [
    "data.describe()"
   ]
  },
  {
   "cell_type": "markdown",
   "id": "6c02069c",
   "metadata": {},
   "source": [
    "## Часть 1. Применение t-критерия Стьюдента"
   ]
  },
  {
   "cell_type": "markdown",
   "id": "ed752768",
   "metadata": {},
   "source": [
    "Для того, чтобы использовать двухвыборочный критерий Стьюдента, убедимся, что распределения в выборках существенно не отличаются от нормальных."
   ]
  },
  {
   "cell_type": "markdown",
   "id": "c45416e0",
   "metadata": {},
   "source": [
    "Построим QQ-PLOTs для первого гена в таблице."
   ]
  },
  {
   "cell_type": "code",
   "execution_count": 6,
   "id": "00a93482",
   "metadata": {},
   "outputs": [
    {
     "data": {
      "image/png": "[encoded data removed]",
      "text/plain": [
       "<Figure size 864x576 with 3 Axes>"
      ]
     },
     "metadata": {
      "needs_background": "light"
     },
     "output_type": "display_data"
    }
   ],
   "source": [
    "pylab.figure(figsize=(12,8))\n",
    "\n",
    "pylab.subplot(2,3,1)\n",
    "stats.probplot(data.LOC643837[data.Diagnosis == 'normal'], dist=\"norm\", plot=pylab)\n",
    "pylab.subplot(2,3,2)\n",
    "stats.probplot(data.LOC643837[data.Diagnosis == 'early neoplasia'], dist=\"norm\", plot=pylab)\n",
    "pylab.subplot(2,3,3)\n",
    "stats.probplot(data.LOC643837[data.Diagnosis == 'cancer'], dist=\"norm\", plot=pylab)\n",
    "pylab.show()"
   ]
  },
  {
   "cell_type": "markdown",
   "id": "29278962",
   "metadata": {},
   "source": [
    "А теперь проверим нормальность распределений с помощью Критерия Шапиро-Уилка:\n",
    "\n",
    " $H_0\\colon$ распределение активности гена в выборке - нормальное.\n",
    " \n",
    " $H_1\\colon$ не нормально."
   ]
  },
  {
   "cell_type": "markdown",
   "id": "25fd19bb",
   "metadata": {},
   "source": [
    "normal"
   ]
  },
  {
   "cell_type": "code",
   "execution_count": 7,
   "id": "8601742d",
   "metadata": {},
   "outputs": [
    {
     "name": "stdout",
     "output_type": "stream",
     "text": [
      "Shapiro-Wilk normality test, W-statistic: 0.895629, p-value: 0.017408\n"
     ]
    }
   ],
   "source": [
    "print(\"Shapiro-Wilk normality test, W-statistic: %f, p-value: %f\" % stats.shapiro(data.LOC643837[data.Diagnosis == 'normal']))"
   ]
  },
  {
   "cell_type": "markdown",
   "id": "d5ad270b",
   "metadata": {},
   "source": [
    "early neoplasia"
   ]
  },
  {
   "cell_type": "code",
   "execution_count": 8,
   "id": "6c906475",
   "metadata": {},
   "outputs": [
    {
     "name": "stdout",
     "output_type": "stream",
     "text": [
      "Shapiro-Wilk normality test, W-statistic: 0.897122, p-value: 0.015890\n"
     ]
    }
   ],
   "source": [
    "print(\"Shapiro-Wilk normality test, W-statistic: %f, p-value: %f\" % \n",
    "      stats.shapiro(data.LOC643837[data.Diagnosis == 'early neoplasia']))"
   ]
  },
  {
   "cell_type": "markdown",
   "id": "ee3af667",
   "metadata": {},
   "source": [
    "cancer"
   ]
  },
  {
   "cell_type": "code",
   "execution_count": 9,
   "id": "715c7799",
   "metadata": {},
   "outputs": [
    {
     "name": "stdout",
     "output_type": "stream",
     "text": [
      "Shapiro-Wilk normality test, W-statistic: 0.853136, p-value: 0.003103\n"
     ]
    }
   ],
   "source": [
    "print(\"Shapiro-Wilk normality test, W-statistic: %f, p-value: %f\" % \n",
    "      stats.shapiro(data.LOC643837[data.Diagnosis == 'cancer']))"
   ]
  },
  {
   "cell_type": "markdown",
   "id": "6a8756ec",
   "metadata": {},
   "source": [
    "Для каждого гена применим t-критерий Стьюдента для проверки равенства средних в двух независимых выборках."
   ]
  },
  {
   "cell_type": "markdown",
   "id": "d98eac57",
   "metadata": {},
   "source": [
    "Критерий Стьюдента:\n",
    "\n",
    "$H_0\\colon$ средние значения активности гена для пациентов без рака груди и пациентов с ранним обнаружением паталогии (пациентов с ранним обнаружением паталогии и больных раком) одинаковы.\n",
    "\n",
    "$H_1\\colon$ не одинаковы."
   ]
  },
  {
   "cell_type": "code",
   "execution_count": 10,
   "id": "2efc5979",
   "metadata": {},
   "outputs": [],
   "source": [
    "from scipy.stats import ttest_ind"
   ]
  },
  {
   "cell_type": "code",
   "execution_count": 11,
   "id": "316b151c",
   "metadata": {},
   "outputs": [],
   "source": [
    "pvalues = []\n",
    "\n",
    "for column in data.columns[2:]:\n",
    "    pvalues.append([ttest_ind(data[column][data.Diagnosis == 'normal'], \n",
    "                              data[column][data.Diagnosis == 'early neoplasia'],\n",
    "                              equal_var = False).pvalue,\n",
    "                    ttest_ind(data[column][data.Diagnosis == 'early neoplasia'], \n",
    "                              data[column][data.Diagnosis == 'cancer'],\n",
    "                              equal_var = False).pvalue])"
   ]
  },
  {
   "cell_type": "code",
   "execution_count": 12,
   "id": "019f0bb6",
   "metadata": {},
   "outputs": [],
   "source": [
    "pvalues_df = pd.DataFrame.from_records(pvalues, columns = ['normal & early neoplasia', 'early neoplasia & cancer'],\n",
    "                                       index = data.columns[2:])"
   ]
  },
  {
   "cell_type": "code",
   "execution_count": 13,
   "id": "e1fad7fd",
   "metadata": {},
   "outputs": [
    {
     "data": {
      "text/html": [
       "<div>\n",
       "<style scoped>\n",
       "    .dataframe tbody tr th:only-of-type {\n",
       "        vertical-align: middle;\n",
       "    }\n",
       "\n",
       "    .dataframe tbody tr th {\n",
       "        vertical-align: top;\n",
       "    }\n",
       "\n",
       "    .dataframe thead th {\n",
       "        text-align: right;\n",
       "    }\n",
       "</style>\n",
       "<table border=\"1\" class=\"dataframe\">\n",
       "  <thead>\n",
       "    <tr style=\"text-align: right;\">\n",
       "      <th></th>\n",
       "      <th>normal &amp; early neoplasia</th>\n",
       "      <th>early neoplasia &amp; cancer</th>\n",
       "    </tr>\n",
       "  </thead>\n",
       "  <tbody>\n",
       "    <tr>\n",
       "      <th>LOC643837</th>\n",
       "      <td>0.690766</td>\n",
       "      <td>0.413735</td>\n",
       "    </tr>\n",
       "    <tr>\n",
       "      <th>LOC100130417</th>\n",
       "      <td>0.000032</td>\n",
       "      <td>0.653429</td>\n",
       "    </tr>\n",
       "    <tr>\n",
       "      <th>SAMD11</th>\n",
       "      <td>0.060273</td>\n",
       "      <td>0.079556</td>\n",
       "    </tr>\n",
       "    <tr>\n",
       "      <th>NOC2L</th>\n",
       "      <td>0.826429</td>\n",
       "      <td>0.287581</td>\n",
       "    </tr>\n",
       "    <tr>\n",
       "      <th>KLHL17</th>\n",
       "      <td>0.049876</td>\n",
       "      <td>0.463292</td>\n",
       "    </tr>\n",
       "    <tr>\n",
       "      <th>...</th>\n",
       "      <td>...</td>\n",
       "      <td>...</td>\n",
       "    </tr>\n",
       "    <tr>\n",
       "      <th>DDX3Y</th>\n",
       "      <td>0.640904</td>\n",
       "      <td>0.659369</td>\n",
       "    </tr>\n",
       "    <tr>\n",
       "      <th>CD24</th>\n",
       "      <td>0.830134</td>\n",
       "      <td>0.330617</td>\n",
       "    </tr>\n",
       "    <tr>\n",
       "      <th>CYorf15B</th>\n",
       "      <td>0.670395</td>\n",
       "      <td>0.542939</td>\n",
       "    </tr>\n",
       "    <tr>\n",
       "      <th>KDM5D</th>\n",
       "      <td>0.793925</td>\n",
       "      <td>0.565753</td>\n",
       "    </tr>\n",
       "    <tr>\n",
       "      <th>EIF1AY</th>\n",
       "      <td>0.661031</td>\n",
       "      <td>0.639010</td>\n",
       "    </tr>\n",
       "  </tbody>\n",
       "</table>\n",
       "<p>15748 rows × 2 columns</p>\n",
       "</div>"
      ],
      "text/plain": [
       "              normal & early neoplasia  early neoplasia & cancer\n",
       "LOC643837                     0.690766                  0.413735\n",
       "LOC100130417                  0.000032                  0.653429\n",
       "SAMD11                        0.060273                  0.079556\n",
       "NOC2L                         0.826429                  0.287581\n",
       "KLHL17                        0.049876                  0.463292\n",
       "...                                ...                       ...\n",
       "DDX3Y                         0.640904                  0.659369\n",
       "CD24                          0.830134                  0.330617\n",
       "CYorf15B                      0.670395                  0.542939\n",
       "KDM5D                         0.793925                  0.565753\n",
       "EIF1AY                        0.661031                  0.639010\n",
       "\n",
       "[15748 rows x 2 columns]"
      ]
     },
     "execution_count": 13,
     "metadata": {},
     "output_type": "execute_result"
    }
   ],
   "source": [
    "pvalues_df"
   ]
  },
  {
   "cell_type": "code",
   "execution_count": 14,
   "id": "5e900bf5",
   "metadata": {},
   "outputs": [],
   "source": [
    "answer11 = pvalues_df[pvalues_df['normal & early neoplasia'] <= 0.05].shape[0]\n",
    "answer12 = pvalues_df[pvalues_df['early neoplasia & cancer'] <= 0.05].shape[0]"
   ]
  },
  {
   "cell_type": "code",
   "execution_count": 15,
   "id": "8d3ed03d",
   "metadata": {
    "scrolled": true
   },
   "outputs": [],
   "source": [
    "with open('answer11.txt', 'w') as fout:\n",
    "    fout.write(str(answer11))"
   ]
  },
  {
   "cell_type": "code",
   "execution_count": 16,
   "id": "676a9418",
   "metadata": {},
   "outputs": [],
   "source": [
    "with open('answer12.txt', 'w') as fout:\n",
    "    fout.write(str(answer12))"
   ]
  },
  {
   "cell_type": "markdown",
   "id": "f15fa997",
   "metadata": {},
   "source": [
    "## Часть 2: поправка методом Холма"
   ]
  },
  {
   "cell_type": "code",
   "execution_count": 17,
   "id": "e52cde5f",
   "metadata": {},
   "outputs": [],
   "source": [
    "import statsmodels.stats.multitest as smm"
   ]
  },
  {
   "cell_type": "code",
   "execution_count": 18,
   "id": "df3f4e56",
   "metadata": {},
   "outputs": [],
   "source": [
    "reject_1, p_corrected_1, a1, a2 = smm.multipletests(pvalues_df['normal & early neoplasia'], \n",
    "                                            alpha = 0.05 / 2, \n",
    "                                            method = 'holm') "
   ]
  },
  {
   "cell_type": "code",
   "execution_count": 19,
   "id": "7bb96c87",
   "metadata": {},
   "outputs": [],
   "source": [
    "reject_2, p_corrected_2, a1, a2 = smm.multipletests(pvalues_df['early neoplasia & cancer'], \n",
    "                                            alpha = 0.05 / 2, \n",
    "                                            method = 'holm') "
   ]
  },
  {
   "cell_type": "code",
   "execution_count": 20,
   "id": "0c8d157f",
   "metadata": {},
   "outputs": [],
   "source": [
    "reject_df = pd.DataFrame.from_records((reject_1, reject_2),\n",
    "                                       index = ['normal & early neoplasia', 'early neoplasia & cancer'],\n",
    "                                       columns = data.columns[2:])"
   ]
  },
  {
   "cell_type": "code",
   "execution_count": 21,
   "id": "c0b6fb23",
   "metadata": {},
   "outputs": [],
   "source": [
    "fc_list_ne = []\n",
    "fc_list_ec = []\n",
    "\n",
    "for column in reject_df.columns:\n",
    "    if reject_df[column][0] == True:\n",
    "        C = data[column][data.Diagnosis == 'normal'].mean()\n",
    "        T = data[column][data.Diagnosis == 'early neoplasia'].mean()\n",
    "        if T > C:\n",
    "            fc_list_ne.append(T / C)\n",
    "        else:\n",
    "            fc_list_ne.append(- C / T)\n",
    "    if reject_df[column][1] == True:\n",
    "        C = data[column][data.Diagnosis == 'early neoplasia'].mean()\n",
    "        T = data[column][data.Diagnosis == 'cancer'].mean()\n",
    "        if T > C:\n",
    "            fc_list_ec.append(T / C)\n",
    "        else:\n",
    "            fc_list_ec.append(- C / T)"
   ]
  },
  {
   "cell_type": "code",
   "execution_count": 22,
   "id": "99a136d2",
   "metadata": {},
   "outputs": [],
   "source": [
    "answer21 = len([fc for fc in fc_list_ne if abs(fc) > 1.5])\n",
    "answer22 = len([fc for fc in fc_list_ec if abs(fc) > 1.5])"
   ]
  },
  {
   "cell_type": "code",
   "execution_count": 23,
   "id": "d68dc129",
   "metadata": {},
   "outputs": [],
   "source": [
    "with open('answer21.txt', 'w') as fout:\n",
    "    fout.write(str(answer21))"
   ]
  },
  {
   "cell_type": "code",
   "execution_count": 24,
   "id": "6c0331a2",
   "metadata": {},
   "outputs": [],
   "source": [
    "with open('answer22.txt', 'w') as fout:\n",
    "    fout.write(str(answer22))"
   ]
  },
  {
   "cell_type": "markdown",
   "id": "496c13a9",
   "metadata": {},
   "source": [
    "## Часть 3: поправка методом Бенджамини-Хохберга"
   ]
  },
  {
   "cell_type": "code",
   "execution_count": 25,
   "id": "336736cb",
   "metadata": {},
   "outputs": [],
   "source": [
    "reject_1, p_corrected_1, a1, a2 = smm.multipletests(pvalues_df['normal & early neoplasia'], \n",
    "                                            alpha = 0.05 / 2, \n",
    "                                            method = 'fdr_bh') "
   ]
  },
  {
   "cell_type": "code",
   "execution_count": 26,
   "id": "91542f03",
   "metadata": {},
   "outputs": [],
   "source": [
    "reject_2, p_corrected_2, a1, a2 = smm.multipletests(pvalues_df['early neoplasia & cancer'], \n",
    "                                            alpha = 0.05 / 2, \n",
    "                                            method = 'fdr_bh') "
   ]
  },
  {
   "cell_type": "code",
   "execution_count": 27,
   "id": "0365d040",
   "metadata": {},
   "outputs": [],
   "source": [
    "reject_df = pd.DataFrame.from_records((reject_1, reject_2),\n",
    "                                       index = ['normal & early neoplasia', 'early neoplasia & cancer'],\n",
    "                                       columns = data.columns[2:])"
   ]
  },
  {
   "cell_type": "code",
   "execution_count": 28,
   "id": "ee8edb52",
   "metadata": {},
   "outputs": [],
   "source": [
    "fc_list_ne = []\n",
    "fc_list_ec = []\n",
    "\n",
    "for column in reject_df.columns:\n",
    "    if reject_df[column][0] == True:\n",
    "        C = data[column][data.Diagnosis == 'normal'].mean()\n",
    "        T = data[column][data.Diagnosis == 'early neoplasia'].mean()\n",
    "        if T > C:\n",
    "            fc_list_ne.append(T / C)\n",
    "        else:\n",
    "            fc_list_ne.append(- C / T)\n",
    "    if reject_df[column][1] == True:\n",
    "        C = data[column][data.Diagnosis == 'early neoplasia'].mean()\n",
    "        T = data[column][data.Diagnosis == 'cancer'].mean()\n",
    "        if T > C:\n",
    "            fc_list_ec.append(T / C)\n",
    "        else:\n",
    "            fc_list_ec.append(- C / T)"
   ]
  },
  {
   "cell_type": "code",
   "execution_count": 29,
   "id": "5f0d6216",
   "metadata": {},
   "outputs": [],
   "source": [
    "answer31 = len([fc for fc in fc_list_ne if abs(fc) > 1.5])\n",
    "answer32 = len([fc for fc in fc_list_ec if abs(fc) > 1.5])"
   ]
  },
  {
   "cell_type": "code",
   "execution_count": 30,
   "id": "e10e985f",
   "metadata": {},
   "outputs": [],
   "source": [
    "with open('answer31.txt', 'w') as fout:\n",
    "    fout.write(str(answer31))"
   ]
  },
  {
   "cell_type": "code",
   "execution_count": 31,
   "id": "3a1a9cf7",
   "metadata": {},
   "outputs": [],
   "source": [
    "with open('answer32.txt', 'w') as fout:\n",
    "    fout.write(str(answer32))"
   ]
  }
 ],
 "metadata": {
  "kernelspec": {
   "display_name": "Python 3",
   "language": "python",
   "name": "python3"
  },
  "language_info": {
   "codemirror_mode": {
    "name": "ipython",
    "version": 3
   },
   "file_extension": ".py",
   "mimetype": "text/x-python",
   "name": "python",
   "nbconvert_exporter": "python",
   "pygments_lexer": "ipython3",
   "version": "3.8.8"
  }
 },
 "nbformat": 4,
 "nbformat_minor": 5
}
